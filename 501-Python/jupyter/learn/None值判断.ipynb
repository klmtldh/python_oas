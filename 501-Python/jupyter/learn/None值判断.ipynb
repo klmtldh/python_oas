{
 "cells": [
  {
   "cell_type": "code",
   "execution_count": 3,
   "id": "acceptable-raise",
   "metadata": {},
   "outputs": [
    {
     "name": "stdout",
     "output_type": "stream",
     "text": [
      "False\n",
      "   一  二  三       开始日期       结束日期\n",
      "0  A  1  5 2020-12-31 2021-01-08\n",
      "1  D  2  4 2021-02-26 2021-03-07\n",
      "2  C  3  0 2021-01-20 2022-03-08\n"
     ]
    }
   ],
   "source": [
    "import pandas as pd\n",
    "x=None\n",
    "print(x is not None)\n",
    "df=pd.DataFrame(\n",
    "                [\n",
    "                    ['A',1,5,pd.to_datetime('2020-12-31'),pd.to_datetime('2021-1-8')],\n",
    "                    ['D',2,4,pd.to_datetime('2021-2-26'),pd.to_datetime('2021-3-7')],\n",
    "                    ['C',3,0,pd.to_datetime('2021-1-20'),pd.to_datetime('2022-3-8')],\n",
    "                ]\n",
    "                ,columns=['一','二','三','开始日期','结束日期']\n",
    "                )\n",
    "\n",
    "df.style.bar(\"二\",vmin=0)\n",
    "print(df)"
   ]
  },
  {
   "cell_type": "code",
   "execution_count": null,
   "id": "patient-argentina",
   "metadata": {},
   "outputs": [],
   "source": []
  },
  {
   "cell_type": "code",
   "execution_count": null,
   "id": "hawaiian-universe",
   "metadata": {},
   "outputs": [],
   "source": []
  }
 ],
 "metadata": {
  "kernelspec": {
   "display_name": "Python 3",
   "language": "python",
   "name": "python3"
  },
  "language_info": {
   "codemirror_mode": {
    "name": "ipython",
    "version": 3
   },
   "file_extension": ".py",
   "mimetype": "text/x-python",
   "name": "python",
   "nbconvert_exporter": "python",
   "pygments_lexer": "ipython3",
   "version": "3.8.5"
  },
  "toc": {
   "base_numbering": 1,
   "nav_menu": {},
   "number_sections": true,
   "sideBar": true,
   "skip_h1_title": false,
   "title_cell": "Table of Contents",
   "title_sidebar": "Contents",
   "toc_cell": false,
   "toc_position": {},
   "toc_section_display": true,
   "toc_window_display": false
  },
  "varInspector": {
   "cols": {
    "lenName": 16,
    "lenType": 16,
    "lenVar": 40
   },
   "kernels_config": {
    "python": {
     "delete_cmd_postfix": "",
     "delete_cmd_prefix": "del ",
     "library": "var_list.py",
     "varRefreshCmd": "print(var_dic_list())"
    },
    "r": {
     "delete_cmd_postfix": ") ",
     "delete_cmd_prefix": "rm(",
     "library": "var_list.r",
     "varRefreshCmd": "cat(var_dic_list()) "
    }
   },
   "types_to_exclude": [
    "module",
    "function",
    "builtin_function_or_method",
    "instance",
    "_Feature"
   ],
   "window_display": true
  }
 },
 "nbformat": 4,
 "nbformat_minor": 5
}
