{
 "cells": [
  {
   "cell_type": "markdown",
   "id": "olympic-august",
   "metadata": {},
   "source": [
    "# Python 秘籍"
   ]
  },
  {
   "cell_type": "markdown",
   "id": "framed-worse",
   "metadata": {},
   "source": [
    "## 列表内容转字符串"
   ]
  },
  {
   "cell_type": "code",
   "execution_count": 6,
   "id": "southwest-representation",
   "metadata": {},
   "outputs": [
    {
     "data": {
      "text/plain": [
       "'我是Pythoneer666'"
      ]
     },
     "execution_count": 6,
     "metadata": {},
     "output_type": "execute_result"
    }
   ],
   "source": [
    "from IPython.core.interactiveshell import InteractiveShell\n",
    "InteractiveShell.ast_node_interactivity = 'all'\n",
    "\n",
    "my_list = ['我是','Pythoneer',666]\n",
    "my_text = ''.join(map(str,my_list))\n",
    "my_text"
   ]
  },
  {
   "cell_type": "markdown",
   "id": "tired-niger",
   "metadata": {},
   "source": [
    "在日常工作中，经常会遇到将列表转换为字符串的情况，而列表中会存在字符串、数字等类型的数据，通过map将列表中元素转换成str类型，然后通过join函数就可以完成列表到字符串的转换。\n",
    "## 频率统计 "
   ]
  },
  {
   "cell_type": "code",
   "execution_count": 8,
   "id": "surrounded-nurse",
   "metadata": {},
   "outputs": [
    {
     "data": {
      "text/plain": [
       "Counter({'孔': 1,\n",
       "         '令': 1,\n",
       "         '是': 1,\n",
       "         'P': 1,\n",
       "         'y': 1,\n",
       "         't': 1,\n",
       "         'h': 1,\n",
       "         'o': 1,\n",
       "         'n': 1,\n",
       "         'e': 2,\n",
       "         'r': 1,\n",
       "         '6': 3})"
      ]
     },
     "execution_count": 8,
     "metadata": {},
     "output_type": "execute_result"
    },
    {
     "data": {
      "text/plain": [
       "Counter({'我是': 1, 'Pythoneer': 1, 666: 1})"
      ]
     },
     "execution_count": 8,
     "metadata": {},
     "output_type": "execute_result"
    }
   ],
   "source": [
    "from collections import Counter\n",
    "str_1 = '孔令是Pythoneer666'\n",
    "my_list = ['我是','Pythoneer',666]\n",
    "str_1_counter = Counter(str_1)\n",
    "str_1_counter\n",
    "my_list_counter =Counter(my_list)\n",
    "my_list_counter"
   ]
  },
  {
   "cell_type": "markdown",
   "id": "promotional-skating",
   "metadata": {},
   "source": [
    "在进行数据分析时，经常会用到频率统计，通过Python内置库collections中的Counter函数，可以快速实现频率统计。\n",
    "## 文件查阅"
   ]
  },
  {
   "cell_type": "code",
   "execution_count": 15,
   "id": "loaded-business",
   "metadata": {},
   "outputs": [
    {
     "name": "stdout",
     "output_type": "stream",
     "text": [
      "C:\\Users\\klmtl\\Documents\\WXWorkLocal\\1688849876466865_1970324998057184\\Cache\\File\\2021-03\\2021年安监业务领域工作思路及要求-定稿.pptx\n",
      "C:\\Users\\klmtl\\Documents\\WXWorkLocal\\1688849876466865_1970324998057184\\Cache\\File\\2021-03\\《刑法修正案（十一）》解读.pptx\n",
      "C:\\Users\\klmtl\\Documents\\WXWorkLocal\\1688849876466865_1970324998057184\\Cache\\File\\2021-03\\《刑法修正案（十一）》解读V4.pptx\n",
      "C:\\Users\\klmtl\\Documents\\WXWorkLocal\\1688849876466865_1970324998057184\\Cache\\File\\2021-03\\《刑法修正案（十一）》解读（定稿）.pptx\n",
      "C:\\Users\\klmtl\\Documents\\WXWorkLocal\\1688849876466865_1970324998057184\\Cache\\File\\2021-03\\《刑法修正案（十一）》解读（定稿）V2.pptx\n"
     ]
    }
   ],
   "source": [
    "import glob\n",
    "for f in glob.glob(r'C:\\Users\\klmtl\\Documents\\WXWorkLocal\\1688849876466865_1970324998057184\\Cache\\File\\2021-03\\*'):\n",
    "    if f.endswith('.pptx'):\n",
    "        print(f)"
   ]
  },
  {
   "cell_type": "markdown",
   "id": "conceptual-cincinnati",
   "metadata": {},
   "source": [
    "通过glob库可以查询某文件夹下所有的文件，然后通过对文件的类型进行判断，可以输出某些特定类型的文件。\n",
    "## 字典值得获取"
   ]
  },
  {
   "cell_type": "code",
   "execution_count": 17,
   "id": "answering-publication",
   "metadata": {},
   "outputs": [
    {
     "data": {
      "text/plain": [
       "0"
      ]
     },
     "execution_count": 17,
     "metadata": {},
     "output_type": "execute_result"
    },
    {
     "data": {
      "text/plain": [
       "1"
      ]
     },
     "execution_count": 17,
     "metadata": {},
     "output_type": "execute_result"
    }
   ],
   "source": [
    "dict_1 = {'a':1,'b':2,'c':3}\n",
    "d = dict_1.get('d',0)\n",
    "d\n",
    "a = dict_1.get('a',1)\n",
    "a"
   ]
  },
  {
   "cell_type": "markdown",
   "id": "moral-spirit",
   "metadata": {},
   "source": [
    "在字典数值获取时，我们有时候不知道字典中是否有某个键值，利用get函数来进行获取，如果有的话，就返回数值，如果没有的话就返回默认值(上述默认值为0)。这样便会提升程序的鲁棒性。\n",
    "## 中文提取"
   ]
  },
  {
   "cell_type": "code",
   "execution_count": 19,
   "id": "sorted-policy",
   "metadata": {},
   "outputs": [
    {
     "data": {
      "text/plain": [
       "['孔令是', '也是']"
      ]
     },
     "execution_count": 19,
     "metadata": {},
     "output_type": "execute_result"
    }
   ],
   "source": [
    "import re\n",
    "str_2 = '孔令是Pythoneer，也是Runeer，666。'\n",
    "pattern = re.compile(u\"[\\u4e00-\\u9fa5]+\")\n",
    "result = re.findall(pattern,str_2)\n",
    "result"
   ]
  },
  {
   "cell_type": "markdown",
   "id": "sitting-hospital",
   "metadata": {},
   "source": [
    "通过正则表达式的匹配，可以在复杂的文本中提取中文词句，提升效率。\n",
    "## 进度条显示"
   ]
  },
  {
   "cell_type": "code",
   "execution_count": 31,
   "id": "growing-edwards",
   "metadata": {},
   "outputs": [
    {
     "name": "stderr",
     "output_type": "stream",
     "text": [
      "100%|██████████████████████████████████████████████████████████████████████████████████| 10/10 [00:00<00:00, 64.76it/s]\n",
      "100%|████████████████████████████████████████████████████████████████████████████████| 100/100 [00:01<00:00, 61.04it/s]\n",
      "Processing e: 100%|██████████████████████████████████████████████████████████████████████| 5/5 [00:01<00:00,  4.83it/s]\n",
      "Processing::   5%|███▍                                                                | 10/200 [00:00<00:02, 92.17it/s]"
     ]
    },
    {
     "data": {
      "text/plain": [
       "True"
      ]
     },
     "execution_count": 31,
     "metadata": {},
     "output_type": "execute_result"
    },
    {
     "name": "stderr",
     "output_type": "stream",
     "text": [
      "\r",
      "Processing::  10%|██████▊                                                             | 20/200 [00:00<00:02, 87.26it/s]"
     ]
    },
    {
     "data": {
      "text/plain": [
       "True"
      ]
     },
     "execution_count": 31,
     "metadata": {},
     "output_type": "execute_result"
    },
    {
     "name": "stderr",
     "output_type": "stream",
     "text": [
      "\r",
      "Processing::  15%|██████████▏                                                         | 30/200 [00:00<00:01, 86.50it/s]"
     ]
    },
    {
     "data": {
      "text/plain": [
       "True"
      ]
     },
     "execution_count": 31,
     "metadata": {},
     "output_type": "execute_result"
    },
    {
     "name": "stderr",
     "output_type": "stream",
     "text": [
      "\r",
      "Processing::  20%|█████████████▌                                                      | 40/200 [00:00<00:01, 85.41it/s]"
     ]
    },
    {
     "data": {
      "text/plain": [
       "True"
      ]
     },
     "execution_count": 31,
     "metadata": {},
     "output_type": "execute_result"
    },
    {
     "name": "stderr",
     "output_type": "stream",
     "text": [
      "\r",
      "Processing::  25%|█████████████████                                                   | 50/200 [00:00<00:01, 86.21it/s]"
     ]
    },
    {
     "data": {
      "text/plain": [
       "True"
      ]
     },
     "execution_count": 31,
     "metadata": {},
     "output_type": "execute_result"
    },
    {
     "name": "stderr",
     "output_type": "stream",
     "text": [
      "\r",
      "Processing::  30%|████████████████████▍                                               | 60/200 [00:00<00:01, 87.31it/s]"
     ]
    },
    {
     "data": {
      "text/plain": [
       "True"
      ]
     },
     "execution_count": 31,
     "metadata": {},
     "output_type": "execute_result"
    },
    {
     "name": "stderr",
     "output_type": "stream",
     "text": [
      "\r",
      "Processing::  35%|███████████████████████▊                                            | 70/200 [00:00<00:01, 89.24it/s]"
     ]
    },
    {
     "data": {
      "text/plain": [
       "True"
      ]
     },
     "execution_count": 31,
     "metadata": {},
     "output_type": "execute_result"
    },
    {
     "name": "stderr",
     "output_type": "stream",
     "text": [
      "\r",
      "Processing::  40%|███████████████████████████▏                                        | 80/200 [00:00<00:01, 89.92it/s]"
     ]
    },
    {
     "data": {
      "text/plain": [
       "True"
      ]
     },
     "execution_count": 31,
     "metadata": {},
     "output_type": "execute_result"
    },
    {
     "name": "stderr",
     "output_type": "stream",
     "text": [
      "\r",
      "Processing::  45%|██████████████████████████████▌                                     | 90/200 [00:01<00:01, 89.35it/s]"
     ]
    },
    {
     "data": {
      "text/plain": [
       "True"
      ]
     },
     "execution_count": 31,
     "metadata": {},
     "output_type": "execute_result"
    },
    {
     "name": "stderr",
     "output_type": "stream",
     "text": [
      "\r",
      "Processing::  50%|█████████████████████████████████▌                                 | 100/200 [00:01<00:01, 86.70it/s]"
     ]
    },
    {
     "data": {
      "text/plain": [
       "True"
      ]
     },
     "execution_count": 31,
     "metadata": {},
     "output_type": "execute_result"
    },
    {
     "name": "stderr",
     "output_type": "stream",
     "text": [
      "\r",
      "Processing::  55%|████████████████████████████████████▊                              | 110/200 [00:01<00:01, 86.52it/s]"
     ]
    },
    {
     "data": {
      "text/plain": [
       "True"
      ]
     },
     "execution_count": 31,
     "metadata": {},
     "output_type": "execute_result"
    },
    {
     "name": "stderr",
     "output_type": "stream",
     "text": [
      "\r",
      "Processing::  60%|████████████████████████████████████████▏                          | 120/200 [00:01<00:00, 85.73it/s]"
     ]
    },
    {
     "data": {
      "text/plain": [
       "True"
      ]
     },
     "execution_count": 31,
     "metadata": {},
     "output_type": "execute_result"
    },
    {
     "name": "stderr",
     "output_type": "stream",
     "text": [
      "\r",
      "Processing::  65%|███████████████████████████████████████████▌                       | 130/200 [00:01<00:00, 87.16it/s]"
     ]
    },
    {
     "data": {
      "text/plain": [
       "True"
      ]
     },
     "execution_count": 31,
     "metadata": {},
     "output_type": "execute_result"
    },
    {
     "name": "stderr",
     "output_type": "stream",
     "text": [
      "\r",
      "Processing::  70%|██████████████████████████████████████████████▉                    | 140/200 [00:01<00:00, 87.15it/s]"
     ]
    },
    {
     "data": {
      "text/plain": [
       "True"
      ]
     },
     "execution_count": 31,
     "metadata": {},
     "output_type": "execute_result"
    },
    {
     "name": "stderr",
     "output_type": "stream",
     "text": [
      "\r",
      "Processing::  75%|██████████████████████████████████████████████████▎                | 150/200 [00:01<00:00, 88.68it/s]"
     ]
    },
    {
     "data": {
      "text/plain": [
       "True"
      ]
     },
     "execution_count": 31,
     "metadata": {},
     "output_type": "execute_result"
    },
    {
     "name": "stderr",
     "output_type": "stream",
     "text": [
      "\r",
      "Processing::  80%|█████████████████████████████████████████████████████▌             | 160/200 [00:01<00:00, 90.26it/s]"
     ]
    },
    {
     "data": {
      "text/plain": [
       "True"
      ]
     },
     "execution_count": 31,
     "metadata": {},
     "output_type": "execute_result"
    },
    {
     "name": "stderr",
     "output_type": "stream",
     "text": [
      "\r",
      "Processing::  85%|████████████████████████████████████████████████████████▉          | 170/200 [00:01<00:00, 90.61it/s]"
     ]
    },
    {
     "data": {
      "text/plain": [
       "True"
      ]
     },
     "execution_count": 31,
     "metadata": {},
     "output_type": "execute_result"
    },
    {
     "name": "stderr",
     "output_type": "stream",
     "text": [
      "\r",
      "Processing::  90%|████████████████████████████████████████████████████████████▎      | 180/200 [00:02<00:00, 91.14it/s]"
     ]
    },
    {
     "data": {
      "text/plain": [
       "True"
      ]
     },
     "execution_count": 31,
     "metadata": {},
     "output_type": "execute_result"
    },
    {
     "name": "stderr",
     "output_type": "stream",
     "text": [
      "\r",
      "Processing::  95%|███████████████████████████████████████████████████████████████▋   | 190/200 [00:02<00:00, 90.36it/s]"
     ]
    },
    {
     "data": {
      "text/plain": [
       "True"
      ]
     },
     "execution_count": 31,
     "metadata": {},
     "output_type": "execute_result"
    },
    {
     "name": "stderr",
     "output_type": "stream",
     "text": [
      "\r",
      "Processing:: 100%|███████████████████████████████████████████████████████████████████| 200/200 [00:02<00:00, 88.59it/s]"
     ]
    },
    {
     "data": {
      "text/plain": [
       "True"
      ]
     },
     "execution_count": 31,
     "metadata": {},
     "output_type": "execute_result"
    },
    {
     "name": "stderr",
     "output_type": "stream",
     "text": [
      "Processing:: 100%|███████████████████████████████████████████████████████████████████| 200/200 [00:02<00:00, 87.90it/s]\n"
     ]
    }
   ],
   "source": [
    "import time\n",
    "import tqdm\n",
    "#import progressbar\n",
    "for i in tqdm.tqdm(range(10)):\n",
    "    time.sleep(0.01)\n",
    "for i in tqdm.trange(100):\n",
    "    time.sleep(0.01)\n",
    "\n",
    "dic = ['a', 'b', 'c', 'd', 'e']\n",
    "pbar = tqdm.tqdm(dic)\n",
    "for i in pbar:\n",
    "    pbar.set_description('Processing '+i)\n",
    "    time.sleep(0.2)\n",
    "\n",
    "with tqdm.tqdm(total=200) as pbar:\n",
    "    pbar.set_description('Processing:')\n",
    "    # total表示总的项目, 循环的次数20*10(每次更新数目) = 200(total)\n",
    "    for i in range(20):\n",
    "        # 进行动作, 这里是过0.1s\n",
    "        time.sleep(0.1)\n",
    "        # 进行进度更新, 这里设置10个\n",
    "        pbar.update(10)"
   ]
  },
  {
   "cell_type": "markdown",
   "id": "radical-playing",
   "metadata": {},
   "source": [
    "对于进度条的显示，可以利用progressbar库或者是tqdm库两种方式进行实现。\n",
    "\n",
    "## 两个列表比较"
   ]
  },
  {
   "cell_type": "code",
   "execution_count": 38,
   "id": "stock-influence",
   "metadata": {},
   "outputs": [
    {
     "name": "stdout",
     "output_type": "stream",
     "text": [
      "两个列表中相同元素 {'孔令', 'Python'}\n",
      "两个列表中不同元素 {'123', '666'}\n",
      "第一个列表与第二个列表不相同元素 {'123'}\n",
      "第二个列表与第一个列表不相同元素 {'666'}\n"
     ]
    }
   ],
   "source": [
    "list_1 = ['孔令','Python','123']\n",
    "list_2 = ['孔令','Python','666']\n",
    "print(\"两个列表中相同元素\",set(set(list_1)&set(list_2)))\n",
    "print(\"两个列表中不同元素\",set(set(list_1)^set(list_2)))\n",
    "print(\"第一个列表与第二个列表不相同元素\",set(set(list_1)^set(set(set(list_1)&set(list_2)))))\n",
    "print(\"第二个列表与第一个列表不相同元素\",set(set(set(set(list_1)&set(list_2))))^set(list_2))"
   ]
  },
  {
   "cell_type": "markdown",
   "id": "impossible-morris",
   "metadata": {},
   "source": [
    "通过set和Python中的位运算，一行代码就可以筛选出两个不同的列表之间相同的元素和不同的元素，非常的方便。\n",
    "## 利用好zip"
   ]
  },
  {
   "cell_type": "code",
   "execution_count": 42,
   "id": "coated-sport",
   "metadata": {},
   "outputs": [
    {
     "data": {
      "text/plain": [
       "{'a': 1, 'b': 2, 'c': 3}"
      ]
     },
     "execution_count": 42,
     "metadata": {},
     "output_type": "execute_result"
    },
    {
     "data": {
      "text/plain": [
       "('a', 1)"
      ]
     },
     "execution_count": 42,
     "metadata": {},
     "output_type": "execute_result"
    },
    {
     "data": {
      "text/plain": [
       "('b', 2)"
      ]
     },
     "execution_count": 42,
     "metadata": {},
     "output_type": "execute_result"
    },
    {
     "data": {
      "text/plain": [
       "('c', 3)"
      ]
     },
     "execution_count": 42,
     "metadata": {},
     "output_type": "execute_result"
    }
   ],
   "source": [
    "keys = ['a','b','c']\n",
    "values = [1,2,3,4]\n",
    "dict_2 = dict(zip(keys,values))\n",
    "dict_2\n",
    "for i,j in zip(keys,values):\n",
    "    i,j"
   ]
  },
  {
   "cell_type": "markdown",
   "id": "corrected-unknown",
   "metadata": {},
   "source": [
    "利用zip函数，可以将两个列表合并成字典，或者是直接对两个列表的数值进行操作，需要注意的是，zip函数会以长度小的列表为基准来进行操作。\n",
    "## 字符串的反转"
   ]
  },
  {
   "cell_type": "code",
   "execution_count": 47,
   "id": "adolescent-science",
   "metadata": {},
   "outputs": [
    {
     "name": "stdout",
     "output_type": "stream",
     "text": [
      "reenohtyP是我，令孔是我\n",
      "reenohtyP是我，令孔是我\n"
     ]
    }
   ],
   "source": [
    "str_3 = '我是孔令，我是Pythoneer'\n",
    "print(str_3[::-1])\n",
    "print(''.join(reversed(str_3)))"
   ]
  },
  {
   "cell_type": "markdown",
   "id": "structured-taiwan",
   "metadata": {},
   "source": [
    "对于字符串的反转，可以采用切片处理，或者利用Python内置的reversed函数来实现。\n",
    "## 匿名函数"
   ]
  },
  {
   "cell_type": "code",
   "execution_count": 49,
   "id": "directed-catalyst",
   "metadata": {},
   "outputs": [
    {
     "data": {
      "text/plain": [
       "3"
      ]
     },
     "execution_count": 49,
     "metadata": {},
     "output_type": "execute_result"
    },
    {
     "data": {
      "text/plain": [
       "7"
      ]
     },
     "execution_count": 49,
     "metadata": {},
     "output_type": "execute_result"
    }
   ],
   "source": [
    "def andnorm(a,b):\n",
    "    return a+b\n",
    "add = lambda a,b :a+b\n",
    "andnorm(1,2)\n",
    "add(3,4)\n"
   ]
  },
  {
   "cell_type": "markdown",
   "id": "dated-kingston",
   "metadata": {},
   "source": [
    "匿名函数可以让我们在函数定义时不需要显式的定义函数，同样 可以完成常规函数的功能。\n",
    "## 去除列表中重复元素"
   ]
  },
  {
   "cell_type": "code",
   "execution_count": 50,
   "id": "serial-counter",
   "metadata": {},
   "outputs": [
    {
     "data": {
      "text/plain": [
       "[1, 2, 3, 4, 5, 6, 7]"
      ]
     },
     "execution_count": 50,
     "metadata": {},
     "output_type": "execute_result"
    }
   ],
   "source": [
    "list_3 = [1,2,3,4,5,6,7,1,2,3,5]\n",
    "list(set(list_3))"
   ]
  },
  {
   "cell_type": "markdown",
   "id": "labeled-airfare",
   "metadata": {},
   "source": [
    "在列表去重中要善于利用set的特性来帮助我们去除重复的元素。\n",
    "## 安全的打开文件"
   ]
  },
  {
   "cell_type": "code",
   "execution_count": 56,
   "id": "bridal-contact",
   "metadata": {},
   "outputs": [
    {
     "data": {
      "text/plain": [
       "4"
      ]
     },
     "execution_count": 56,
     "metadata": {},
     "output_type": "execute_result"
    }
   ],
   "source": [
    "with open(r'D:\\JGY\\600-Data\\006-temporary临时文件\\text.txt','w') as fw:\n",
    "    fw.write('c测试\\n')\n",
    "    "
   ]
  },
  {
   "cell_type": "markdown",
   "id": "negative-variance",
   "metadata": {},
   "source": [
    "在程序中，对于文件流对象的使用，为了防止文件打开失败，或者是文件使用完毕后忘记调用close()函数来关闭流对象，建议大家使用with...as的方式来打开文件，这样在with语句块使用完毕后，程序会自动帮助我们关闭文件。\n",
    "\n",
    "\n",
    "\n",
    "同时在文件调用时，建议大家根据不同的文件调用方式来命名，例如对于文件读取使用“fr\",文件的写入使用\"fw\",文件末尾插入采用\"fa\"来命名，方便自己来区分。"
   ]
  },
  {
   "cell_type": "code",
   "execution_count": null,
   "id": "universal-monkey",
   "metadata": {},
   "outputs": [],
   "source": []
  }
 ],
 "metadata": {
  "kernelspec": {
   "display_name": "Python 3",
   "language": "python",
   "name": "python3"
  },
  "language_info": {
   "codemirror_mode": {
    "name": "ipython",
    "version": 3
   },
   "file_extension": ".py",
   "mimetype": "text/x-python",
   "name": "python",
   "nbconvert_exporter": "python",
   "pygments_lexer": "ipython3",
   "version": "3.8.5"
  },
  "toc": {
   "base_numbering": 1,
   "nav_menu": {},
   "number_sections": true,
   "sideBar": true,
   "skip_h1_title": false,
   "title_cell": "Table of Contents",
   "title_sidebar": "Contents",
   "toc_cell": false,
   "toc_position": {},
   "toc_section_display": true,
   "toc_window_display": false
  },
  "varInspector": {
   "cols": {
    "lenName": 16,
    "lenType": 16,
    "lenVar": 40
   },
   "kernels_config": {
    "python": {
     "delete_cmd_postfix": "",
     "delete_cmd_prefix": "del ",
     "library": "var_list.py",
     "varRefreshCmd": "print(var_dic_list())"
    },
    "r": {
     "delete_cmd_postfix": ") ",
     "delete_cmd_prefix": "rm(",
     "library": "var_list.r",
     "varRefreshCmd": "cat(var_dic_list()) "
    }
   },
   "types_to_exclude": [
    "module",
    "function",
    "builtin_function_or_method",
    "instance",
    "_Feature"
   ],
   "window_display": false
  }
 },
 "nbformat": 4,
 "nbformat_minor": 5
}
