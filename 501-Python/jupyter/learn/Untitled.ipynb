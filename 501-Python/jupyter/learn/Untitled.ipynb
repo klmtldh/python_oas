{
 "cells": [
  {
   "cell_type": "code",
   "execution_count": 2,
   "id": "egyptian-squad",
   "metadata": {},
   "outputs": [
    {
     "name": "stdout",
     "output_type": "stream",
     "text": [
      "(1, 2, 4, 6, 8)\n",
      "(1, 2, 4, 6, 9)\n",
      "(1, 2, 4, 6, 10)\n",
      "(1, 2, 4, 7, 8)\n",
      "(1, 2, 4, 7, 9)\n",
      "(1, 2, 4, 7, 10)\n",
      "(1, 2, 4, 8, 9)\n",
      "(1, 2, 4, 8, 10)\n",
      "(1, 2, 7, 8, 9)\n",
      "(1, 2, 7, 8, 10)\n",
      "(1, 3, 4, 6, 8)\n",
      "(1, 3, 4, 6, 9)\n",
      "(1, 3, 4, 6, 10)\n",
      "(1, 3, 4, 7, 8)\n",
      "(1, 3, 4, 7, 9)\n",
      "(1, 3, 4, 7, 10)\n",
      "(1, 3, 4, 8, 9)\n",
      "(1, 3, 4, 8, 10)\n",
      "(1, 3, 7, 8, 9)\n",
      "(1, 3, 7, 8, 10)\n",
      "(1, 4, 7, 8, 9)\n",
      "(1, 4, 7, 8, 10)\n",
      "(1, 5, 7, 8, 9)\n",
      "(1, 5, 7, 8, 10)\n",
      "(2, 3, 4, 6, 8)\n",
      "(2, 3, 4, 6, 9)\n",
      "(2, 3, 4, 6, 10)\n",
      "(2, 3, 4, 7, 8)\n",
      "(2, 3, 4, 7, 9)\n",
      "(2, 3, 4, 7, 10)\n",
      "(2, 3, 4, 8, 9)\n",
      "(2, 3, 4, 8, 10)\n",
      "(2, 3, 7, 8, 9)\n",
      "(2, 3, 7, 8, 10)\n",
      "(2, 4, 7, 8, 9)\n",
      "(2, 4, 7, 8, 10)\n",
      "(2, 5, 7, 8, 9)\n",
      "(2, 5, 7, 8, 10)\n",
      "(4, 5, 7, 8, 9)\n",
      "(4, 5, 7, 8, 10)\n"
     ]
    }
   ],
   "source": [
    "import itertools\n",
    "a1 = [1,2,4]\n",
    "a2 = [2,3,4,5]\n",
    "a3 = [1,4,7]\n",
    "a4 = [3,6,7,8]\n",
    "a5 = [3,6,8,9,10]\n",
    "for i in itertools.product(a1,a2,a3,a4,a5):\n",
    "    if i[0]<i[1]<i[2]<i[3]<i[4]:\n",
    "        print(i)"
   ]
  },
  {
   "cell_type": "code",
   "execution_count": 4,
   "id": "criminal-nursery",
   "metadata": {},
   "outputs": [
    {
     "name": "stdout",
     "output_type": "stream",
     "text": [
      "(1, 2, 1)\n",
      "(1, 2, 4)\n",
      "(1, 2, 7)\n",
      "(1, 3, 1)\n",
      "(1, 3, 4)\n",
      "(1, 3, 7)\n",
      "(1, 4, 1)\n",
      "(1, 4, 4)\n",
      "(1, 4, 7)\n",
      "(1, 5, 1)\n",
      "(1, 5, 4)\n",
      "(1, 5, 7)\n",
      "(2, 2, 1)\n",
      "(2, 2, 4)\n",
      "(2, 2, 7)\n",
      "(2, 3, 1)\n",
      "(2, 3, 4)\n",
      "(2, 3, 7)\n",
      "(2, 4, 1)\n",
      "(2, 4, 4)\n",
      "(2, 4, 7)\n",
      "(2, 5, 1)\n",
      "(2, 5, 4)\n",
      "(2, 5, 7)\n",
      "(4, 2, 1)\n",
      "(4, 2, 4)\n",
      "(4, 2, 7)\n",
      "(4, 3, 1)\n",
      "(4, 3, 4)\n",
      "(4, 3, 7)\n",
      "(4, 4, 1)\n",
      "(4, 4, 4)\n",
      "(4, 4, 7)\n",
      "(4, 5, 1)\n",
      "(4, 5, 4)\n",
      "(4, 5, 7)\n"
     ]
    }
   ],
   "source": [
    "import itertools\n",
    "a1 = [1,2,4]\n",
    "a2 = [2,3,4,5]\n",
    "a3 = [1,4,7]\n",
    "for i in itertools.product(a1,a2,a3):\n",
    "    print(i)"
   ]
  },
  {
   "cell_type": "code",
   "execution_count": null,
   "id": "irish-rwanda",
   "metadata": {},
   "outputs": [],
   "source": []
  }
 ],
 "metadata": {
  "kernelspec": {
   "display_name": "Python 3",
   "language": "python",
   "name": "python3"
  },
  "language_info": {
   "codemirror_mode": {
    "name": "ipython",
    "version": 3
   },
   "file_extension": ".py",
   "mimetype": "text/x-python",
   "name": "python",
   "nbconvert_exporter": "python",
   "pygments_lexer": "ipython3",
   "version": "3.8.5"
  },
  "toc": {
   "base_numbering": 1,
   "nav_menu": {},
   "number_sections": true,
   "sideBar": true,
   "skip_h1_title": false,
   "title_cell": "Table of Contents",
   "title_sidebar": "Contents",
   "toc_cell": false,
   "toc_position": {},
   "toc_section_display": true,
   "toc_window_display": false
  },
  "varInspector": {
   "cols": {
    "lenName": 16,
    "lenType": 16,
    "lenVar": 40
   },
   "kernels_config": {
    "python": {
     "delete_cmd_postfix": "",
     "delete_cmd_prefix": "del ",
     "library": "var_list.py",
     "varRefreshCmd": "print(var_dic_list())"
    },
    "r": {
     "delete_cmd_postfix": ") ",
     "delete_cmd_prefix": "rm(",
     "library": "var_list.r",
     "varRefreshCmd": "cat(var_dic_list()) "
    }
   },
   "types_to_exclude": [
    "module",
    "function",
    "builtin_function_or_method",
    "instance",
    "_Feature"
   ],
   "window_display": false
  }
 },
 "nbformat": 4,
 "nbformat_minor": 5
}
