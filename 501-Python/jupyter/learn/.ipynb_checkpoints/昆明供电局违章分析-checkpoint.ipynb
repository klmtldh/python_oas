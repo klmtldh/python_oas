{
 "cells": [
  {
   "cell_type": "markdown",
   "id": "hollow-amplifier",
   "metadata": {},
   "source": [
    "# 昆明供电局违章分析"
   ]
  },
  {
   "cell_type": "code",
   "execution_count": null,
   "id": "interstate-reputation",
   "metadata": {},
   "outputs": [],
   "source": [
    "from IPython.core.interactiveshell import InteractiveShell\n",
    "InteractiveShell.ast_node_interactivity = 'all'\n",
    "import pandas as pd\n",
    "from pandas.api.types import CategoricalDtype\n",
    "from pyecharts import options as opts\n",
    "from pyecharts.charts import Bar\n",
    "\n",
    "import itertools\n",
    "\n",
    "# 读取Excel文件\n",
    "def read_excel_file(path,sheet):    \n",
    "    ex = pd.ExcelFile(path)\n",
    "    df = ex.parse(sheet)\n",
    "    return df\n",
    "\n",
    "# 获取分裂时间\n",
    "def split_date_to_year_month_day(df, date_time_columns):\n",
    "    for item in date_time_columns:            \n",
    "        df[item] = pd.to_datetime(df[item])\n",
    "        df[item+'年'] = df[item].dt.year\n",
    "        df[item+'季'] = df[item].dt.quarter\n",
    "        df[item+'月'] = df[item].dt.month\n",
    "        df[item+'周'] = df[item].dt.isocalendar().week\n",
    "        df[item + '日'] = df[item].dt.day\n",
    "    return df\n",
    "\n",
    "# 获取组织分裂\n",
    "def split_csg_organization(df_object,organization_columns):\n",
    "    for item in organization_columns:        \n",
    "        df_object=df_object.join(df_object.loc[:,item].str.strip('/').str.split('/',expand=True).rename({0:item+'公司',1:item+'供电局',2:item+'分',3:item+'科室',4:item+'班组'},axis=1))\n",
    "    return df_object\n",
    "\n",
    "# 按要求排序\n",
    "def sort_list(series_or_dataframe, list_sort, column_sort=None):\n",
    "    \"\"\"\n",
    "    作者：孔令\n",
    "    版本:v0.6\n",
    "    功能：按照指定列和排序列表对Series或DataFrame排序;\n",
    "    参数：series_or_dataframe Type Series or DataFrame,需要排序的数据;\n",
    "         list_sort 排序列表集合，[[]]形式；\n",
    "         column 需要排序的列\n",
    "    返回：series，Type Series或dataframe,Type DataFrame\n",
    "    \"\"\"\n",
    "    # 判断series_or_dataframe是否为pd.Series\n",
    "    if isinstance(series_or_dataframe, pd.Series):\n",
    "        # 将pd.Series转换成pd.DataFrame\n",
    "        sort_list_df = pd.DataFrame(series_or_dataframe)\n",
    "        # 重置索引，并保留索引\n",
    "        sort_list_df = sort_list_df.reset_index()\n",
    "        # 将列名改为index,values\n",
    "        sort_list_df.columns = ['index', 'values']\n",
    "        # 选出排序列中数据在排序列表中的数据，为了后续不在其中的不变为NAN\n",
    "        sort_list_df1 = sort_list_df[sort_list_df['index'].isin(list_sort)].copy()\n",
    "        # 选出排序列表中数据不在排序列表中的数据\n",
    "        sort_list_df2 = sort_list_df[~sort_list_df['index'].isin(list_sort)].copy()\n",
    "        # 将index排序列转换为category数据类型\n",
    "        sort_list_df1['index'] = sort_list_df1['index'].astype('category')\n",
    "        # 将index列按照list_sort排序\n",
    "        sort_list_df1['index'].cat.set_categories(list_sort, inplace=True)\n",
    "        sort_list_df1.sort_values('index', ascending=True, inplace=True)\n",
    "        # 合并两个数据\n",
    "        sort_list_df = pd.concat([sort_list_df1, sort_list_df2])\n",
    "        # 转回Series类型\n",
    "        series = pd.Series(sort_list_df['values'].values, index=sort_list_df['index'])\n",
    "        return series\n",
    "    # 判断series_or_dataframe是否为pd.DataFrame\n",
    "    elif isinstance(series_or_dataframe, pd.DataFrame):\n",
    "        # 将排序列中没有在排序列表的数据加入排序列表\n",
    "        for i in range(len(column_sort)):\n",
    "            list_sort[i] = list_sort[i] + list(\n",
    "                set(series_or_dataframe[column_sort[i]]).difference(set(list_sort[i])))\n",
    "\n",
    "        for i in range(len(column_sort)):\n",
    "            # 将排序列表转换为CategoricalDtype类型\n",
    "            cat_order = CategoricalDtype(\n",
    "                list_sort[i],\n",
    "                ordered=True\n",
    "            )\n",
    "            # 将排序列转换为排序列表类型\n",
    "            series_or_dataframe[column_sort[i]] = series_or_dataframe[column_sort[i]].astype(cat_order)\n",
    "        # 按照排序列表排序\n",
    "        dataframe = series_or_dataframe.sort_values(column_sort, axis=0, ascending=[True] * (len(column_sort)))\n",
    "        return dataframe\n",
    "\n",
    "# 补齐月份\n",
    "def fill_month_zero(df,iter_columns,count_columns):\n",
    "    set_list = []\n",
    "    for column in iter_columns:\n",
    "        set_list.append(set(df[column]))    \n",
    "    for i in itertools.product(*set_list):\n",
    "        for j in range(1,13,1):            \n",
    "            new = pd.DataFrame(\n",
    "                    [\n",
    "                        list(i)+list(j)+[0]\n",
    "                    \n",
    "                    ],columns=iter_columns+count_columns)\n",
    "            df=df.append(new,ignore_index=True)\n",
    "    df = df.groupby(columns)[count_columns[1]].sum().reset_index()\n",
    "    return df\n",
    "\n",
    "\n",
    "# echarts bar图\n",
    "def echarts_bar(s):   \n",
    "    x = s.index.tolist()\n",
    "    y = s.values.tolist()\n",
    "    print(x,y)\n",
    "    c = (\n",
    "        Bar()\n",
    "        .add_xaxis(['A',])\n",
    "        .add_yaxis(\"违章分类\", y)\n",
    "        .set_global_opts(\n",
    "            title_opts=opts.TitleOpts(title=\"Bar-DataZoom（slider+inside）\"),\n",
    "            datazoom_opts=[opts.DataZoomOpts(), opts.DataZoomOpts(type_=\"inside\")],\n",
    "        )\n",
    "       \n",
    "    )\n",
    "    c.render_notebook()\n",
    "\n",
    "\n",
    "# 导入排序及替换库\n",
    "path_sort= r'D:\\JGY\\600-Data\\002-in输入文件\\02-work工作\\03-document工作文档\\000-文件地图\\昆明供电局排序表.xlsx'\n",
    "sheet_sort = '安全监督系统'\n",
    "df_sort = read_excel_file(path_sort,sheet_sort)\n",
    "df_dict = df_sort.set_index('安监系统单位名称')['简称'].to_dict()\n",
    "list_sort = df_sort['安监系统单位名称'].tolist()\n",
    "\n",
    "# 导入监督计划\n",
    "path_plan= r'D:\\JGY\\600-Data\\002-in输入文件\\02-work工作\\01-system工作系统数据\\001-安全监督计划\\昆明供电局安全监督计划.xlsx'\n",
    "sheet_plan = 'Sheet1'\n",
    "df_plan = read_excel_file(path_plan,sheet_plan)\n",
    "# 分裂组织类型列\n",
    "df_plan = split_csg_organization(df_plan,['检查部门/单位'])\n",
    "# 分裂时间性质列\n",
    "df_plan = split_date_to_year_month_day(df_plan,['计划开始时间','计划结束时间'])\n",
    "df_plan_count = df_plan.groupby(['计划开始时间年','计划开始时间月'])['计划开始时间'].count()\n",
    "df_plan_count\n",
    "\n",
    "\n",
    "# 导入违章库\n",
    "path_illegal= r'D:\\JGY\\600-Data\\002-in输入文件\\02-work工作\\01-system工作系统数据\\002-违章台账\\违章台账.xlsx'\n",
    "sheet_illegal = 'Sheet1'\n",
    "df_illegal = read_excel_file(path_illegal,sheet_illegal)\n",
    "# 分裂组织类型列\n",
    "df_illegal = split_csg_organization(df_illegal,['督查单位','项目管理单位','违章单位（班组）'])\n",
    "# 分裂时间性质列\n",
    "df_illegal = split_date_to_year_month_day(df_illegal,['违章时间'])\n",
    "# 转换数据类型\n",
    "df_illegal = df_illegal.convert_dtypes()\n",
    "# 简化组织名称\n",
    "df_illegal['项目管理单位分'] = df_illegal['项目管理单位分'].map(df_dict)\n",
    "\n",
    "total = len(df_illegal[df_illegal['违章时间年']== 2021])\n",
    "text=\"2021年违章总数：\"\n",
    "text\n",
    "total\n",
    "df_g=df_illegal.groupby(['项目管理单位分','违章等级'])['项目管理单位'].size().reset_index()\n",
    "df_g.columns = ['单位','违章等级','数量']\n",
    "for item in set(df_g['单位']):\n",
    "    new = pd.DataFrame([[item,'A',0],\n",
    "                       [item,'B',0],\n",
    "                       [item,'C',0],\n",
    "                       [item,'D',0]],columns=['单位','违章等级','数量'])\n",
    "    df_g=df_g.append(new,ignore_index=True)\n",
    "\n",
    "df_g=df_g.groupby(['单位','违章等级'])['数量'].sum().reset_index()\n",
    "df_g['合计'] = df_g.groupby('单位')['数量'].transform(sum)\n",
    "\n",
    "\n",
    "df_g = sort_list(df_g, [list_sort,['A','B','C','D']], column_sort=['单位','违章等级'])\n",
    "\n",
    "df_g\n",
    "df_g.to_excel(r'D:\\JGY\\600-Data\\006-temporary临时文件\\违章.xlsx',index=False,engine='openpyxl')\n",
    "df_level_cout = df_illegal.value_counts('违章等级')\n",
    "df_level_cout\n",
    "#echarts_bar(df_level_cout)\n",
    "df_level_cout_rat = df_level_cout.map(lambda x:x/df_level_cout['A'])\n",
    "df_level_cout_rat = df_level_cout_rat.map(int)\n",
    "df_level_cout_rat.name = \"违章比例\"\n",
    "df_level_cout_rat\n",
    "df_duty_cout = df_illegal.value_counts('违章主体')\n",
    "df_duty_cout\n",
    "df_kdt_cout = df_illegal.value_counts('是否改革后企业')\n",
    "df_kdt_cout\n",
    "\n",
    "x = df_level_cout.index.tolist()\n",
    "y = df_level_cout.values.tolist()\n",
    "\n",
    "c = (\n",
    "    Bar()\n",
    "    .add_xaxis(x)\n",
    "    .add_yaxis(\"违章分类\", y)\n",
    "    #.add_yaxis(\"xx\",[18,19,70,30])\n",
    "    .set_global_opts(\n",
    "        title_opts=opts.TitleOpts(title=\"违章分布\"),\n",
    "        #datazoom_opts=[opts.DataZoomOpts(), opts.DataZoomOpts(type_=\"inside\")],\n",
    "    )\n",
    "\n",
    ")\n",
    "c.render_notebook()"
   ]
  },
  {
   "cell_type": "code",
   "execution_count": null,
   "id": "paperback-leadership",
   "metadata": {},
   "outputs": [],
   "source": []
  },
  {
   "cell_type": "markdown",
   "id": "hawaiian-occurrence",
   "metadata": {},
   "source": [
    "## 全局全口径违章趋势"
   ]
  },
  {
   "cell_type": "code",
   "execution_count": 6,
   "id": "closed-candy",
   "metadata": {},
   "outputs": [
    {
     "ename": "NameError",
     "evalue": "name 'set_list' is not defined",
     "output_type": "error",
     "traceback": [
      "\u001b[1;31m---------------------------------------------------------------------------\u001b[0m",
      "\u001b[1;31mNameError\u001b[0m                                 Traceback (most recent call last)",
      "\u001b[1;32m<ipython-input-6-6cd73b5be2b3>\u001b[0m in \u001b[0;36m<module>\u001b[1;34m\u001b[0m\n\u001b[0;32m     14\u001b[0m \u001b[1;33m\u001b[0m\u001b[0m\n\u001b[0;32m     15\u001b[0m \u001b[1;33m\u001b[0m\u001b[0m\n\u001b[1;32m---> 16\u001b[1;33m \u001b[0mdf_date_level\u001b[0m \u001b[1;33m=\u001b[0m \u001b[0mfill_month_zero\u001b[0m\u001b[1;33m(\u001b[0m\u001b[0mdf_date_level\u001b[0m\u001b[1;33m,\u001b[0m\u001b[1;33m[\u001b[0m\u001b[1;34m'违章等级'\u001b[0m\u001b[1;33m,\u001b[0m\u001b[1;34m'违章时间年'\u001b[0m\u001b[1;33m]\u001b[0m\u001b[1;33m,\u001b[0m\u001b[1;33m[\u001b[0m\u001b[1;34m'违章时间月'\u001b[0m\u001b[1;33m,\u001b[0m\u001b[1;34m'次数'\u001b[0m\u001b[1;33m]\u001b[0m\u001b[1;33m)\u001b[0m\u001b[1;33m\u001b[0m\u001b[1;33m\u001b[0m\u001b[0m\n\u001b[0m\u001b[0;32m     17\u001b[0m \u001b[1;31m# for level in set(df_date_level['违章等级']):\u001b[0m\u001b[1;33m\u001b[0m\u001b[1;33m\u001b[0m\u001b[1;33m\u001b[0m\u001b[0m\n\u001b[0;32m     18\u001b[0m \u001b[1;31m#     for year in set(df_date_level['违章时间年']):\u001b[0m\u001b[1;33m\u001b[0m\u001b[1;33m\u001b[0m\u001b[1;33m\u001b[0m\u001b[0m\n",
      "\u001b[1;32m<ipython-input-4-983240730888>\u001b[0m in \u001b[0;36mfill_month_zero\u001b[1;34m(df, iter_columns, count_columns)\u001b[0m\n\u001b[0;32m     86\u001b[0m \u001b[1;32mdef\u001b[0m \u001b[0mfill_month_zero\u001b[0m\u001b[1;33m(\u001b[0m\u001b[0mdf\u001b[0m\u001b[1;33m,\u001b[0m\u001b[0miter_columns\u001b[0m\u001b[1;33m,\u001b[0m\u001b[0mcount_columns\u001b[0m\u001b[1;33m)\u001b[0m\u001b[1;33m:\u001b[0m\u001b[1;33m\u001b[0m\u001b[1;33m\u001b[0m\u001b[0m\n\u001b[0;32m     87\u001b[0m     \u001b[1;32mfor\u001b[0m \u001b[0mcolumn\u001b[0m \u001b[1;32min\u001b[0m \u001b[0miter_columns\u001b[0m\u001b[1;33m:\u001b[0m\u001b[1;33m\u001b[0m\u001b[1;33m\u001b[0m\u001b[0m\n\u001b[1;32m---> 88\u001b[1;33m         \u001b[0mset_list\u001b[0m\u001b[1;33m.\u001b[0m\u001b[0mappenda\u001b[0m\u001b[1;33m(\u001b[0m\u001b[0mset\u001b[0m\u001b[1;33m(\u001b[0m\u001b[0mdf\u001b[0m\u001b[1;33m[\u001b[0m\u001b[0mcolumn\u001b[0m\u001b[1;33m]\u001b[0m\u001b[1;33m)\u001b[0m\u001b[1;33m)\u001b[0m\u001b[1;33m\u001b[0m\u001b[1;33m\u001b[0m\u001b[0m\n\u001b[0m\u001b[0;32m     89\u001b[0m     \u001b[1;32mfor\u001b[0m \u001b[0mi\u001b[0m \u001b[1;32min\u001b[0m \u001b[0mitertools\u001b[0m\u001b[1;33m.\u001b[0m\u001b[0mproduct\u001b[0m\u001b[1;33m(\u001b[0m\u001b[1;33m*\u001b[0m\u001b[0mset_list\u001b[0m\u001b[1;33m)\u001b[0m\u001b[1;33m:\u001b[0m\u001b[1;33m\u001b[0m\u001b[1;33m\u001b[0m\u001b[0m\n\u001b[0;32m     90\u001b[0m         \u001b[1;32mfor\u001b[0m \u001b[0mj\u001b[0m \u001b[1;32min\u001b[0m \u001b[0mrange\u001b[0m\u001b[1;33m(\u001b[0m\u001b[1;36m1\u001b[0m\u001b[1;33m,\u001b[0m\u001b[1;36m13\u001b[0m\u001b[1;33m,\u001b[0m\u001b[1;36m1\u001b[0m\u001b[1;33m)\u001b[0m\u001b[1;33m:\u001b[0m\u001b[1;33m\u001b[0m\u001b[1;33m\u001b[0m\u001b[0m\n",
      "\u001b[1;31mNameError\u001b[0m: name 'set_list' is not defined"
     ]
    }
   ],
   "source": [
    "import pyecharts.options as opts\n",
    "from pyecharts.charts import Line\n",
    "\n",
    "path_2020 = r'D:\\JGY\\600-Data\\002-in输入文件\\02-work工作\\01-system工作系统数据\\002-违章台账\\安全监督查处违章及整改情况汇总表-全局汇总（三季度数据备份）.xlsx'\n",
    "sheet_2020 = '记录'\n",
    "df_level_2020 = read_excel_file(path_2020,sheet_2020)\n",
    "df_level_2020 = split_date_to_year_month_day(df_level_2020, ['违章时间'])\n",
    "df_level_2020 =df_level_2020[['违章时间','违章等级','违章时间年','违章时间月']]\n",
    "\n",
    "df_level = df_illegal[['违章时间','违章等级','违章时间年','违章时间月']]\n",
    "df_level = pd.concat([df_level_2020,df_illegal],ignore_index=True)\n",
    "\n",
    "df_date_level = df_level.groupby(['违章等级','违章时间年','违章时间月'])['违章时间'].count().reset_index(name='次数')\n",
    "\n",
    "\n",
    "df_date_level = fill_month_zero(df_date_level,['违章等级','违章时间年'],['违章时间月','次数'])\n",
    "# for level in set(df_date_level['违章等级']):\n",
    "#     for year in set(df_date_level['违章时间年']):        \n",
    "#         new = pd.DataFrame(\n",
    "#             [\n",
    "#                 [level,year,1,0],\n",
    "#                 [level,year,2,0],\n",
    "#                 [level,year,3,0],\n",
    "#                 [level,year,4,0],\n",
    "#                 [level,year,5,0],\n",
    "#                 [level,year,6,0],\n",
    "#                 [level,year,7,0],\n",
    "#                 [level,year,8,0],\n",
    "#                 [level,year,9,0],\n",
    "#                 [level,year,10,0],\n",
    "#                 [level,year,11,0],\n",
    "#                 [level,year,12,0],\n",
    "#             ],columns=['违章等级','违章时间年','违章时间月','次数'])\n",
    "#         df_date_level=df_date_level.append(new,ignore_index=True)\n",
    "# df_date_level = df_date_level.groupby(['违章等级','违章时间年','违章时间月'])['次数'].sum().reset_index(name='次数')\n",
    "#df_date_level\n",
    "x_list=[]\n",
    "for year in set(df_date_level['违章时间年']):\n",
    "    for i in range(1,13,1):\n",
    "        x_list.append(str(year)+'-'+str(i))\n",
    "        \n",
    "x_data = x_list\n",
    "y_data = [820, 932, 901, 934, 1290, 1330, 1320]\n",
    "\n",
    "\n",
    "line=(\n",
    "    Line()\n",
    "    .add_xaxis(xaxis_data=x_data)\n",
    "    .add_yaxis(\n",
    "        series_name=\"A类违章\",\n",
    "        stack=\"总量\",\n",
    "        y_axis=df_date_level[df_date_level['违章等级']== 'A']['次数'].tolist(),\n",
    "        label_opts=opts.LabelOpts(is_show=False),\n",
    "        markline_opts=opts.MarkLineOpts(data=[opts.MarkLineItem(type_=\"average\")]),\n",
    "#         markpoint_opts=opts.MarkPointOpts(data=[opts.MarkPointItem(type_=\"max\")]),\n",
    "        #markpoint_opts=opts.MarkPointOpts(data=[opts.MarkPointItem(type_=\"min\")])\n",
    "    )\n",
    "    .add_yaxis(\n",
    "        series_name=\"B类违章\",\n",
    "        stack=\"总量\",\n",
    "        y_axis=df_date_level[df_date_level['违章等级']== 'B']['次数'].tolist(),\n",
    "        label_opts=opts.LabelOpts(is_show=False),\n",
    "        markline_opts=opts.MarkLineOpts(data=[opts.MarkLineItem(type_=\"average\")]),\n",
    "#         markpoint_opts=opts.MarkPointOpts(data=[opts.MarkPointItem(type_=\"max\")]),\n",
    "#         markpoint_opts=opts.MarkPointOpts(data=[opts.MarkPointItem(type_=\"min\")])\n",
    "    )\n",
    "    .add_yaxis(\n",
    "        series_name=\"C类违章\",\n",
    "        stack=\"总量\",\n",
    "        y_axis=df_date_level[df_date_level['违章等级']== 'C']['次数'].tolist(),\n",
    "        label_opts=opts.LabelOpts(is_show=False),\n",
    "        markline_opts=opts.MarkLineOpts(data=[opts.MarkLineItem(type_=\"average\")]),\n",
    "#         markpoint_opts=opts.MarkPointOpts(data=[opts.MarkPointItem(type_=\"max\")]),\n",
    "#         markpoint_opts=opts.MarkPointOpts(data=[opts.MarkPointItem(type_=\"min\")])\n",
    "    )\n",
    "    .add_yaxis(\n",
    "        series_name=\"D类违章\",\n",
    "        stack=\"总量\",\n",
    "        y_axis=df_date_level[df_date_level['违章等级']== 'D']['次数'].tolist(),\n",
    "        label_opts=opts.LabelOpts(is_show=False),\n",
    "        markline_opts=opts.MarkLineOpts(data=[opts.MarkLineItem(type_=\"average\")]),\n",
    "        markpoint_opts=opts.MarkPointOpts(data=[opts.MarkPointItem(type_=\"max\")]),\n",
    "#         markpoint_opts=opts.MarkPointOpts(data=[opts.MarkPointItem(type_=\"min\")])\n",
    "    )\n",
    "    .set_global_opts(\n",
    "        title_opts=opts.TitleOpts(title=\"昆明供电局违章类别趋势\"),\n",
    "        datazoom_opts=opts.DataZoomOpts(),\n",
    "        tooltip_opts=opts.TooltipOpts(trigger=\"axis\"),\n",
    "        yaxis_opts=opts.AxisOpts(\n",
    "            type_=\"value\",\n",
    "            axistick_opts=opts.AxisTickOpts(is_show=True),\n",
    "            splitline_opts=opts.SplitLineOpts(is_show=True),\n",
    "        ),\n",
    "        xaxis_opts=opts.AxisOpts(type_=\"category\", boundary_gap=False),\n",
    "    )\n",
    ")\n",
    "line.render_notebook()\n"
   ]
  },
  {
   "cell_type": "markdown",
   "id": "funny-growth",
   "metadata": {},
   "source": [
    "## 全局系统内员工违章趋势"
   ]
  },
  {
   "cell_type": "code",
   "execution_count": 144,
   "id": "unable-prevention",
   "metadata": {},
   "outputs": [
    {
     "data": {
      "text/html": [
       "\n",
       "<script>\n",
       "    require.config({\n",
       "        paths: {\n",
       "            'echarts':'https://assets.pyecharts.org/assets/echarts.min'\n",
       "        }\n",
       "    });\n",
       "</script>\n",
       "\n",
       "        <div id=\"a869288485374c158e62e57099c2daeb\" style=\"width:900px; height:500px;\"></div>\n",
       "\n",
       "<script>\n",
       "        require(['echarts'], function(echarts) {\n",
       "                var chart_a869288485374c158e62e57099c2daeb = echarts.init(\n",
       "                    document.getElementById('a869288485374c158e62e57099c2daeb'), 'white', {renderer: 'canvas'});\n",
       "                var option_a869288485374c158e62e57099c2daeb = {\n",
       "    \"animation\": true,\n",
       "    \"animationThreshold\": 2000,\n",
       "    \"animationDuration\": 1000,\n",
       "    \"animationEasing\": \"cubicOut\",\n",
       "    \"animationDelay\": 0,\n",
       "    \"animationDurationUpdate\": 300,\n",
       "    \"animationEasingUpdate\": \"cubicOut\",\n",
       "    \"animationDelayUpdate\": 0,\n",
       "    \"color\": [\n",
       "        \"#c23531\",\n",
       "        \"#2f4554\",\n",
       "        \"#61a0a8\",\n",
       "        \"#d48265\",\n",
       "        \"#749f83\",\n",
       "        \"#ca8622\",\n",
       "        \"#bda29a\",\n",
       "        \"#6e7074\",\n",
       "        \"#546570\",\n",
       "        \"#c4ccd3\",\n",
       "        \"#f05b72\",\n",
       "        \"#ef5b9c\",\n",
       "        \"#f47920\",\n",
       "        \"#905a3d\",\n",
       "        \"#fab27b\",\n",
       "        \"#2a5caa\",\n",
       "        \"#444693\",\n",
       "        \"#726930\",\n",
       "        \"#b2d235\",\n",
       "        \"#6d8346\",\n",
       "        \"#ac6767\",\n",
       "        \"#1d953f\",\n",
       "        \"#6950a1\",\n",
       "        \"#918597\"\n",
       "    ],\n",
       "    \"series\": [\n",
       "        {\n",
       "            \"type\": \"line\",\n",
       "            \"name\": \"A\\u7c7b\\u8fdd\\u7ae0\",\n",
       "            \"connectNulls\": false,\n",
       "            \"symbolSize\": 4,\n",
       "            \"showSymbol\": true,\n",
       "            \"smooth\": false,\n",
       "            \"clip\": true,\n",
       "            \"step\": false,\n",
       "            \"stack\": \"\\u603b\\u91cf\",\n",
       "            \"data\": [\n",
       "                [\n",
       "                    \"2020-1\",\n",
       "                    0\n",
       "                ],\n",
       "                [\n",
       "                    \"2020-2\",\n",
       "                    0\n",
       "                ],\n",
       "                [\n",
       "                    \"2020-3\",\n",
       "                    0\n",
       "                ],\n",
       "                [\n",
       "                    \"2020-4\",\n",
       "                    0\n",
       "                ],\n",
       "                [\n",
       "                    \"2020-5\",\n",
       "                    0\n",
       "                ],\n",
       "                [\n",
       "                    \"2020-6\",\n",
       "                    0\n",
       "                ],\n",
       "                [\n",
       "                    \"2020-7\",\n",
       "                    0\n",
       "                ],\n",
       "                [\n",
       "                    \"2020-8\",\n",
       "                    0\n",
       "                ],\n",
       "                [\n",
       "                    \"2020-9\",\n",
       "                    0\n",
       "                ],\n",
       "                [\n",
       "                    \"2020-10\",\n",
       "                    0\n",
       "                ],\n",
       "                [\n",
       "                    \"2020-11\",\n",
       "                    0\n",
       "                ],\n",
       "                [\n",
       "                    \"2020-12\",\n",
       "                    0\n",
       "                ],\n",
       "                [\n",
       "                    \"2021-1\",\n",
       "                    2\n",
       "                ],\n",
       "                [\n",
       "                    \"2021-2\",\n",
       "                    0\n",
       "                ],\n",
       "                [\n",
       "                    \"2021-3\",\n",
       "                    0\n",
       "                ],\n",
       "                [\n",
       "                    \"2021-4\",\n",
       "                    0\n",
       "                ],\n",
       "                [\n",
       "                    \"2021-5\",\n",
       "                    0\n",
       "                ],\n",
       "                [\n",
       "                    \"2021-6\",\n",
       "                    0\n",
       "                ],\n",
       "                [\n",
       "                    \"2021-7\",\n",
       "                    0\n",
       "                ],\n",
       "                [\n",
       "                    \"2021-8\",\n",
       "                    0\n",
       "                ],\n",
       "                [\n",
       "                    \"2021-9\",\n",
       "                    0\n",
       "                ],\n",
       "                [\n",
       "                    \"2021-10\",\n",
       "                    0\n",
       "                ],\n",
       "                [\n",
       "                    \"2021-11\",\n",
       "                    0\n",
       "                ],\n",
       "                [\n",
       "                    \"2021-12\",\n",
       "                    0\n",
       "                ]\n",
       "            ],\n",
       "            \"hoverAnimation\": true,\n",
       "            \"label\": {\n",
       "                \"show\": false,\n",
       "                \"position\": \"top\",\n",
       "                \"margin\": 8\n",
       "            },\n",
       "            \"lineStyle\": {\n",
       "                \"show\": true,\n",
       "                \"width\": 1,\n",
       "                \"opacity\": 1,\n",
       "                \"curveness\": 0,\n",
       "                \"type\": \"solid\"\n",
       "            },\n",
       "            \"areaStyle\": {\n",
       "                \"opacity\": 0\n",
       "            },\n",
       "            \"markLine\": {\n",
       "                \"silent\": false,\n",
       "                \"precision\": 2,\n",
       "                \"label\": {\n",
       "                    \"show\": true,\n",
       "                    \"position\": \"top\",\n",
       "                    \"margin\": 8\n",
       "                },\n",
       "                \"data\": [\n",
       "                    {\n",
       "                        \"type\": \"average\"\n",
       "                    }\n",
       "                ]\n",
       "            },\n",
       "            \"zlevel\": 0,\n",
       "            \"z\": 0\n",
       "        },\n",
       "        {\n",
       "            \"type\": \"line\",\n",
       "            \"name\": \"B\\u7c7b\\u8fdd\\u7ae0\",\n",
       "            \"connectNulls\": false,\n",
       "            \"symbolSize\": 4,\n",
       "            \"showSymbol\": true,\n",
       "            \"smooth\": false,\n",
       "            \"clip\": true,\n",
       "            \"step\": false,\n",
       "            \"stack\": \"\\u603b\\u91cf\",\n",
       "            \"data\": [\n",
       "                [\n",
       "                    \"2020-1\",\n",
       "                    0\n",
       "                ],\n",
       "                [\n",
       "                    \"2020-2\",\n",
       "                    0\n",
       "                ],\n",
       "                [\n",
       "                    \"2020-3\",\n",
       "                    0\n",
       "                ],\n",
       "                [\n",
       "                    \"2020-4\",\n",
       "                    0\n",
       "                ],\n",
       "                [\n",
       "                    \"2020-5\",\n",
       "                    0\n",
       "                ],\n",
       "                [\n",
       "                    \"2020-6\",\n",
       "                    2\n",
       "                ],\n",
       "                [\n",
       "                    \"2020-7\",\n",
       "                    0\n",
       "                ],\n",
       "                [\n",
       "                    \"2020-8\",\n",
       "                    0\n",
       "                ],\n",
       "                [\n",
       "                    \"2020-9\",\n",
       "                    0\n",
       "                ],\n",
       "                [\n",
       "                    \"2020-10\",\n",
       "                    2\n",
       "                ],\n",
       "                [\n",
       "                    \"2020-11\",\n",
       "                    5\n",
       "                ],\n",
       "                [\n",
       "                    \"2020-12\",\n",
       "                    2\n",
       "                ],\n",
       "                [\n",
       "                    \"2021-1\",\n",
       "                    6\n",
       "                ],\n",
       "                [\n",
       "                    \"2021-2\",\n",
       "                    4\n",
       "                ],\n",
       "                [\n",
       "                    \"2021-3\",\n",
       "                    1\n",
       "                ],\n",
       "                [\n",
       "                    \"2021-4\",\n",
       "                    0\n",
       "                ],\n",
       "                [\n",
       "                    \"2021-5\",\n",
       "                    0\n",
       "                ],\n",
       "                [\n",
       "                    \"2021-6\",\n",
       "                    0\n",
       "                ],\n",
       "                [\n",
       "                    \"2021-7\",\n",
       "                    0\n",
       "                ],\n",
       "                [\n",
       "                    \"2021-8\",\n",
       "                    0\n",
       "                ],\n",
       "                [\n",
       "                    \"2021-9\",\n",
       "                    0\n",
       "                ],\n",
       "                [\n",
       "                    \"2021-10\",\n",
       "                    0\n",
       "                ],\n",
       "                [\n",
       "                    \"2021-11\",\n",
       "                    0\n",
       "                ],\n",
       "                [\n",
       "                    \"2021-12\",\n",
       "                    0\n",
       "                ]\n",
       "            ],\n",
       "            \"hoverAnimation\": true,\n",
       "            \"label\": {\n",
       "                \"show\": false,\n",
       "                \"position\": \"top\",\n",
       "                \"margin\": 8\n",
       "            },\n",
       "            \"lineStyle\": {\n",
       "                \"show\": true,\n",
       "                \"width\": 1,\n",
       "                \"opacity\": 1,\n",
       "                \"curveness\": 0,\n",
       "                \"type\": \"solid\"\n",
       "            },\n",
       "            \"areaStyle\": {\n",
       "                \"opacity\": 0\n",
       "            },\n",
       "            \"markLine\": {\n",
       "                \"silent\": false,\n",
       "                \"precision\": 2,\n",
       "                \"label\": {\n",
       "                    \"show\": true,\n",
       "                    \"position\": \"top\",\n",
       "                    \"margin\": 8\n",
       "                },\n",
       "                \"data\": [\n",
       "                    {\n",
       "                        \"type\": \"average\"\n",
       "                    }\n",
       "                ]\n",
       "            },\n",
       "            \"zlevel\": 0,\n",
       "            \"z\": 0\n",
       "        },\n",
       "        {\n",
       "            \"type\": \"line\",\n",
       "            \"name\": \"C\\u7c7b\\u8fdd\\u7ae0\",\n",
       "            \"connectNulls\": false,\n",
       "            \"symbolSize\": 4,\n",
       "            \"showSymbol\": true,\n",
       "            \"smooth\": false,\n",
       "            \"clip\": true,\n",
       "            \"step\": false,\n",
       "            \"stack\": \"\\u603b\\u91cf\",\n",
       "            \"data\": [\n",
       "                [\n",
       "                    \"2020-1\",\n",
       "                    0\n",
       "                ],\n",
       "                [\n",
       "                    \"2020-2\",\n",
       "                    0\n",
       "                ],\n",
       "                [\n",
       "                    \"2020-3\",\n",
       "                    0\n",
       "                ],\n",
       "                [\n",
       "                    \"2020-4\",\n",
       "                    0\n",
       "                ],\n",
       "                [\n",
       "                    \"2020-5\",\n",
       "                    0\n",
       "                ],\n",
       "                [\n",
       "                    \"2020-6\",\n",
       "                    9\n",
       "                ],\n",
       "                [\n",
       "                    \"2020-7\",\n",
       "                    9\n",
       "                ],\n",
       "                [\n",
       "                    \"2020-8\",\n",
       "                    19\n",
       "                ],\n",
       "                [\n",
       "                    \"2020-9\",\n",
       "                    1\n",
       "                ],\n",
       "                [\n",
       "                    \"2020-10\",\n",
       "                    16\n",
       "                ],\n",
       "                [\n",
       "                    \"2020-11\",\n",
       "                    30\n",
       "                ],\n",
       "                [\n",
       "                    \"2020-12\",\n",
       "                    9\n",
       "                ],\n",
       "                [\n",
       "                    \"2021-1\",\n",
       "                    12\n",
       "                ],\n",
       "                [\n",
       "                    \"2021-2\",\n",
       "                    14\n",
       "                ],\n",
       "                [\n",
       "                    \"2021-3\",\n",
       "                    4\n",
       "                ],\n",
       "                [\n",
       "                    \"2021-4\",\n",
       "                    0\n",
       "                ],\n",
       "                [\n",
       "                    \"2021-5\",\n",
       "                    0\n",
       "                ],\n",
       "                [\n",
       "                    \"2021-6\",\n",
       "                    0\n",
       "                ],\n",
       "                [\n",
       "                    \"2021-7\",\n",
       "                    0\n",
       "                ],\n",
       "                [\n",
       "                    \"2021-8\",\n",
       "                    0\n",
       "                ],\n",
       "                [\n",
       "                    \"2021-9\",\n",
       "                    0\n",
       "                ],\n",
       "                [\n",
       "                    \"2021-10\",\n",
       "                    0\n",
       "                ],\n",
       "                [\n",
       "                    \"2021-11\",\n",
       "                    0\n",
       "                ],\n",
       "                [\n",
       "                    \"2021-12\",\n",
       "                    0\n",
       "                ]\n",
       "            ],\n",
       "            \"hoverAnimation\": true,\n",
       "            \"label\": {\n",
       "                \"show\": false,\n",
       "                \"position\": \"top\",\n",
       "                \"margin\": 8\n",
       "            },\n",
       "            \"lineStyle\": {\n",
       "                \"show\": true,\n",
       "                \"width\": 1,\n",
       "                \"opacity\": 1,\n",
       "                \"curveness\": 0,\n",
       "                \"type\": \"solid\"\n",
       "            },\n",
       "            \"areaStyle\": {\n",
       "                \"opacity\": 0\n",
       "            },\n",
       "            \"markLine\": {\n",
       "                \"silent\": false,\n",
       "                \"precision\": 2,\n",
       "                \"label\": {\n",
       "                    \"show\": true,\n",
       "                    \"position\": \"top\",\n",
       "                    \"margin\": 8\n",
       "                },\n",
       "                \"data\": [\n",
       "                    {\n",
       "                        \"type\": \"average\"\n",
       "                    }\n",
       "                ]\n",
       "            },\n",
       "            \"zlevel\": 0,\n",
       "            \"z\": 0\n",
       "        },\n",
       "        {\n",
       "            \"type\": \"line\",\n",
       "            \"name\": \"D\\u7c7b\\u8fdd\\u7ae0\",\n",
       "            \"connectNulls\": false,\n",
       "            \"symbolSize\": 4,\n",
       "            \"showSymbol\": true,\n",
       "            \"smooth\": false,\n",
       "            \"clip\": true,\n",
       "            \"step\": false,\n",
       "            \"stack\": \"\\u603b\\u91cf\",\n",
       "            \"data\": [\n",
       "                [\n",
       "                    \"2020-1\",\n",
       "                    0\n",
       "                ],\n",
       "                [\n",
       "                    \"2020-2\",\n",
       "                    1\n",
       "                ],\n",
       "                [\n",
       "                    \"2020-3\",\n",
       "                    1\n",
       "                ],\n",
       "                [\n",
       "                    \"2020-4\",\n",
       "                    0\n",
       "                ],\n",
       "                [\n",
       "                    \"2020-5\",\n",
       "                    0\n",
       "                ],\n",
       "                [\n",
       "                    \"2020-6\",\n",
       "                    2\n",
       "                ],\n",
       "                [\n",
       "                    \"2020-7\",\n",
       "                    5\n",
       "                ],\n",
       "                [\n",
       "                    \"2020-8\",\n",
       "                    4\n",
       "                ],\n",
       "                [\n",
       "                    \"2020-9\",\n",
       "                    2\n",
       "                ],\n",
       "                [\n",
       "                    \"2020-10\",\n",
       "                    55\n",
       "                ],\n",
       "                [\n",
       "                    \"2020-11\",\n",
       "                    113\n",
       "                ],\n",
       "                [\n",
       "                    \"2020-12\",\n",
       "                    85\n",
       "                ],\n",
       "                [\n",
       "                    \"2021-1\",\n",
       "                    88\n",
       "                ],\n",
       "                [\n",
       "                    \"2021-2\",\n",
       "                    52\n",
       "                ],\n",
       "                [\n",
       "                    \"2021-3\",\n",
       "                    15\n",
       "                ],\n",
       "                [\n",
       "                    \"2021-4\",\n",
       "                    0\n",
       "                ],\n",
       "                [\n",
       "                    \"2021-5\",\n",
       "                    0\n",
       "                ],\n",
       "                [\n",
       "                    \"2021-6\",\n",
       "                    0\n",
       "                ],\n",
       "                [\n",
       "                    \"2021-7\",\n",
       "                    0\n",
       "                ],\n",
       "                [\n",
       "                    \"2021-8\",\n",
       "                    0\n",
       "                ],\n",
       "                [\n",
       "                    \"2021-9\",\n",
       "                    0\n",
       "                ],\n",
       "                [\n",
       "                    \"2021-10\",\n",
       "                    0\n",
       "                ],\n",
       "                [\n",
       "                    \"2021-11\",\n",
       "                    0\n",
       "                ],\n",
       "                [\n",
       "                    \"2021-12\",\n",
       "                    0\n",
       "                ]\n",
       "            ],\n",
       "            \"hoverAnimation\": true,\n",
       "            \"label\": {\n",
       "                \"show\": false,\n",
       "                \"position\": \"top\",\n",
       "                \"margin\": 8\n",
       "            },\n",
       "            \"lineStyle\": {\n",
       "                \"show\": true,\n",
       "                \"width\": 1,\n",
       "                \"opacity\": 1,\n",
       "                \"curveness\": 0,\n",
       "                \"type\": \"solid\"\n",
       "            },\n",
       "            \"areaStyle\": {\n",
       "                \"opacity\": 0\n",
       "            },\n",
       "            \"markPoint\": {\n",
       "                \"label\": {\n",
       "                    \"show\": true,\n",
       "                    \"position\": \"inside\",\n",
       "                    \"color\": \"#fff\",\n",
       "                    \"margin\": 8\n",
       "                },\n",
       "                \"data\": [\n",
       "                    {\n",
       "                        \"type\": \"max\"\n",
       "                    }\n",
       "                ]\n",
       "            },\n",
       "            \"markLine\": {\n",
       "                \"silent\": false,\n",
       "                \"precision\": 2,\n",
       "                \"label\": {\n",
       "                    \"show\": true,\n",
       "                    \"position\": \"top\",\n",
       "                    \"margin\": 8\n",
       "                },\n",
       "                \"data\": [\n",
       "                    {\n",
       "                        \"type\": \"average\"\n",
       "                    }\n",
       "                ]\n",
       "            },\n",
       "            \"zlevel\": 0,\n",
       "            \"z\": 0\n",
       "        }\n",
       "    ],\n",
       "    \"legend\": [\n",
       "        {\n",
       "            \"data\": [\n",
       "                \"A\\u7c7b\\u8fdd\\u7ae0\",\n",
       "                \"B\\u7c7b\\u8fdd\\u7ae0\",\n",
       "                \"C\\u7c7b\\u8fdd\\u7ae0\",\n",
       "                \"D\\u7c7b\\u8fdd\\u7ae0\"\n",
       "            ],\n",
       "            \"selected\": {\n",
       "                \"A\\u7c7b\\u8fdd\\u7ae0\": true,\n",
       "                \"B\\u7c7b\\u8fdd\\u7ae0\": true,\n",
       "                \"C\\u7c7b\\u8fdd\\u7ae0\": true,\n",
       "                \"D\\u7c7b\\u8fdd\\u7ae0\": true\n",
       "            },\n",
       "            \"show\": true,\n",
       "            \"padding\": 5,\n",
       "            \"itemGap\": 10,\n",
       "            \"itemWidth\": 25,\n",
       "            \"itemHeight\": 14\n",
       "        }\n",
       "    ],\n",
       "    \"tooltip\": {\n",
       "        \"show\": true,\n",
       "        \"trigger\": \"axis\",\n",
       "        \"triggerOn\": \"mousemove|click\",\n",
       "        \"axisPointer\": {\n",
       "            \"type\": \"line\"\n",
       "        },\n",
       "        \"showContent\": true,\n",
       "        \"alwaysShowContent\": false,\n",
       "        \"showDelay\": 0,\n",
       "        \"hideDelay\": 100,\n",
       "        \"textStyle\": {\n",
       "            \"fontSize\": 14\n",
       "        },\n",
       "        \"borderWidth\": 0,\n",
       "        \"padding\": 5\n",
       "    },\n",
       "    \"xAxis\": [\n",
       "        {\n",
       "            \"type\": \"category\",\n",
       "            \"show\": true,\n",
       "            \"scale\": false,\n",
       "            \"nameLocation\": \"end\",\n",
       "            \"nameGap\": 15,\n",
       "            \"gridIndex\": 0,\n",
       "            \"inverse\": false,\n",
       "            \"offset\": 0,\n",
       "            \"splitNumber\": 5,\n",
       "            \"boundaryGap\": false,\n",
       "            \"minInterval\": 0,\n",
       "            \"splitLine\": {\n",
       "                \"show\": false,\n",
       "                \"lineStyle\": {\n",
       "                    \"show\": true,\n",
       "                    \"width\": 1,\n",
       "                    \"opacity\": 1,\n",
       "                    \"curveness\": 0,\n",
       "                    \"type\": \"solid\"\n",
       "                }\n",
       "            },\n",
       "            \"data\": [\n",
       "                \"2020-1\",\n",
       "                \"2020-2\",\n",
       "                \"2020-3\",\n",
       "                \"2020-4\",\n",
       "                \"2020-5\",\n",
       "                \"2020-6\",\n",
       "                \"2020-7\",\n",
       "                \"2020-8\",\n",
       "                \"2020-9\",\n",
       "                \"2020-10\",\n",
       "                \"2020-11\",\n",
       "                \"2020-12\",\n",
       "                \"2021-1\",\n",
       "                \"2021-2\",\n",
       "                \"2021-3\",\n",
       "                \"2021-4\",\n",
       "                \"2021-5\",\n",
       "                \"2021-6\",\n",
       "                \"2021-7\",\n",
       "                \"2021-8\",\n",
       "                \"2021-9\",\n",
       "                \"2021-10\",\n",
       "                \"2021-11\",\n",
       "                \"2021-12\"\n",
       "            ]\n",
       "        }\n",
       "    ],\n",
       "    \"yAxis\": [\n",
       "        {\n",
       "            \"type\": \"value\",\n",
       "            \"show\": true,\n",
       "            \"scale\": false,\n",
       "            \"nameLocation\": \"end\",\n",
       "            \"nameGap\": 15,\n",
       "            \"gridIndex\": 0,\n",
       "            \"axisTick\": {\n",
       "                \"show\": true,\n",
       "                \"alignWithLabel\": false,\n",
       "                \"inside\": false\n",
       "            },\n",
       "            \"inverse\": false,\n",
       "            \"offset\": 0,\n",
       "            \"splitNumber\": 5,\n",
       "            \"minInterval\": 0,\n",
       "            \"splitLine\": {\n",
       "                \"show\": true,\n",
       "                \"lineStyle\": {\n",
       "                    \"show\": true,\n",
       "                    \"width\": 1,\n",
       "                    \"opacity\": 1,\n",
       "                    \"curveness\": 0,\n",
       "                    \"type\": \"solid\"\n",
       "                }\n",
       "            }\n",
       "        }\n",
       "    ],\n",
       "    \"title\": [\n",
       "        {\n",
       "            \"text\": \"\\u6606\\u660e\\u4f9b\\u7535\\u5c40\\u7cfb\\u7edf\\u5185\\u5458\\u5de5\\u8fdd\\u7ae0\\u7c7b\\u522b\\u8d8b\\u52bf\",\n",
       "            \"padding\": 5,\n",
       "            \"itemGap\": 10\n",
       "        }\n",
       "    ],\n",
       "    \"dataZoom\": {\n",
       "        \"show\": true,\n",
       "        \"type\": \"slider\",\n",
       "        \"realtime\": true,\n",
       "        \"start\": 20,\n",
       "        \"end\": 80,\n",
       "        \"orient\": \"horizontal\",\n",
       "        \"zoomLock\": false,\n",
       "        \"filterMode\": \"filter\"\n",
       "    }\n",
       "};\n",
       "                chart_a869288485374c158e62e57099c2daeb.setOption(option_a869288485374c158e62e57099c2daeb);\n",
       "        });\n",
       "    </script>\n"
      ],
      "text/plain": [
       "<pyecharts.render.display.HTML at 0x22ed3ae3760>"
      ]
     },
     "execution_count": 144,
     "metadata": {},
     "output_type": "execute_result"
    }
   ],
   "source": [
    "import pyecharts.options as opts\n",
    "from pyecharts.charts import Line\n",
    "df_in = df[df['违章主体']== '系统内']\n",
    "df_date_level = df_in.groupby(['违章等级','违章时间年','违章时间月'])['违章时间'].count().reset_index(name='次数')\n",
    "\n",
    "for level in set(df_date_level['违章等级']):\n",
    "    for year in set(df_date_level['违章时间年']):        \n",
    "        new = pd.DataFrame(\n",
    "            [\n",
    "                [level,year,1,0],\n",
    "                [level,year,2,0],\n",
    "                [level,year,3,0],\n",
    "                [level,year,4,0],\n",
    "                [level,year,5,0],\n",
    "                [level,year,6,0],\n",
    "                [level,year,7,0],\n",
    "                [level,year,8,0],\n",
    "                [level,year,9,0],\n",
    "                [level,year,10,0],\n",
    "                [level,year,11,0],\n",
    "                [level,year,12,0],\n",
    "            ],columns=['违章等级','违章时间年','违章时间月','次数'])\n",
    "        df_date_level=df_date_level.append(new,ignore_index=True)\n",
    "df_date_level = df_date_level.groupby(['违章等级','违章时间年','违章时间月'])['次数'].sum().reset_index(name='次数')\n",
    "#df_date_level\n",
    "x_list=[]\n",
    "for year in set(df_date_level['违章时间年']):\n",
    "    for i in range(1,13,1):\n",
    "        x_list.append(str(year)+'-'+str(i))\n",
    "        \n",
    "x_data = x_list\n",
    "y_data = [820, 932, 901, 934, 1290, 1330, 1320]\n",
    "\n",
    "\n",
    "line=(\n",
    "    Line()\n",
    "    .add_xaxis(xaxis_data=x_data)\n",
    "    .add_yaxis(\n",
    "        series_name=\"A类违章\",\n",
    "        stack=\"总量\",\n",
    "        y_axis=df_date_level[df_date_level['违章等级']== 'A']['次数'].tolist(),\n",
    "        label_opts=opts.LabelOpts(is_show=False),\n",
    "        markline_opts=opts.MarkLineOpts(data=[opts.MarkLineItem(type_=\"average\")]),\n",
    "#         markpoint_opts=opts.MarkPointOpts(data=[opts.MarkPointItem(type_=\"max\")]),\n",
    "        #markpoint_opts=opts.MarkPointOpts(data=[opts.MarkPointItem(type_=\"min\")])\n",
    "    )\n",
    "    .add_yaxis(\n",
    "        series_name=\"B类违章\",\n",
    "        stack=\"总量\",\n",
    "        y_axis=df_date_level[df_date_level['违章等级']== 'B']['次数'].tolist(),\n",
    "        label_opts=opts.LabelOpts(is_show=False),\n",
    "        markline_opts=opts.MarkLineOpts(data=[opts.MarkLineItem(type_=\"average\")]),\n",
    "#         markpoint_opts=opts.MarkPointOpts(data=[opts.MarkPointItem(type_=\"max\")]),\n",
    "#         markpoint_opts=opts.MarkPointOpts(data=[opts.MarkPointItem(type_=\"min\")])\n",
    "    )\n",
    "    .add_yaxis(\n",
    "        series_name=\"C类违章\",\n",
    "        stack=\"总量\",\n",
    "        y_axis=df_date_level[df_date_level['违章等级']== 'C']['次数'].tolist(),\n",
    "        label_opts=opts.LabelOpts(is_show=False),\n",
    "        markline_opts=opts.MarkLineOpts(data=[opts.MarkLineItem(type_=\"average\")]),\n",
    "#         markpoint_opts=opts.MarkPointOpts(data=[opts.MarkPointItem(type_=\"max\")]),\n",
    "#         markpoint_opts=opts.MarkPointOpts(data=[opts.MarkPointItem(type_=\"min\")])\n",
    "    )\n",
    "    .add_yaxis(\n",
    "        series_name=\"D类违章\",\n",
    "        stack=\"总量\",\n",
    "        y_axis=df_date_level[df_date_level['违章等级']== 'D']['次数'].tolist(),\n",
    "        label_opts=opts.LabelOpts(is_show=False),\n",
    "        markline_opts=opts.MarkLineOpts(data=[opts.MarkLineItem(type_=\"average\")]),\n",
    "        markpoint_opts=opts.MarkPointOpts(data=[opts.MarkPointItem(type_=\"max\")]),\n",
    "#         markpoint_opts=opts.MarkPointOpts(data=[opts.MarkPointItem(type_=\"min\")])\n",
    "    )\n",
    "    .set_global_opts(\n",
    "        title_opts=opts.TitleOpts(title=\"昆明供电局系统内员工违章类别趋势\"),\n",
    "        datazoom_opts=opts.DataZoomOpts(),\n",
    "        tooltip_opts=opts.TooltipOpts(trigger=\"axis\"),\n",
    "        yaxis_opts=opts.AxisOpts(\n",
    "            type_=\"value\",\n",
    "            axistick_opts=opts.AxisTickOpts(is_show=True),\n",
    "            splitline_opts=opts.SplitLineOpts(is_show=True),\n",
    "        ),\n",
    "        xaxis_opts=opts.AxisOpts(type_=\"category\", boundary_gap=False),\n",
    "    )\n",
    ")\n",
    "line.render_notebook()"
   ]
  },
  {
   "cell_type": "markdown",
   "id": "immune-journalism",
   "metadata": {},
   "source": [
    "## 改革后企业违章趋势"
   ]
  },
  {
   "cell_type": "code",
   "execution_count": 146,
   "id": "gentle-session",
   "metadata": {},
   "outputs": [
    {
     "data": {
      "text/html": [
       "\n",
       "<script>\n",
       "    require.config({\n",
       "        paths: {\n",
       "            'echarts':'https://assets.pyecharts.org/assets/echarts.min'\n",
       "        }\n",
       "    });\n",
       "</script>\n",
       "\n",
       "        <div id=\"aa533447de42417eac9f92fbd54f5346\" style=\"width:900px; height:500px;\"></div>\n",
       "\n",
       "<script>\n",
       "        require(['echarts'], function(echarts) {\n",
       "                var chart_aa533447de42417eac9f92fbd54f5346 = echarts.init(\n",
       "                    document.getElementById('aa533447de42417eac9f92fbd54f5346'), 'white', {renderer: 'canvas'});\n",
       "                var option_aa533447de42417eac9f92fbd54f5346 = {\n",
       "    \"animation\": true,\n",
       "    \"animationThreshold\": 2000,\n",
       "    \"animationDuration\": 1000,\n",
       "    \"animationEasing\": \"cubicOut\",\n",
       "    \"animationDelay\": 0,\n",
       "    \"animationDurationUpdate\": 300,\n",
       "    \"animationEasingUpdate\": \"cubicOut\",\n",
       "    \"animationDelayUpdate\": 0,\n",
       "    \"color\": [\n",
       "        \"#c23531\",\n",
       "        \"#2f4554\",\n",
       "        \"#61a0a8\",\n",
       "        \"#d48265\",\n",
       "        \"#749f83\",\n",
       "        \"#ca8622\",\n",
       "        \"#bda29a\",\n",
       "        \"#6e7074\",\n",
       "        \"#546570\",\n",
       "        \"#c4ccd3\",\n",
       "        \"#f05b72\",\n",
       "        \"#ef5b9c\",\n",
       "        \"#f47920\",\n",
       "        \"#905a3d\",\n",
       "        \"#fab27b\",\n",
       "        \"#2a5caa\",\n",
       "        \"#444693\",\n",
       "        \"#726930\",\n",
       "        \"#b2d235\",\n",
       "        \"#6d8346\",\n",
       "        \"#ac6767\",\n",
       "        \"#1d953f\",\n",
       "        \"#6950a1\",\n",
       "        \"#918597\"\n",
       "    ],\n",
       "    \"series\": [\n",
       "        {\n",
       "            \"type\": \"line\",\n",
       "            \"name\": \"A\\u7c7b\\u8fdd\\u7ae0\",\n",
       "            \"connectNulls\": false,\n",
       "            \"symbolSize\": 4,\n",
       "            \"showSymbol\": true,\n",
       "            \"smooth\": false,\n",
       "            \"clip\": true,\n",
       "            \"step\": false,\n",
       "            \"stack\": \"\\u603b\\u91cf\",\n",
       "            \"data\": [\n",
       "                [\n",
       "                    \"2020-1\",\n",
       "                    0\n",
       "                ],\n",
       "                [\n",
       "                    \"2020-2\",\n",
       "                    0\n",
       "                ],\n",
       "                [\n",
       "                    \"2020-3\",\n",
       "                    2\n",
       "                ],\n",
       "                [\n",
       "                    \"2020-4\",\n",
       "                    0\n",
       "                ],\n",
       "                [\n",
       "                    \"2020-5\",\n",
       "                    0\n",
       "                ],\n",
       "                [\n",
       "                    \"2020-6\",\n",
       "                    0\n",
       "                ],\n",
       "                [\n",
       "                    \"2020-7\",\n",
       "                    0\n",
       "                ],\n",
       "                [\n",
       "                    \"2020-8\",\n",
       "                    0\n",
       "                ],\n",
       "                [\n",
       "                    \"2020-9\",\n",
       "                    0\n",
       "                ],\n",
       "                [\n",
       "                    \"2020-10\",\n",
       "                    0\n",
       "                ],\n",
       "                [\n",
       "                    \"2020-11\",\n",
       "                    3\n",
       "                ],\n",
       "                [\n",
       "                    \"2020-12\",\n",
       "                    3\n",
       "                ],\n",
       "                [\n",
       "                    \"2021-1\",\n",
       "                    0\n",
       "                ],\n",
       "                [\n",
       "                    \"2021-2\",\n",
       "                    2\n",
       "                ],\n",
       "                [\n",
       "                    \"2021-3\",\n",
       "                    0\n",
       "                ],\n",
       "                [\n",
       "                    \"2021-4\",\n",
       "                    0\n",
       "                ],\n",
       "                [\n",
       "                    \"2021-5\",\n",
       "                    0\n",
       "                ],\n",
       "                [\n",
       "                    \"2021-6\",\n",
       "                    0\n",
       "                ],\n",
       "                [\n",
       "                    \"2021-7\",\n",
       "                    0\n",
       "                ],\n",
       "                [\n",
       "                    \"2021-8\",\n",
       "                    0\n",
       "                ],\n",
       "                [\n",
       "                    \"2021-9\",\n",
       "                    0\n",
       "                ],\n",
       "                [\n",
       "                    \"2021-10\",\n",
       "                    0\n",
       "                ],\n",
       "                [\n",
       "                    \"2021-11\",\n",
       "                    0\n",
       "                ],\n",
       "                [\n",
       "                    \"2021-12\",\n",
       "                    0\n",
       "                ]\n",
       "            ],\n",
       "            \"hoverAnimation\": true,\n",
       "            \"label\": {\n",
       "                \"show\": false,\n",
       "                \"position\": \"top\",\n",
       "                \"margin\": 8\n",
       "            },\n",
       "            \"lineStyle\": {\n",
       "                \"show\": true,\n",
       "                \"width\": 1,\n",
       "                \"opacity\": 1,\n",
       "                \"curveness\": 0,\n",
       "                \"type\": \"solid\"\n",
       "            },\n",
       "            \"areaStyle\": {\n",
       "                \"opacity\": 0\n",
       "            },\n",
       "            \"markLine\": {\n",
       "                \"silent\": false,\n",
       "                \"precision\": 2,\n",
       "                \"label\": {\n",
       "                    \"show\": true,\n",
       "                    \"position\": \"top\",\n",
       "                    \"margin\": 8\n",
       "                },\n",
       "                \"data\": [\n",
       "                    {\n",
       "                        \"type\": \"average\"\n",
       "                    }\n",
       "                ]\n",
       "            },\n",
       "            \"zlevel\": 0,\n",
       "            \"z\": 0\n",
       "        },\n",
       "        {\n",
       "            \"type\": \"line\",\n",
       "            \"name\": \"B\\u7c7b\\u8fdd\\u7ae0\",\n",
       "            \"connectNulls\": false,\n",
       "            \"symbolSize\": 4,\n",
       "            \"showSymbol\": true,\n",
       "            \"smooth\": false,\n",
       "            \"clip\": true,\n",
       "            \"step\": false,\n",
       "            \"stack\": \"\\u603b\\u91cf\",\n",
       "            \"data\": [\n",
       "                [\n",
       "                    \"2020-1\",\n",
       "                    0\n",
       "                ],\n",
       "                [\n",
       "                    \"2020-2\",\n",
       "                    0\n",
       "                ],\n",
       "                [\n",
       "                    \"2020-3\",\n",
       "                    0\n",
       "                ],\n",
       "                [\n",
       "                    \"2020-4\",\n",
       "                    0\n",
       "                ],\n",
       "                [\n",
       "                    \"2020-5\",\n",
       "                    0\n",
       "                ],\n",
       "                [\n",
       "                    \"2020-6\",\n",
       "                    0\n",
       "                ],\n",
       "                [\n",
       "                    \"2020-7\",\n",
       "                    0\n",
       "                ],\n",
       "                [\n",
       "                    \"2020-8\",\n",
       "                    0\n",
       "                ],\n",
       "                [\n",
       "                    \"2020-9\",\n",
       "                    0\n",
       "                ],\n",
       "                [\n",
       "                    \"2020-10\",\n",
       "                    0\n",
       "                ],\n",
       "                [\n",
       "                    \"2020-11\",\n",
       "                    3\n",
       "                ],\n",
       "                [\n",
       "                    \"2020-12\",\n",
       "                    1\n",
       "                ],\n",
       "                [\n",
       "                    \"2021-1\",\n",
       "                    6\n",
       "                ],\n",
       "                [\n",
       "                    \"2021-2\",\n",
       "                    0\n",
       "                ],\n",
       "                [\n",
       "                    \"2021-3\",\n",
       "                    0\n",
       "                ],\n",
       "                [\n",
       "                    \"2021-4\",\n",
       "                    0\n",
       "                ],\n",
       "                [\n",
       "                    \"2021-5\",\n",
       "                    0\n",
       "                ],\n",
       "                [\n",
       "                    \"2021-6\",\n",
       "                    0\n",
       "                ],\n",
       "                [\n",
       "                    \"2021-7\",\n",
       "                    0\n",
       "                ],\n",
       "                [\n",
       "                    \"2021-8\",\n",
       "                    0\n",
       "                ],\n",
       "                [\n",
       "                    \"2021-9\",\n",
       "                    0\n",
       "                ],\n",
       "                [\n",
       "                    \"2021-10\",\n",
       "                    0\n",
       "                ],\n",
       "                [\n",
       "                    \"2021-11\",\n",
       "                    0\n",
       "                ],\n",
       "                [\n",
       "                    \"2021-12\",\n",
       "                    0\n",
       "                ]\n",
       "            ],\n",
       "            \"hoverAnimation\": true,\n",
       "            \"label\": {\n",
       "                \"show\": false,\n",
       "                \"position\": \"top\",\n",
       "                \"margin\": 8\n",
       "            },\n",
       "            \"lineStyle\": {\n",
       "                \"show\": true,\n",
       "                \"width\": 1,\n",
       "                \"opacity\": 1,\n",
       "                \"curveness\": 0,\n",
       "                \"type\": \"solid\"\n",
       "            },\n",
       "            \"areaStyle\": {\n",
       "                \"opacity\": 0\n",
       "            },\n",
       "            \"markLine\": {\n",
       "                \"silent\": false,\n",
       "                \"precision\": 2,\n",
       "                \"label\": {\n",
       "                    \"show\": true,\n",
       "                    \"position\": \"top\",\n",
       "                    \"margin\": 8\n",
       "                },\n",
       "                \"data\": [\n",
       "                    {\n",
       "                        \"type\": \"average\"\n",
       "                    }\n",
       "                ]\n",
       "            },\n",
       "            \"zlevel\": 0,\n",
       "            \"z\": 0\n",
       "        },\n",
       "        {\n",
       "            \"type\": \"line\",\n",
       "            \"name\": \"C\\u7c7b\\u8fdd\\u7ae0\",\n",
       "            \"connectNulls\": false,\n",
       "            \"symbolSize\": 4,\n",
       "            \"showSymbol\": true,\n",
       "            \"smooth\": false,\n",
       "            \"clip\": true,\n",
       "            \"step\": false,\n",
       "            \"stack\": \"\\u603b\\u91cf\",\n",
       "            \"data\": [\n",
       "                [\n",
       "                    \"2020-1\",\n",
       "                    0\n",
       "                ],\n",
       "                [\n",
       "                    \"2020-2\",\n",
       "                    0\n",
       "                ],\n",
       "                [\n",
       "                    \"2020-3\",\n",
       "                    1\n",
       "                ],\n",
       "                [\n",
       "                    \"2020-4\",\n",
       "                    0\n",
       "                ],\n",
       "                [\n",
       "                    \"2020-5\",\n",
       "                    0\n",
       "                ],\n",
       "                [\n",
       "                    \"2020-6\",\n",
       "                    0\n",
       "                ],\n",
       "                [\n",
       "                    \"2020-7\",\n",
       "                    0\n",
       "                ],\n",
       "                [\n",
       "                    \"2020-8\",\n",
       "                    0\n",
       "                ],\n",
       "                [\n",
       "                    \"2020-9\",\n",
       "                    0\n",
       "                ],\n",
       "                [\n",
       "                    \"2020-10\",\n",
       "                    0\n",
       "                ],\n",
       "                [\n",
       "                    \"2020-11\",\n",
       "                    19\n",
       "                ],\n",
       "                [\n",
       "                    \"2020-12\",\n",
       "                    18\n",
       "                ],\n",
       "                [\n",
       "                    \"2021-1\",\n",
       "                    18\n",
       "                ],\n",
       "                [\n",
       "                    \"2021-2\",\n",
       "                    6\n",
       "                ],\n",
       "                [\n",
       "                    \"2021-3\",\n",
       "                    1\n",
       "                ],\n",
       "                [\n",
       "                    \"2021-4\",\n",
       "                    0\n",
       "                ],\n",
       "                [\n",
       "                    \"2021-5\",\n",
       "                    0\n",
       "                ],\n",
       "                [\n",
       "                    \"2021-6\",\n",
       "                    0\n",
       "                ],\n",
       "                [\n",
       "                    \"2021-7\",\n",
       "                    0\n",
       "                ],\n",
       "                [\n",
       "                    \"2021-8\",\n",
       "                    0\n",
       "                ],\n",
       "                [\n",
       "                    \"2021-9\",\n",
       "                    0\n",
       "                ],\n",
       "                [\n",
       "                    \"2021-10\",\n",
       "                    0\n",
       "                ],\n",
       "                [\n",
       "                    \"2021-11\",\n",
       "                    0\n",
       "                ],\n",
       "                [\n",
       "                    \"2021-12\",\n",
       "                    0\n",
       "                ]\n",
       "            ],\n",
       "            \"hoverAnimation\": true,\n",
       "            \"label\": {\n",
       "                \"show\": false,\n",
       "                \"position\": \"top\",\n",
       "                \"margin\": 8\n",
       "            },\n",
       "            \"lineStyle\": {\n",
       "                \"show\": true,\n",
       "                \"width\": 1,\n",
       "                \"opacity\": 1,\n",
       "                \"curveness\": 0,\n",
       "                \"type\": \"solid\"\n",
       "            },\n",
       "            \"areaStyle\": {\n",
       "                \"opacity\": 0\n",
       "            },\n",
       "            \"markLine\": {\n",
       "                \"silent\": false,\n",
       "                \"precision\": 2,\n",
       "                \"label\": {\n",
       "                    \"show\": true,\n",
       "                    \"position\": \"top\",\n",
       "                    \"margin\": 8\n",
       "                },\n",
       "                \"data\": [\n",
       "                    {\n",
       "                        \"type\": \"average\"\n",
       "                    }\n",
       "                ]\n",
       "            },\n",
       "            \"zlevel\": 0,\n",
       "            \"z\": 0\n",
       "        },\n",
       "        {\n",
       "            \"type\": \"line\",\n",
       "            \"name\": \"D\\u7c7b\\u8fdd\\u7ae0\",\n",
       "            \"connectNulls\": false,\n",
       "            \"symbolSize\": 4,\n",
       "            \"showSymbol\": true,\n",
       "            \"smooth\": false,\n",
       "            \"clip\": true,\n",
       "            \"step\": false,\n",
       "            \"stack\": \"\\u603b\\u91cf\",\n",
       "            \"data\": [\n",
       "                [\n",
       "                    \"2020-1\",\n",
       "                    0\n",
       "                ],\n",
       "                [\n",
       "                    \"2020-2\",\n",
       "                    0\n",
       "                ],\n",
       "                [\n",
       "                    \"2020-3\",\n",
       "                    1\n",
       "                ],\n",
       "                [\n",
       "                    \"2020-4\",\n",
       "                    0\n",
       "                ],\n",
       "                [\n",
       "                    \"2020-5\",\n",
       "                    0\n",
       "                ],\n",
       "                [\n",
       "                    \"2020-6\",\n",
       "                    0\n",
       "                ],\n",
       "                [\n",
       "                    \"2020-7\",\n",
       "                    0\n",
       "                ],\n",
       "                [\n",
       "                    \"2020-8\",\n",
       "                    0\n",
       "                ],\n",
       "                [\n",
       "                    \"2020-9\",\n",
       "                    0\n",
       "                ],\n",
       "                [\n",
       "                    \"2020-10\",\n",
       "                    0\n",
       "                ],\n",
       "                [\n",
       "                    \"2020-11\",\n",
       "                    47\n",
       "                ],\n",
       "                [\n",
       "                    \"2020-12\",\n",
       "                    31\n",
       "                ],\n",
       "                [\n",
       "                    \"2021-1\",\n",
       "                    27\n",
       "                ],\n",
       "                [\n",
       "                    \"2021-2\",\n",
       "                    16\n",
       "                ],\n",
       "                [\n",
       "                    \"2021-3\",\n",
       "                    4\n",
       "                ],\n",
       "                [\n",
       "                    \"2021-4\",\n",
       "                    0\n",
       "                ],\n",
       "                [\n",
       "                    \"2021-5\",\n",
       "                    0\n",
       "                ],\n",
       "                [\n",
       "                    \"2021-6\",\n",
       "                    0\n",
       "                ],\n",
       "                [\n",
       "                    \"2021-7\",\n",
       "                    0\n",
       "                ],\n",
       "                [\n",
       "                    \"2021-8\",\n",
       "                    0\n",
       "                ],\n",
       "                [\n",
       "                    \"2021-9\",\n",
       "                    0\n",
       "                ],\n",
       "                [\n",
       "                    \"2021-10\",\n",
       "                    0\n",
       "                ],\n",
       "                [\n",
       "                    \"2021-11\",\n",
       "                    0\n",
       "                ],\n",
       "                [\n",
       "                    \"2021-12\",\n",
       "                    0\n",
       "                ]\n",
       "            ],\n",
       "            \"hoverAnimation\": true,\n",
       "            \"label\": {\n",
       "                \"show\": false,\n",
       "                \"position\": \"top\",\n",
       "                \"margin\": 8\n",
       "            },\n",
       "            \"lineStyle\": {\n",
       "                \"show\": true,\n",
       "                \"width\": 1,\n",
       "                \"opacity\": 1,\n",
       "                \"curveness\": 0,\n",
       "                \"type\": \"solid\"\n",
       "            },\n",
       "            \"areaStyle\": {\n",
       "                \"opacity\": 0\n",
       "            },\n",
       "            \"markPoint\": {\n",
       "                \"label\": {\n",
       "                    \"show\": true,\n",
       "                    \"position\": \"inside\",\n",
       "                    \"color\": \"#fff\",\n",
       "                    \"margin\": 8\n",
       "                },\n",
       "                \"data\": [\n",
       "                    {\n",
       "                        \"type\": \"max\"\n",
       "                    }\n",
       "                ]\n",
       "            },\n",
       "            \"markLine\": {\n",
       "                \"silent\": false,\n",
       "                \"precision\": 2,\n",
       "                \"label\": {\n",
       "                    \"show\": true,\n",
       "                    \"position\": \"top\",\n",
       "                    \"margin\": 8\n",
       "                },\n",
       "                \"data\": [\n",
       "                    {\n",
       "                        \"type\": \"average\"\n",
       "                    }\n",
       "                ]\n",
       "            },\n",
       "            \"zlevel\": 0,\n",
       "            \"z\": 0\n",
       "        }\n",
       "    ],\n",
       "    \"legend\": [\n",
       "        {\n",
       "            \"data\": [\n",
       "                \"A\\u7c7b\\u8fdd\\u7ae0\",\n",
       "                \"B\\u7c7b\\u8fdd\\u7ae0\",\n",
       "                \"C\\u7c7b\\u8fdd\\u7ae0\",\n",
       "                \"D\\u7c7b\\u8fdd\\u7ae0\"\n",
       "            ],\n",
       "            \"selected\": {\n",
       "                \"A\\u7c7b\\u8fdd\\u7ae0\": true,\n",
       "                \"B\\u7c7b\\u8fdd\\u7ae0\": true,\n",
       "                \"C\\u7c7b\\u8fdd\\u7ae0\": true,\n",
       "                \"D\\u7c7b\\u8fdd\\u7ae0\": true\n",
       "            },\n",
       "            \"show\": true,\n",
       "            \"padding\": 5,\n",
       "            \"itemGap\": 10,\n",
       "            \"itemWidth\": 25,\n",
       "            \"itemHeight\": 14\n",
       "        }\n",
       "    ],\n",
       "    \"tooltip\": {\n",
       "        \"show\": true,\n",
       "        \"trigger\": \"axis\",\n",
       "        \"triggerOn\": \"mousemove|click\",\n",
       "        \"axisPointer\": {\n",
       "            \"type\": \"line\"\n",
       "        },\n",
       "        \"showContent\": true,\n",
       "        \"alwaysShowContent\": false,\n",
       "        \"showDelay\": 0,\n",
       "        \"hideDelay\": 100,\n",
       "        \"textStyle\": {\n",
       "            \"fontSize\": 14\n",
       "        },\n",
       "        \"borderWidth\": 0,\n",
       "        \"padding\": 5\n",
       "    },\n",
       "    \"xAxis\": [\n",
       "        {\n",
       "            \"type\": \"category\",\n",
       "            \"show\": true,\n",
       "            \"scale\": false,\n",
       "            \"nameLocation\": \"end\",\n",
       "            \"nameGap\": 15,\n",
       "            \"gridIndex\": 0,\n",
       "            \"inverse\": false,\n",
       "            \"offset\": 0,\n",
       "            \"splitNumber\": 5,\n",
       "            \"boundaryGap\": false,\n",
       "            \"minInterval\": 0,\n",
       "            \"splitLine\": {\n",
       "                \"show\": false,\n",
       "                \"lineStyle\": {\n",
       "                    \"show\": true,\n",
       "                    \"width\": 1,\n",
       "                    \"opacity\": 1,\n",
       "                    \"curveness\": 0,\n",
       "                    \"type\": \"solid\"\n",
       "                }\n",
       "            },\n",
       "            \"data\": [\n",
       "                \"2020-1\",\n",
       "                \"2020-2\",\n",
       "                \"2020-3\",\n",
       "                \"2020-4\",\n",
       "                \"2020-5\",\n",
       "                \"2020-6\",\n",
       "                \"2020-7\",\n",
       "                \"2020-8\",\n",
       "                \"2020-9\",\n",
       "                \"2020-10\",\n",
       "                \"2020-11\",\n",
       "                \"2020-12\",\n",
       "                \"2021-1\",\n",
       "                \"2021-2\",\n",
       "                \"2021-3\",\n",
       "                \"2021-4\",\n",
       "                \"2021-5\",\n",
       "                \"2021-6\",\n",
       "                \"2021-7\",\n",
       "                \"2021-8\",\n",
       "                \"2021-9\",\n",
       "                \"2021-10\",\n",
       "                \"2021-11\",\n",
       "                \"2021-12\"\n",
       "            ]\n",
       "        }\n",
       "    ],\n",
       "    \"yAxis\": [\n",
       "        {\n",
       "            \"type\": \"value\",\n",
       "            \"show\": true,\n",
       "            \"scale\": false,\n",
       "            \"nameLocation\": \"end\",\n",
       "            \"nameGap\": 15,\n",
       "            \"gridIndex\": 0,\n",
       "            \"axisTick\": {\n",
       "                \"show\": true,\n",
       "                \"alignWithLabel\": false,\n",
       "                \"inside\": false\n",
       "            },\n",
       "            \"inverse\": false,\n",
       "            \"offset\": 0,\n",
       "            \"splitNumber\": 5,\n",
       "            \"minInterval\": 0,\n",
       "            \"splitLine\": {\n",
       "                \"show\": true,\n",
       "                \"lineStyle\": {\n",
       "                    \"show\": true,\n",
       "                    \"width\": 1,\n",
       "                    \"opacity\": 1,\n",
       "                    \"curveness\": 0,\n",
       "                    \"type\": \"solid\"\n",
       "                }\n",
       "            }\n",
       "        }\n",
       "    ],\n",
       "    \"title\": [\n",
       "        {\n",
       "            \"text\": \"\\u6606\\u660e\\u4f9b\\u7535\\u5c40\\u6539\\u9769\\u540e\\u4f01\\u4e1a\\u8fdd\\u7ae0\\u7c7b\\u522b\\u8d8b\\u52bf\",\n",
       "            \"padding\": 5,\n",
       "            \"itemGap\": 10\n",
       "        }\n",
       "    ],\n",
       "    \"dataZoom\": {\n",
       "        \"show\": true,\n",
       "        \"type\": \"slider\",\n",
       "        \"realtime\": true,\n",
       "        \"start\": 20,\n",
       "        \"end\": 80,\n",
       "        \"orient\": \"horizontal\",\n",
       "        \"zoomLock\": false,\n",
       "        \"filterMode\": \"filter\"\n",
       "    }\n",
       "};\n",
       "                chart_aa533447de42417eac9f92fbd54f5346.setOption(option_aa533447de42417eac9f92fbd54f5346);\n",
       "        });\n",
       "    </script>\n"
      ],
      "text/plain": [
       "<pyecharts.render.display.HTML at 0x22ed209e4f0>"
      ]
     },
     "execution_count": 146,
     "metadata": {},
     "output_type": "execute_result"
    }
   ],
   "source": [
    "import pyecharts.options as opts\n",
    "from pyecharts.charts import Line\n",
    "df_in = df[df['是否改革后企业']== '是']\n",
    "df_date_level = df_in.groupby(['违章等级','违章时间年','违章时间月'])['违章时间'].count().reset_index(name='次数')\n",
    "\n",
    "for level in set(df_date_level['违章等级']):\n",
    "    for year in set(df_date_level['违章时间年']):        \n",
    "        new = pd.DataFrame(\n",
    "            [\n",
    "                [level,year,1,0],\n",
    "                [level,year,2,0],\n",
    "                [level,year,3,0],\n",
    "                [level,year,4,0],\n",
    "                [level,year,5,0],\n",
    "                [level,year,6,0],\n",
    "                [level,year,7,0],\n",
    "                [level,year,8,0],\n",
    "                [level,year,9,0],\n",
    "                [level,year,10,0],\n",
    "                [level,year,11,0],\n",
    "                [level,year,12,0],\n",
    "            ],columns=['违章等级','违章时间年','违章时间月','次数'])\n",
    "        df_date_level=df_date_level.append(new,ignore_index=True)\n",
    "df_date_level = df_date_level.groupby(['违章等级','违章时间年','违章时间月'])['次数'].sum().reset_index(name='次数')\n",
    "#df_date_level\n",
    "x_list=[]\n",
    "for year in set(df_date_level['违章时间年']):\n",
    "    for i in range(1,13,1):\n",
    "        x_list.append(str(year)+'-'+str(i))\n",
    "        \n",
    "x_data = x_list\n",
    "y_data = [820, 932, 901, 934, 1290, 1330, 1320]\n",
    "\n",
    "\n",
    "line=(\n",
    "    Line()\n",
    "    .add_xaxis(xaxis_data=x_data)\n",
    "    .add_yaxis(\n",
    "        series_name=\"A类违章\",\n",
    "        stack=\"总量\",\n",
    "        y_axis=df_date_level[df_date_level['违章等级']== 'A']['次数'].tolist(),\n",
    "        label_opts=opts.LabelOpts(is_show=False),\n",
    "        markline_opts=opts.MarkLineOpts(data=[opts.MarkLineItem(type_=\"average\")]),\n",
    "#         markpoint_opts=opts.MarkPointOpts(data=[opts.MarkPointItem(type_=\"max\")]),\n",
    "        #markpoint_opts=opts.MarkPointOpts(data=[opts.MarkPointItem(type_=\"min\")])\n",
    "    )\n",
    "    .add_yaxis(\n",
    "        series_name=\"B类违章\",\n",
    "        stack=\"总量\",\n",
    "        y_axis=df_date_level[df_date_level['违章等级']== 'B']['次数'].tolist(),\n",
    "        label_opts=opts.LabelOpts(is_show=False),\n",
    "        markline_opts=opts.MarkLineOpts(data=[opts.MarkLineItem(type_=\"average\")]),\n",
    "#         markpoint_opts=opts.MarkPointOpts(data=[opts.MarkPointItem(type_=\"max\")]),\n",
    "#         markpoint_opts=opts.MarkPointOpts(data=[opts.MarkPointItem(type_=\"min\")])\n",
    "    )\n",
    "    .add_yaxis(\n",
    "        series_name=\"C类违章\",\n",
    "        stack=\"总量\",\n",
    "        y_axis=df_date_level[df_date_level['违章等级']== 'C']['次数'].tolist(),\n",
    "        label_opts=opts.LabelOpts(is_show=False),\n",
    "        markline_opts=opts.MarkLineOpts(data=[opts.MarkLineItem(type_=\"average\")]),\n",
    "#         markpoint_opts=opts.MarkPointOpts(data=[opts.MarkPointItem(type_=\"max\")]),\n",
    "#         markpoint_opts=opts.MarkPointOpts(data=[opts.MarkPointItem(type_=\"min\")])\n",
    "    )\n",
    "    .add_yaxis(\n",
    "        series_name=\"D类违章\",\n",
    "        stack=\"总量\",\n",
    "        y_axis=df_date_level[df_date_level['违章等级']== 'D']['次数'].tolist(),\n",
    "        label_opts=opts.LabelOpts(is_show=False),\n",
    "        markline_opts=opts.MarkLineOpts(data=[opts.MarkLineItem(type_=\"average\")]),\n",
    "        markpoint_opts=opts.MarkPointOpts(data=[opts.MarkPointItem(type_=\"max\")]),\n",
    "#         markpoint_opts=opts.MarkPointOpts(data=[opts.MarkPointItem(type_=\"min\")])\n",
    "    )\n",
    "    .set_global_opts(\n",
    "        title_opts=opts.TitleOpts(title=\"昆明供电局改革后企业违章类别趋势\"),\n",
    "        datazoom_opts=opts.DataZoomOpts(),\n",
    "        tooltip_opts=opts.TooltipOpts(trigger=\"axis\"),\n",
    "        yaxis_opts=opts.AxisOpts(\n",
    "            type_=\"value\",\n",
    "            axistick_opts=opts.AxisTickOpts(is_show=True),\n",
    "            splitline_opts=opts.SplitLineOpts(is_show=True),\n",
    "        ),\n",
    "        xaxis_opts=opts.AxisOpts(type_=\"category\", boundary_gap=False),\n",
    "    )\n",
    ")\n",
    "line.render_notebook()"
   ]
  },
  {
   "cell_type": "code",
   "execution_count": 9,
   "id": "responsible-barrel",
   "metadata": {},
   "outputs": [
    {
     "data": {
      "text/plain": [
       "违章主体\n",
       "系统内    687\n",
       "承包商    678\n",
       "dtype: int64"
      ]
     },
     "execution_count": 9,
     "metadata": {},
     "output_type": "execute_result"
    },
    {
     "data": {
      "text/plain": [
       "其他承包商    469\n",
       "改革后企业    209\n",
       "dtype: int64"
      ]
     },
     "execution_count": 9,
     "metadata": {},
     "output_type": "execute_result"
    },
    {
     "data": {
      "text/html": [
       "\n",
       "<script>\n",
       "    require.config({\n",
       "        paths: {\n",
       "            'echarts':'https://assets.pyecharts.org/assets/echarts.min'\n",
       "        }\n",
       "    });\n",
       "</script>\n",
       "\n",
       "        <div id=\"a01bad89dd944c21b50c978af12deea8\" style=\"width:900px; height:500px;\"></div>\n",
       "\n",
       "<script>\n",
       "        require(['echarts'], function(echarts) {\n",
       "                var chart_a01bad89dd944c21b50c978af12deea8 = echarts.init(\n",
       "                    document.getElementById('a01bad89dd944c21b50c978af12deea8'), 'white', {renderer: 'canvas'});\n",
       "                var option_a01bad89dd944c21b50c978af12deea8 = {\n",
       "    \"animation\": true,\n",
       "    \"animationThreshold\": 2000,\n",
       "    \"animationDuration\": 1000,\n",
       "    \"animationEasing\": \"cubicOut\",\n",
       "    \"animationDelay\": 0,\n",
       "    \"animationDurationUpdate\": 300,\n",
       "    \"animationEasingUpdate\": \"cubicOut\",\n",
       "    \"animationDelayUpdate\": 0,\n",
       "    \"color\": [\n",
       "        \"#c23531\",\n",
       "        \"#2f4554\",\n",
       "        \"#61a0a8\",\n",
       "        \"#d48265\",\n",
       "        \"#749f83\",\n",
       "        \"#ca8622\",\n",
       "        \"#bda29a\",\n",
       "        \"#6e7074\",\n",
       "        \"#546570\",\n",
       "        \"#c4ccd3\",\n",
       "        \"#f05b72\",\n",
       "        \"#ef5b9c\",\n",
       "        \"#f47920\",\n",
       "        \"#905a3d\",\n",
       "        \"#fab27b\",\n",
       "        \"#2a5caa\",\n",
       "        \"#444693\",\n",
       "        \"#726930\",\n",
       "        \"#b2d235\",\n",
       "        \"#6d8346\",\n",
       "        \"#ac6767\",\n",
       "        \"#1d953f\",\n",
       "        \"#6950a1\",\n",
       "        \"#918597\"\n",
       "    ],\n",
       "    \"series\": [\n",
       "        {\n",
       "            \"type\": \"pie\",\n",
       "            \"clockwise\": true,\n",
       "            \"data\": [\n",
       "                {\n",
       "                    \"name\": \"\\u7cfb\\u7edf\\u5185\",\n",
       "                    \"value\": 50.33\n",
       "                },\n",
       "                {\n",
       "                    \"name\": \"\\u627f\\u5305\\u5546\",\n",
       "                    \"value\": 49.67\n",
       "                }\n",
       "            ],\n",
       "            \"radius\": [\n",
       "                60,\n",
       "                80\n",
       "            ],\n",
       "            \"center\": [\n",
       "                \"20%\",\n",
       "                \"30%\"\n",
       "            ],\n",
       "            \"label\": {\n",
       "                \"show\": true,\n",
       "                \"position\": \"center\",\n",
       "                \"margin\": 8,\n",
       "                \"formatter\":     function(params) {        if(params.name == '\\u627f\\u5305\\u5546'||params.name == '\\u5176\\u4ed6'||params.name == '\\u5426'||params.name =='\\u5176\\u4ed6\\u627f\\u5305\\u5546')             return '\\n\\n\\n' + params.name + ' : ' + params.value + '%';        return params.name + ' : ' + params.value + '%';    }    \n",
       "            }\n",
       "        },\n",
       "        {\n",
       "            \"type\": \"pie\",\n",
       "            \"clockwise\": true,\n",
       "            \"data\": [\n",
       "                {\n",
       "                    \"name\": \"\\u5176\\u4ed6\\u627f\\u5305\\u5546\",\n",
       "                    \"value\": 69.17\n",
       "                },\n",
       "                {\n",
       "                    \"name\": \"\\u6539\\u9769\\u540e\\u4f01\\u4e1a\",\n",
       "                    \"value\": 30.83\n",
       "                }\n",
       "            ],\n",
       "            \"radius\": [\n",
       "                60,\n",
       "                80\n",
       "            ],\n",
       "            \"center\": [\n",
       "                \"55%\",\n",
       "                \"30%\"\n",
       "            ],\n",
       "            \"label\": {\n",
       "                \"show\": true,\n",
       "                \"position\": \"center\",\n",
       "                \"margin\": 8,\n",
       "                \"formatter\":     function(params) {        if(params.name == '\\u627f\\u5305\\u5546'||params.name == '\\u5176\\u4ed6'||params.name == '\\u5426'||params.name =='\\u5176\\u4ed6\\u627f\\u5305\\u5546')             return '\\n\\n\\n' + params.name + ' : ' + params.value + '%';        return params.name + ' : ' + params.value + '%';    }    \n",
       "            }\n",
       "        },\n",
       "        {\n",
       "            \"type\": \"pie\",\n",
       "            \"clockwise\": true,\n",
       "            \"data\": [\n",
       "                {\n",
       "                    \"name\": \"\\u7231\\u60c5\",\n",
       "                    \"value\": 14\n",
       "                },\n",
       "                {\n",
       "                    \"name\": \"\\u5176\\u4ed6\",\n",
       "                    \"value\": 86\n",
       "                }\n",
       "            ],\n",
       "            \"radius\": [\n",
       "                60,\n",
       "                80\n",
       "            ],\n",
       "            \"center\": [\n",
       "                \"20%\",\n",
       "                \"70%\"\n",
       "            ],\n",
       "            \"label\": {\n",
       "                \"show\": true,\n",
       "                \"position\": \"center\",\n",
       "                \"margin\": 8,\n",
       "                \"formatter\":     function(params) {        if(params.name == '\\u627f\\u5305\\u5546'||params.name == '\\u5176\\u4ed6'||params.name == '\\u5426'||params.name =='\\u5176\\u4ed6\\u627f\\u5305\\u5546')             return '\\n\\n\\n' + params.name + ' : ' + params.value + '%';        return params.name + ' : ' + params.value + '%';    }    \n",
       "            }\n",
       "        },\n",
       "        {\n",
       "            \"type\": \"pie\",\n",
       "            \"clockwise\": true,\n",
       "            \"data\": [\n",
       "                {\n",
       "                    \"name\": \"\\u60ca\\u609a\",\n",
       "                    \"value\": 11\n",
       "                },\n",
       "                {\n",
       "                    \"name\": \"\\u5176\\u4ed6\",\n",
       "                    \"value\": 89\n",
       "                }\n",
       "            ],\n",
       "            \"radius\": [\n",
       "                60,\n",
       "                80\n",
       "            ],\n",
       "            \"center\": [\n",
       "                \"55%\",\n",
       "                \"70%\"\n",
       "            ],\n",
       "            \"label\": {\n",
       "                \"show\": true,\n",
       "                \"position\": \"center\",\n",
       "                \"margin\": 8,\n",
       "                \"formatter\":     function(params) {        if(params.name == '\\u627f\\u5305\\u5546'||params.name == '\\u5176\\u4ed6'||params.name == '\\u5426'||params.name =='\\u5176\\u4ed6\\u627f\\u5305\\u5546')             return '\\n\\n\\n' + params.name + ' : ' + params.value + '%';        return params.name + ' : ' + params.value + '%';    }    \n",
       "            }\n",
       "        }\n",
       "    ],\n",
       "    \"legend\": [\n",
       "        {\n",
       "            \"data\": [\n",
       "                \"\\u7cfb\\u7edf\\u5185\",\n",
       "                \"\\u627f\\u5305\\u5546\",\n",
       "                \"\\u5176\\u4ed6\\u627f\\u5305\\u5546\",\n",
       "                \"\\u6539\\u9769\\u540e\\u4f01\\u4e1a\",\n",
       "                \"\\u7231\\u60c5\",\n",
       "                \"\\u5176\\u4ed6\",\n",
       "                \"\\u60ca\\u609a\"\n",
       "            ],\n",
       "            \"selected\": {},\n",
       "            \"type\": \"scroll\",\n",
       "            \"show\": true,\n",
       "            \"left\": \"80%\",\n",
       "            \"top\": \"20%\",\n",
       "            \"orient\": \"vertical\",\n",
       "            \"padding\": 5,\n",
       "            \"itemGap\": 10,\n",
       "            \"itemWidth\": 25,\n",
       "            \"itemHeight\": 14\n",
       "        }\n",
       "    ],\n",
       "    \"tooltip\": {\n",
       "        \"show\": true,\n",
       "        \"trigger\": \"item\",\n",
       "        \"triggerOn\": \"mousemove|click\",\n",
       "        \"axisPointer\": {\n",
       "            \"type\": \"line\"\n",
       "        },\n",
       "        \"showContent\": true,\n",
       "        \"alwaysShowContent\": false,\n",
       "        \"showDelay\": 0,\n",
       "        \"hideDelay\": 100,\n",
       "        \"textStyle\": {\n",
       "            \"fontSize\": 14\n",
       "        },\n",
       "        \"borderWidth\": 0,\n",
       "        \"padding\": 5\n",
       "    },\n",
       "    \"title\": [\n",
       "        {\n",
       "            \"text\": \"Pie-\\u591a\\u997c\\u56fe\\u57fa\\u672c\\u793a\\u4f8b\",\n",
       "            \"padding\": 5,\n",
       "            \"itemGap\": 10\n",
       "        }\n",
       "    ]\n",
       "};\n",
       "                chart_a01bad89dd944c21b50c978af12deea8.setOption(option_a01bad89dd944c21b50c978af12deea8);\n",
       "        });\n",
       "    </script>\n"
      ],
      "text/plain": [
       "<pyecharts.render.display.HTML at 0x22ed3693b20>"
      ]
     },
     "execution_count": 9,
     "metadata": {},
     "output_type": "execute_result"
    }
   ],
   "source": [
    "from pyecharts.charts import Pie\n",
    "from pyecharts import options as opts\n",
    "from pyecharts.commons.utils import JsCode\n",
    "fn = \"\"\"\n",
    "    function(params) {\n",
    "        if(params.name == '承包商'||params.name == '其他'||params.name == '否'||params.name =='其他承包商') \n",
    "            return '\\\\n\\\\n\\\\n' + params.name + ' : ' + params.value + '%';\n",
    "        return params.name + ' : ' + params.value + '%';\n",
    "    }\n",
    "    \"\"\"\n",
    "\n",
    "\n",
    "def new_label_opts():\n",
    "    return opts.LabelOpts(formatter=JsCode(fn), position=\"center\")\n",
    "\n",
    "\n",
    "df_duty_cout = df.value_counts('违章主体')\n",
    "df_duty_cout\n",
    "\n",
    "df_kdt_cout = df[df['违章主体']=='承包商'].value_counts('是否改革后企业')\n",
    "\n",
    "df_kdt_cout = pd.Series(df_kdt_cout.values,['其他承包商', '改革后企业'])\n",
    "df_kdt_cout\n",
    "# x = df_duty_cout.index.tolist()\n",
    "# y = df_duty_cout.values.tolist()\n",
    "# r = [round((x/(y[0]+y[1]))*100,2) for x in y]\n",
    "\n",
    "# x = df_duty_cout.index.tolist()\n",
    "# y = df_duty_cout.values.tolist()\n",
    "# r = [round((x/(y[0]+y[1]))*100,2) for x in df_duty_cout.values.tolist()]\n",
    "\n",
    "c = (\n",
    "    Pie()\n",
    "    .add(\n",
    "        \"\",\n",
    "        [list(z) for z in zip(df_duty_cout.index.tolist(), [round((x/(df_duty_cout.values.tolist()[0]+df_duty_cout.values.tolist()[1]))*100,2) for x in df_duty_cout.values.tolist()])],\n",
    "        center=[\"20%\", \"30%\"],\n",
    "        radius=[60, 80],\n",
    "        label_opts=new_label_opts(),\n",
    "    )\n",
    "    .add(\n",
    "        \"\",\n",
    "        [list(z) for z in zip(df_kdt_cout.index.tolist(), [round((x/(df_kdt_cout.values.tolist()[0]+df_kdt_cout.values.tolist()[1]))*100,2) for x in df_kdt_cout.values.tolist()])],\n",
    "        center=[\"55%\", \"30%\"],\n",
    "        radius=[60, 80],\n",
    "        label_opts=new_label_opts(),\n",
    "        \n",
    "    )\n",
    "    .add(\n",
    "        \"\",\n",
    "        [list(z) for z in zip([\"爱情\", \"其他\"], [14, 86])],\n",
    "        center=[\"20%\", \"70%\"],\n",
    "        radius=[60, 80],\n",
    "        label_opts=new_label_opts(),\n",
    "    )\n",
    "    .add(\n",
    "        \"\",\n",
    "        [list(z) for z in zip([\"惊悚\", \"其他\"], [11, 89])],\n",
    "        center=[\"55%\", \"70%\"],\n",
    "        radius=[60, 80],\n",
    "        label_opts=new_label_opts(),\n",
    "    )\n",
    "    .set_global_opts(\n",
    "        title_opts=opts.TitleOpts(title=\"Pie-多饼图基本示例\"),\n",
    "        legend_opts=opts.LegendOpts(\n",
    "            type_=\"scroll\", pos_top=\"20%\", pos_left=\"80%\", orient=\"vertical\"\n",
    "        ),\n",
    "    )\n",
    "   \n",
    ")\n",
    "c.render_notebook()"
   ]
  },
  {
   "cell_type": "markdown",
   "id": "ongoing-state",
   "metadata": {},
   "source": [
    "## 违章层级及比例"
   ]
  },
  {
   "cell_type": "code",
   "execution_count": 65,
   "id": "common-sheriff",
   "metadata": {},
   "outputs": [
    {
     "data": {
      "text/html": [
       "<div>\n",
       "<style scoped>\n",
       "    .dataframe tbody tr th:only-of-type {\n",
       "        vertical-align: middle;\n",
       "    }\n",
       "\n",
       "    .dataframe tbody tr th {\n",
       "        vertical-align: top;\n",
       "    }\n",
       "\n",
       "    .dataframe thead th {\n",
       "        text-align: right;\n",
       "    }\n",
       "</style>\n",
       "<table border=\"1\" class=\"dataframe\">\n",
       "  <thead>\n",
       "    <tr style=\"text-align: right;\">\n",
       "      <th></th>\n",
       "      <th>违章时间年</th>\n",
       "      <th>违章时间月</th>\n",
       "      <th>项目单位</th>\n",
       "      <th>A</th>\n",
       "      <th>B</th>\n",
       "      <th>C</th>\n",
       "      <th>D</th>\n",
       "      <th>合计</th>\n",
       "      <th>是否越级</th>\n",
       "      <th>单位违章合计</th>\n",
       "      <th>违章占比</th>\n",
       "    </tr>\n",
       "  </thead>\n",
       "  <tbody>\n",
       "    <tr>\n",
       "      <th>0</th>\n",
       "      <td>2020</td>\n",
       "      <td>2</td>\n",
       "      <td>盘龙供电局</td>\n",
       "      <td>0</td>\n",
       "      <td>0</td>\n",
       "      <td>0</td>\n",
       "      <td>1</td>\n",
       "      <td>1</td>\n",
       "      <td>是</td>\n",
       "      <td>49</td>\n",
       "      <td>0.020408</td>\n",
       "    </tr>\n",
       "    <tr>\n",
       "      <th>1</th>\n",
       "      <td>2020</td>\n",
       "      <td>3</td>\n",
       "      <td>呈贡供电局</td>\n",
       "      <td>0</td>\n",
       "      <td>0</td>\n",
       "      <td>0</td>\n",
       "      <td>1</td>\n",
       "      <td>1</td>\n",
       "      <td>否</td>\n",
       "      <td>52</td>\n",
       "      <td>0.019231</td>\n",
       "    </tr>\n",
       "    <tr>\n",
       "      <th>2</th>\n",
       "      <td>2020</td>\n",
       "      <td>3</td>\n",
       "      <td>富民供电局</td>\n",
       "      <td>1</td>\n",
       "      <td>0</td>\n",
       "      <td>0</td>\n",
       "      <td>0</td>\n",
       "      <td>1</td>\n",
       "      <td>是</td>\n",
       "      <td>79</td>\n",
       "      <td>0.012658</td>\n",
       "    </tr>\n",
       "    <tr>\n",
       "      <th>3</th>\n",
       "      <td>2020</td>\n",
       "      <td>3</td>\n",
       "      <td>盘龙供电局</td>\n",
       "      <td>0</td>\n",
       "      <td>0</td>\n",
       "      <td>1</td>\n",
       "      <td>0</td>\n",
       "      <td>1</td>\n",
       "      <td>是</td>\n",
       "      <td>49</td>\n",
       "      <td>0.020408</td>\n",
       "    </tr>\n",
       "    <tr>\n",
       "      <th>4</th>\n",
       "      <td>2020</td>\n",
       "      <td>3</td>\n",
       "      <td>石林供电局</td>\n",
       "      <td>0</td>\n",
       "      <td>0</td>\n",
       "      <td>0</td>\n",
       "      <td>1</td>\n",
       "      <td>1</td>\n",
       "      <td>是</td>\n",
       "      <td>61</td>\n",
       "      <td>0.016393</td>\n",
       "    </tr>\n",
       "    <tr>\n",
       "      <th>...</th>\n",
       "      <td>...</td>\n",
       "      <td>...</td>\n",
       "      <td>...</td>\n",
       "      <td>...</td>\n",
       "      <td>...</td>\n",
       "      <td>...</td>\n",
       "      <td>...</td>\n",
       "      <td>...</td>\n",
       "      <td>...</td>\n",
       "      <td>...</td>\n",
       "      <td>...</td>\n",
       "    </tr>\n",
       "    <tr>\n",
       "      <th>201</th>\n",
       "      <td>2021</td>\n",
       "      <td>3</td>\n",
       "      <td>石林供电局</td>\n",
       "      <td>0</td>\n",
       "      <td>0</td>\n",
       "      <td>0</td>\n",
       "      <td>2</td>\n",
       "      <td>2</td>\n",
       "      <td>是</td>\n",
       "      <td>61</td>\n",
       "      <td>0.032787</td>\n",
       "    </tr>\n",
       "    <tr>\n",
       "      <th>202</th>\n",
       "      <td>2021</td>\n",
       "      <td>3</td>\n",
       "      <td>禄劝供电局</td>\n",
       "      <td>0</td>\n",
       "      <td>0</td>\n",
       "      <td>0</td>\n",
       "      <td>4</td>\n",
       "      <td>4</td>\n",
       "      <td>是</td>\n",
       "      <td>123</td>\n",
       "      <td>0.032520</td>\n",
       "    </tr>\n",
       "    <tr>\n",
       "      <th>203</th>\n",
       "      <td>2021</td>\n",
       "      <td>3</td>\n",
       "      <td>西山供电局</td>\n",
       "      <td>0</td>\n",
       "      <td>2</td>\n",
       "      <td>0</td>\n",
       "      <td>0</td>\n",
       "      <td>2</td>\n",
       "      <td>是</td>\n",
       "      <td>60</td>\n",
       "      <td>0.033333</td>\n",
       "    </tr>\n",
       "    <tr>\n",
       "      <th>204</th>\n",
       "      <td>2021</td>\n",
       "      <td>3</td>\n",
       "      <td>西山供电局</td>\n",
       "      <td>0</td>\n",
       "      <td>0</td>\n",
       "      <td>2</td>\n",
       "      <td>1</td>\n",
       "      <td>3</td>\n",
       "      <td>否</td>\n",
       "      <td>60</td>\n",
       "      <td>0.050000</td>\n",
       "    </tr>\n",
       "    <tr>\n",
       "      <th>205</th>\n",
       "      <td>All</td>\n",
       "      <td></td>\n",
       "      <td></td>\n",
       "      <td>20</td>\n",
       "      <td>60</td>\n",
       "      <td>279</td>\n",
       "      <td>853</td>\n",
       "      <td>1212</td>\n",
       "      <td>否</td>\n",
       "      <td>1212</td>\n",
       "      <td>1.000000</td>\n",
       "    </tr>\n",
       "  </tbody>\n",
       "</table>\n",
       "<p>206 rows × 11 columns</p>\n",
       "</div>"
      ],
      "text/plain": [
       "    违章时间年 违章时间月   项目单位   A   B    C    D    合计 是否越级  单位违章合计      违章占比\n",
       "0    2020     2  盘龙供电局   0   0    0    1     1    是      49  0.020408\n",
       "1    2020     3  呈贡供电局   0   0    0    1     1    否      52  0.019231\n",
       "2    2020     3  富民供电局   1   0    0    0     1    是      79  0.012658\n",
       "3    2020     3  盘龙供电局   0   0    1    0     1    是      49  0.020408\n",
       "4    2020     3  石林供电局   0   0    0    1     1    是      61  0.016393\n",
       "..    ...   ...    ...  ..  ..  ...  ...   ...  ...     ...       ...\n",
       "201  2021     3  石林供电局   0   0    0    2     2    是      61  0.032787\n",
       "202  2021     3  禄劝供电局   0   0    0    4     4    是     123  0.032520\n",
       "203  2021     3  西山供电局   0   2    0    0     2    是      60  0.033333\n",
       "204  2021     3  西山供电局   0   0    2    1     3    否      60  0.050000\n",
       "205   All               20  60  279  853  1212    否    1212  1.000000\n",
       "\n",
       "[206 rows x 11 columns]"
      ]
     },
     "execution_count": 65,
     "metadata": {},
     "output_type": "execute_result"
    }
   ],
   "source": [
    "df_case = df.copy()\n",
    "df_table.loc[:,'是否越级']='是'\n",
    "for i in range(len(df_table)):\n",
    "    if df_table['项目单位'][i] == df_table['检查单位'][i]:\n",
    "        df_table.loc[i,'是否越级']='否'\n",
    "        \n",
    "df_table = df.pivot_table(values=['项目管理单位公司'],\n",
    "                          index=['违章时间年','违章时间月','项目管理单位分','督查单位分'],\n",
    "                          columns=['违章等级'],\n",
    "                          aggfunc=len,\n",
    "                          fill_value=0,\n",
    "                          margins=True).reset_index()\n",
    "columns = ['违章时间年','违章时间月','项目单位', '检查单位', 'A', 'B', 'C', 'D', '合计']\n",
    "df_table.columns=columns\n",
    "df_table.loc[:,'是否越级']='是'\n",
    "for i in range(len(df_table)):\n",
    "    if df_table['项目单位'][i] == df_table['检查单位'][i]:\n",
    "        df_table.loc[i,'是否越级']='否'\n",
    "del df_table['检查单位']\n",
    "df_table['单位违章合计'] = df_table.groupby('项目单位')['合计'].transform('sum')\n",
    "df_table['违章占比'] = df_table['合计']/df_table['单位违章合计']\n",
    "df_table\n"
   ]
  },
  {
   "cell_type": "markdown",
   "id": "hollywood-double",
   "metadata": {},
   "source": [
    "## 违章原因排名"
   ]
  },
  {
   "cell_type": "code",
   "execution_count": 62,
   "id": "classified-prize",
   "metadata": {},
   "outputs": [
    {
     "data": {
      "text/html": [
       "<div>\n",
       "<style scoped>\n",
       "    .dataframe tbody tr th:only-of-type {\n",
       "        vertical-align: middle;\n",
       "    }\n",
       "\n",
       "    .dataframe tbody tr th {\n",
       "        vertical-align: top;\n",
       "    }\n",
       "\n",
       "    .dataframe thead th {\n",
       "        text-align: right;\n",
       "    }\n",
       "</style>\n",
       "<table border=\"1\" class=\"dataframe\">\n",
       "  <thead>\n",
       "    <tr style=\"text-align: right;\">\n",
       "      <th></th>\n",
       "      <th>项目管理单位分</th>\n",
       "      <th>违章时间年</th>\n",
       "      <th>违章时间月</th>\n",
       "      <th>违章代码</th>\n",
       "      <th>数量</th>\n",
       "    </tr>\n",
       "  </thead>\n",
       "  <tbody>\n",
       "    <tr>\n",
       "      <th>0</th>\n",
       "      <td>东川供电局</td>\n",
       "      <td>2020</td>\n",
       "      <td>8</td>\n",
       "      <td>C09</td>\n",
       "      <td>1</td>\n",
       "    </tr>\n",
       "    <tr>\n",
       "      <th>1</th>\n",
       "      <td>东川供电局</td>\n",
       "      <td>2020</td>\n",
       "      <td>10</td>\n",
       "      <td>C04</td>\n",
       "      <td>1</td>\n",
       "    </tr>\n",
       "    <tr>\n",
       "      <th>2</th>\n",
       "      <td>东川供电局</td>\n",
       "      <td>2020</td>\n",
       "      <td>10</td>\n",
       "      <td>D06</td>\n",
       "      <td>2</td>\n",
       "    </tr>\n",
       "    <tr>\n",
       "      <th>3</th>\n",
       "      <td>东川供电局</td>\n",
       "      <td>2020</td>\n",
       "      <td>10</td>\n",
       "      <td>D19</td>\n",
       "      <td>1</td>\n",
       "    </tr>\n",
       "    <tr>\n",
       "      <th>4</th>\n",
       "      <td>东川供电局</td>\n",
       "      <td>2020</td>\n",
       "      <td>10</td>\n",
       "      <td>D33</td>\n",
       "      <td>1</td>\n",
       "    </tr>\n",
       "    <tr>\n",
       "      <th>...</th>\n",
       "      <td>...</td>\n",
       "      <td>...</td>\n",
       "      <td>...</td>\n",
       "      <td>...</td>\n",
       "      <td>...</td>\n",
       "    </tr>\n",
       "    <tr>\n",
       "      <th>690</th>\n",
       "      <td>通信所</td>\n",
       "      <td>2020</td>\n",
       "      <td>12</td>\n",
       "      <td>D04</td>\n",
       "      <td>1</td>\n",
       "    </tr>\n",
       "    <tr>\n",
       "      <th>691</th>\n",
       "      <td>通信所</td>\n",
       "      <td>2020</td>\n",
       "      <td>12</td>\n",
       "      <td>D29</td>\n",
       "      <td>1</td>\n",
       "    </tr>\n",
       "    <tr>\n",
       "      <th>692</th>\n",
       "      <td>通信所</td>\n",
       "      <td>2020</td>\n",
       "      <td>12</td>\n",
       "      <td>D32</td>\n",
       "      <td>1</td>\n",
       "    </tr>\n",
       "    <tr>\n",
       "      <th>693</th>\n",
       "      <td>通信所</td>\n",
       "      <td>2021</td>\n",
       "      <td>1</td>\n",
       "      <td>D56</td>\n",
       "      <td>3</td>\n",
       "    </tr>\n",
       "    <tr>\n",
       "      <th>694</th>\n",
       "      <td>通信所</td>\n",
       "      <td>2021</td>\n",
       "      <td>2</td>\n",
       "      <td>D28</td>\n",
       "      <td>1</td>\n",
       "    </tr>\n",
       "  </tbody>\n",
       "</table>\n",
       "<p>695 rows × 5 columns</p>\n",
       "</div>"
      ],
      "text/plain": [
       "    项目管理单位分  违章时间年  违章时间月 违章代码  数量\n",
       "0     东川供电局   2020      8  C09   1\n",
       "1     东川供电局   2020     10  C04   1\n",
       "2     东川供电局   2020     10  D06   2\n",
       "3     东川供电局   2020     10  D19   1\n",
       "4     东川供电局   2020     10  D33   1\n",
       "..      ...    ...    ...  ...  ..\n",
       "690     通信所   2020     12  D04   1\n",
       "691     通信所   2020     12  D29   1\n",
       "692     通信所   2020     12  D32   1\n",
       "693     通信所   2021      1  D56   3\n",
       "694     通信所   2021      2  D28   1\n",
       "\n",
       "[695 rows x 5 columns]"
      ]
     },
     "execution_count": 62,
     "metadata": {},
     "output_type": "execute_result"
    }
   ],
   "source": [
    "df_code_cout =df_case.groupby(['项目管理单位分','违章时间年','违章时间月','违章代码'])['违章代码'].count().reset_index(name=\"数量\")\n",
    "df_code_cout.to_excel(r'D:\\JGY\\600-Data\\006-temporary临时文件\\违章原因.xlsx',engine='openpyxl')\n",
    "df_code_cout\n",
    "\n",
    "# for item in df_code_cout:\n",
    "#     item[0]\n",
    "#     item[1].groupby(['项目管理单位分','违章代码'])['违章代码'].size()\n",
    "    \n",
    "    "
   ]
  },
  {
   "cell_type": "markdown",
   "id": "integral-round",
   "metadata": {},
   "source": [
    "## 时间分析\n"
   ]
  },
  {
   "cell_type": "code",
   "execution_count": 63,
   "id": "intensive-girlfriend",
   "metadata": {},
   "outputs": [
    {
     "data": {
      "text/plain": [
       "违章等级\n",
       "D    103\n",
       "C     28\n",
       "B      7\n",
       "A      5\n",
       "dtype: int64"
      ]
     },
     "execution_count": 63,
     "metadata": {},
     "output_type": "execute_result"
    }
   ],
   "source": [
    "stat = pd.to_datetime('2021-2-1')\n",
    "end = pd.to_datetime('2021-2-28')\n",
    "# df['违章时间']=pd.to_datetime(df['违章时间'])\n",
    "# df['违章年'] = df['违章时间'].dt.year\n",
    "# df['违章月'] = df['违章时间'].dt.month\n",
    "\n",
    "df_section=df[df['违章时间'].between(stat,end)]\n",
    "\n",
    "df_level_cout_section = df_section.value_counts('违章等级')\n",
    "df_level_cout_section"
   ]
  },
  {
   "cell_type": "code",
   "execution_count": 6,
   "id": "liberal-content",
   "metadata": {},
   "outputs": [
    {
     "data": {
      "text/html": [
       "<div>\n",
       "<style scoped>\n",
       "    .dataframe tbody tr th:only-of-type {\n",
       "        vertical-align: middle;\n",
       "    }\n",
       "\n",
       "    .dataframe tbody tr th {\n",
       "        vertical-align: top;\n",
       "    }\n",
       "\n",
       "    .dataframe thead th {\n",
       "        text-align: right;\n",
       "    }\n",
       "</style>\n",
       "<table border=\"1\" class=\"dataframe\">\n",
       "  <thead>\n",
       "    <tr style=\"text-align: right;\">\n",
       "      <th></th>\n",
       "      <th>违章时间年</th>\n",
       "      <th>违章时间月</th>\n",
       "      <th>违章时间周</th>\n",
       "      <th>项目管理单位分</th>\n",
       "      <th>违章等级</th>\n",
       "      <th>是否自主暴露</th>\n",
       "      <th>项目管理单位</th>\n",
       "    </tr>\n",
       "  </thead>\n",
       "  <tbody>\n",
       "    <tr>\n",
       "      <th>0</th>\n",
       "      <td>2020</td>\n",
       "      <td>2</td>\n",
       "      <td>9</td>\n",
       "      <td>盘龙供电局</td>\n",
       "      <td>D</td>\n",
       "      <td>否</td>\n",
       "      <td>1</td>\n",
       "    </tr>\n",
       "    <tr>\n",
       "      <th>5</th>\n",
       "      <td>2020</td>\n",
       "      <td>3</td>\n",
       "      <td>10</td>\n",
       "      <td>盘龙供电局</td>\n",
       "      <td>C</td>\n",
       "      <td>否</td>\n",
       "      <td>1</td>\n",
       "    </tr>\n",
       "    <tr>\n",
       "      <th>4</th>\n",
       "      <td>2020</td>\n",
       "      <td>3</td>\n",
       "      <td>10</td>\n",
       "      <td>呈贡供电局</td>\n",
       "      <td>D</td>\n",
       "      <td>否</td>\n",
       "      <td>1</td>\n",
       "    </tr>\n",
       "    <tr>\n",
       "      <th>3</th>\n",
       "      <td>2020</td>\n",
       "      <td>3</td>\n",
       "      <td>10</td>\n",
       "      <td>禄劝供电局</td>\n",
       "      <td>A</td>\n",
       "      <td>否</td>\n",
       "      <td>1</td>\n",
       "    </tr>\n",
       "    <tr>\n",
       "      <th>2</th>\n",
       "      <td>2020</td>\n",
       "      <td>3</td>\n",
       "      <td>10</td>\n",
       "      <td>石林供电局</td>\n",
       "      <td>D</td>\n",
       "      <td>是</td>\n",
       "      <td>1</td>\n",
       "    </tr>\n",
       "    <tr>\n",
       "      <th>...</th>\n",
       "      <td>...</td>\n",
       "      <td>...</td>\n",
       "      <td>...</td>\n",
       "      <td>...</td>\n",
       "      <td>...</td>\n",
       "      <td>...</td>\n",
       "      <td>...</td>\n",
       "    </tr>\n",
       "    <tr>\n",
       "      <th>557</th>\n",
       "      <td>2021</td>\n",
       "      <td>3</td>\n",
       "      <td>9</td>\n",
       "      <td>嵩明供电局</td>\n",
       "      <td>D</td>\n",
       "      <td>是</td>\n",
       "      <td>1</td>\n",
       "    </tr>\n",
       "    <tr>\n",
       "      <th>561</th>\n",
       "      <td>2021</td>\n",
       "      <td>3</td>\n",
       "      <td>9</td>\n",
       "      <td>禄劝供电局</td>\n",
       "      <td>D</td>\n",
       "      <td>是</td>\n",
       "      <td>4</td>\n",
       "    </tr>\n",
       "    <tr>\n",
       "      <th>560</th>\n",
       "      <td>2021</td>\n",
       "      <td>3</td>\n",
       "      <td>9</td>\n",
       "      <td>石林供电局</td>\n",
       "      <td>D</td>\n",
       "      <td>是</td>\n",
       "      <td>2</td>\n",
       "    </tr>\n",
       "    <tr>\n",
       "      <th>554</th>\n",
       "      <td>2021</td>\n",
       "      <td>3</td>\n",
       "      <td>9</td>\n",
       "      <td>富民供电局</td>\n",
       "      <td>D</td>\n",
       "      <td>是</td>\n",
       "      <td>1</td>\n",
       "    </tr>\n",
       "    <tr>\n",
       "      <th>555</th>\n",
       "      <td>2021</td>\n",
       "      <td>3</td>\n",
       "      <td>9</td>\n",
       "      <td>寻甸供电局</td>\n",
       "      <td>D</td>\n",
       "      <td>是</td>\n",
       "      <td>2</td>\n",
       "    </tr>\n",
       "  </tbody>\n",
       "</table>\n",
       "<p>577 rows × 7 columns</p>\n",
       "</div>"
      ],
      "text/plain": [
       "    违章时间年 违章时间月 违章时间周 项目管理单位分 违章等级 是否自主暴露  项目管理单位\n",
       "0    2020     2     9   盘龙供电局    D      否       1\n",
       "5    2020     3    10   盘龙供电局    C      否       1\n",
       "4    2020     3    10   呈贡供电局    D      否       1\n",
       "3    2020     3    10   禄劝供电局    A      否       1\n",
       "2    2020     3    10   石林供电局    D      是       1\n",
       "..    ...   ...   ...     ...  ...    ...     ...\n",
       "557  2021     3     9   嵩明供电局    D      是       1\n",
       "561  2021     3     9   禄劝供电局    D      是       4\n",
       "560  2021     3     9   石林供电局    D      是       2\n",
       "554  2021     3     9   富民供电局    D      是       1\n",
       "555  2021     3     9   寻甸供电局    D      是       2\n",
       "\n",
       "[577 rows x 7 columns]"
      ]
     },
     "execution_count": 6,
     "metadata": {},
     "output_type": "execute_result"
    }
   ],
   "source": [
    "df_section1 =df.groupby(['违章时间年','违章时间月','违章时间周','项目管理单位分','违章等级','是否自主暴露'])['项目管理单位'].size().reset_index()\n",
    "df_section1.to_excel(r'D:\\JGY\\600-Data\\006-temporary临时文件\\单位违章.xlsx',index=False,engine='openpyxl')\n",
    "df_section1['项目管理单位分']=df_section1['项目管理单位分'].map(df_dict)\n",
    "df_section1 = sort_list(df_section1, [[2020,2021],\n",
    "                                      [1,2,3,4,5,6,7,8,9,10,11,12],                                     \n",
    "                                      [1,2,3,4,5,6,7,8,9,10,\n",
    "                                      11,12,13,14,15,16,17,18,19,20,\n",
    "                                      21,22,23,24,25,26,27,28,129,30,\n",
    "                                       31,32,33,34,35,36,37,38,39,40,\n",
    "                                      41,42,43,44,45,46,47,48,49,50,51,52,53,54,55],\n",
    "                                      df_sort['简称'].tolist(),['A','B','C','D'],['是','否']], column_sort=['违章时间年',\n",
    "                                                                                     '违章时间月',\n",
    "                                                                                     '违章时间周',\n",
    "                                                                                     '项目管理单位分',\n",
    "                                                                                     '违章等级',\n",
    "                                                                                     '是否自主暴露'\n",
    "                                                                                    ])\n",
    "# df_section1 = sort_list(df_section1, [df_sort['简称'].tolist(),['A','B','C','D'],['是','否']], column_sort=['项目管理单位分',\n",
    "#                                                                                      '违章等级',\n",
    "#                                                                                      '是否自主暴露'\n",
    "#                                                                                     ])\n",
    "df_section1\n",
    "df_section1.to_excel(r'D:\\JGY\\600-Data\\006-temporary临时文件\\单位违章.xlsx',index=False,engine='openpyxl')"
   ]
  },
  {
   "cell_type": "code",
   "execution_count": 31,
   "id": "blessed-edmonton",
   "metadata": {},
   "outputs": [
    {
     "data": {
      "text/plain": [
       "(2020, 2, '盘龙供电局')"
      ]
     },
     "execution_count": 31,
     "metadata": {},
     "output_type": "execute_result"
    },
    {
     "data": {
      "text/plain": [
       "违章代码\n",
       "D67    1\n",
       "dtype: int64"
      ]
     },
     "execution_count": 31,
     "metadata": {},
     "output_type": "execute_result"
    },
    {
     "data": {
      "text/plain": [
       "(2020, 3, '呈贡供电局')"
      ]
     },
     "execution_count": 31,
     "metadata": {},
     "output_type": "execute_result"
    },
    {
     "data": {
      "text/plain": [
       "违章代码\n",
       "D37    1\n",
       "dtype: int64"
      ]
     },
     "execution_count": 31,
     "metadata": {},
     "output_type": "execute_result"
    },
    {
     "data": {
      "text/plain": [
       "(2020, 3, '富民供电局')"
      ]
     },
     "execution_count": 31,
     "metadata": {},
     "output_type": "execute_result"
    },
    {
     "data": {
      "text/plain": [
       "违章代码\n",
       "A06    1\n",
       "dtype: int64"
      ]
     },
     "execution_count": 31,
     "metadata": {},
     "output_type": "execute_result"
    },
    {
     "data": {
      "text/plain": [
       "(2020, 3, '盘龙供电局')"
      ]
     },
     "execution_count": 31,
     "metadata": {},
     "output_type": "execute_result"
    },
    {
     "data": {
      "text/plain": [
       "违章代码\n",
       "C26    1\n",
       "dtype: int64"
      ]
     },
     "execution_count": 31,
     "metadata": {},
     "output_type": "execute_result"
    },
    {
     "data": {
      "text/plain": [
       "(2020, 3, '石林供电局')"
      ]
     },
     "execution_count": 31,
     "metadata": {},
     "output_type": "execute_result"
    },
    {
     "data": {
      "text/plain": [
       "违章代码\n",
       "D67    1\n",
       "dtype: int64"
      ]
     },
     "execution_count": 31,
     "metadata": {},
     "output_type": "execute_result"
    },
    {
     "data": {
      "text/plain": [
       "(2020, 3, '禄劝供电局')"
      ]
     },
     "execution_count": 31,
     "metadata": {},
     "output_type": "execute_result"
    },
    {
     "data": {
      "text/plain": [
       "违章代码\n",
       "A06    1\n",
       "dtype: int64"
      ]
     },
     "execution_count": 31,
     "metadata": {},
     "output_type": "execute_result"
    },
    {
     "data": {
      "text/plain": [
       "(2020, 6, '五华供电局')"
      ]
     },
     "execution_count": 31,
     "metadata": {},
     "output_type": "execute_result"
    },
    {
     "data": {
      "text/plain": [
       "Series([], dtype: int64)"
      ]
     },
     "execution_count": 31,
     "metadata": {},
     "output_type": "execute_result"
    },
    {
     "data": {
      "text/plain": [
       "(2020, 6, '安宁供电局')"
      ]
     },
     "execution_count": 31,
     "metadata": {},
     "output_type": "execute_result"
    },
    {
     "data": {
      "text/plain": [
       "违章代码\n",
       "C04    3\n",
       "C02    2\n",
       "dtype: int64"
      ]
     },
     "execution_count": 31,
     "metadata": {},
     "output_type": "execute_result"
    },
    {
     "data": {
      "text/plain": [
       "(2020, 6, '官渡供电局')"
      ]
     },
     "execution_count": 31,
     "metadata": {},
     "output_type": "execute_result"
    },
    {
     "data": {
      "text/plain": [
       "Series([], dtype: int64)"
      ]
     },
     "execution_count": 31,
     "metadata": {},
     "output_type": "execute_result"
    },
    {
     "data": {
      "text/plain": [
       "(2020, 6, '宜良供电局')"
      ]
     },
     "execution_count": 31,
     "metadata": {},
     "output_type": "execute_result"
    },
    {
     "data": {
      "text/plain": [
       "违章代码\n",
       "C22    1\n",
       "dtype: int64"
      ]
     },
     "execution_count": 31,
     "metadata": {},
     "output_type": "execute_result"
    },
    {
     "data": {
      "text/plain": [
       "(2020, 6, '富民供电局')"
      ]
     },
     "execution_count": 31,
     "metadata": {},
     "output_type": "execute_result"
    },
    {
     "data": {
      "text/plain": [
       "违章代码\n",
       "C04    2\n",
       "D38    2\n",
       "dtype: int64"
      ]
     },
     "execution_count": 31,
     "metadata": {},
     "output_type": "execute_result"
    },
    {
     "data": {
      "text/plain": [
       "(2020, 6, '嵩明供电局')"
      ]
     },
     "execution_count": 31,
     "metadata": {},
     "output_type": "execute_result"
    },
    {
     "data": {
      "text/plain": [
       "违章代码\n",
       "C04    1\n",
       "dtype: int64"
      ]
     },
     "execution_count": 31,
     "metadata": {},
     "output_type": "execute_result"
    },
    {
     "data": {
      "text/plain": [
       "(2020, 6, '晋宁供电局')"
      ]
     },
     "execution_count": 31,
     "metadata": {},
     "output_type": "execute_result"
    },
    {
     "data": {
      "text/plain": [
       "违章代码\n",
       "C02    1\n",
       "C04    1\n",
       "dtype: int64"
      ]
     },
     "execution_count": 31,
     "metadata": {},
     "output_type": "execute_result"
    },
    {
     "data": {
      "text/plain": [
       "(2020, 6, '盘龙供电局')"
      ]
     },
     "execution_count": 31,
     "metadata": {},
     "output_type": "execute_result"
    },
    {
     "data": {
      "text/plain": [
       "Series([], dtype: int64)"
      ]
     },
     "execution_count": 31,
     "metadata": {},
     "output_type": "execute_result"
    },
    {
     "data": {
      "text/plain": [
       "(2020, 6, '禄劝供电局')"
      ]
     },
     "execution_count": 31,
     "metadata": {},
     "output_type": "execute_result"
    },
    {
     "data": {
      "text/plain": [
       "违章代码\n",
       "B23    2\n",
       "dtype: int64"
      ]
     },
     "execution_count": 31,
     "metadata": {},
     "output_type": "execute_result"
    },
    {
     "data": {
      "text/plain": [
       "(2020, 7, '五华供电局')"
      ]
     },
     "execution_count": 31,
     "metadata": {},
     "output_type": "execute_result"
    },
    {
     "data": {
      "text/plain": [
       "Series([], dtype: int64)"
      ]
     },
     "execution_count": 31,
     "metadata": {},
     "output_type": "execute_result"
    },
    {
     "data": {
      "text/plain": [
       "(2020, 7, '官渡供电局')"
      ]
     },
     "execution_count": 31,
     "metadata": {},
     "output_type": "execute_result"
    },
    {
     "data": {
      "text/plain": [
       "违章代码\n",
       "D29    1\n",
       "dtype: int64"
      ]
     },
     "execution_count": 31,
     "metadata": {},
     "output_type": "execute_result"
    },
    {
     "data": {
      "text/plain": [
       "(2020, 7, '宜良供电局')"
      ]
     },
     "execution_count": 31,
     "metadata": {},
     "output_type": "execute_result"
    },
    {
     "data": {
      "text/plain": [
       "违章代码\n",
       "C04    1\n",
       "D56    1\n",
       "dtype: int64"
      ]
     },
     "execution_count": 31,
     "metadata": {},
     "output_type": "execute_result"
    },
    {
     "data": {
      "text/plain": [
       "(2020, 7, '富民供电局')"
      ]
     },
     "execution_count": 31,
     "metadata": {},
     "output_type": "execute_result"
    },
    {
     "data": {
      "text/plain": [
       "违章代码\n",
       "C09    4\n",
       "C04    2\n",
       "D56    2\n",
       "C12    1\n",
       "dtype: int64"
      ]
     },
     "execution_count": 31,
     "metadata": {},
     "output_type": "execute_result"
    },
    {
     "data": {
      "text/plain": [
       "(2020, 7, '嵩明供电局')"
      ]
     },
     "execution_count": 31,
     "metadata": {},
     "output_type": "execute_result"
    },
    {
     "data": {
      "text/plain": [
       "违章代码\n",
       "C16    3\n",
       "dtype: int64"
      ]
     },
     "execution_count": 31,
     "metadata": {},
     "output_type": "execute_result"
    },
    {
     "data": {
      "text/plain": [
       "(2020, 7, '盘龙供电局')"
      ]
     },
     "execution_count": 31,
     "metadata": {},
     "output_type": "execute_result"
    },
    {
     "data": {
      "text/plain": [
       "Series([], dtype: int64)"
      ]
     },
     "execution_count": 31,
     "metadata": {},
     "output_type": "execute_result"
    },
    {
     "data": {
      "text/plain": [
       "(2020, 7, '禄劝供电局')"
      ]
     },
     "execution_count": 31,
     "metadata": {},
     "output_type": "execute_result"
    },
    {
     "data": {
      "text/plain": [
       "违章代码\n",
       "D67    1\n",
       "dtype: int64"
      ]
     },
     "execution_count": 31,
     "metadata": {},
     "output_type": "execute_result"
    },
    {
     "data": {
      "text/plain": [
       "(2020, 7, '西山供电局')"
      ]
     },
     "execution_count": 31,
     "metadata": {},
     "output_type": "execute_result"
    },
    {
     "data": {
      "text/plain": [
       "Series([], dtype: int64)"
      ]
     },
     "execution_count": 31,
     "metadata": {},
     "output_type": "execute_result"
    },
    {
     "data": {
      "text/plain": [
       "(2020, 8, '东川供电局')"
      ]
     },
     "execution_count": 31,
     "metadata": {},
     "output_type": "execute_result"
    },
    {
     "data": {
      "text/plain": [
       "违章代码\n",
       "C09    1\n",
       "dtype: int64"
      ]
     },
     "execution_count": 31,
     "metadata": {},
     "output_type": "execute_result"
    },
    {
     "data": {
      "text/plain": [
       "(2020, 8, '五华供电局')"
      ]
     },
     "execution_count": 31,
     "metadata": {},
     "output_type": "execute_result"
    },
    {
     "data": {
      "text/plain": [
       "Series([], dtype: int64)"
      ]
     },
     "execution_count": 31,
     "metadata": {},
     "output_type": "execute_result"
    },
    {
     "data": {
      "text/plain": [
       "(2020, 8, '官渡供电局')"
      ]
     },
     "execution_count": 31,
     "metadata": {},
     "output_type": "execute_result"
    },
    {
     "data": {
      "text/plain": [
       "违章代码\n",
       "D56    3\n",
       "dtype: int64"
      ]
     },
     "execution_count": 31,
     "metadata": {},
     "output_type": "execute_result"
    },
    {
     "data": {
      "text/plain": [
       "(2020, 8, '宜良供电局')"
      ]
     },
     "execution_count": 31,
     "metadata": {},
     "output_type": "execute_result"
    },
    {
     "data": {
      "text/plain": [
       "违章代码\n",
       "D67    3\n",
       "dtype: int64"
      ]
     },
     "execution_count": 31,
     "metadata": {},
     "output_type": "execute_result"
    },
    {
     "data": {
      "text/plain": [
       "(2020, 8, '寻甸供电局')"
      ]
     },
     "execution_count": 31,
     "metadata": {},
     "output_type": "execute_result"
    },
    {
     "data": {
      "text/plain": [
       "Series([], dtype: int64)"
      ]
     },
     "execution_count": 31,
     "metadata": {},
     "output_type": "execute_result"
    },
    {
     "data": {
      "text/plain": [
       "(2020, 8, '禄劝供电局')"
      ]
     },
     "execution_count": 31,
     "metadata": {},
     "output_type": "execute_result"
    },
    {
     "data": {
      "text/plain": [
       "违章代码\n",
       "C09    18\n",
       "dtype: int64"
      ]
     },
     "execution_count": 31,
     "metadata": {},
     "output_type": "execute_result"
    },
    {
     "data": {
      "text/plain": [
       "(2020, 8, '西山供电局')"
      ]
     },
     "execution_count": 31,
     "metadata": {},
     "output_type": "execute_result"
    },
    {
     "data": {
      "text/plain": [
       "Series([], dtype: int64)"
      ]
     },
     "execution_count": 31,
     "metadata": {},
     "output_type": "execute_result"
    },
    {
     "data": {
      "text/plain": [
       "(2020, 9, '五华供电局')"
      ]
     },
     "execution_count": 31,
     "metadata": {},
     "output_type": "execute_result"
    },
    {
     "data": {
      "text/plain": [
       "Series([], dtype: int64)"
      ]
     },
     "execution_count": 31,
     "metadata": {},
     "output_type": "execute_result"
    },
    {
     "data": {
      "text/plain": [
       "(2020, 9, '官渡供电局')"
      ]
     },
     "execution_count": 31,
     "metadata": {},
     "output_type": "execute_result"
    },
    {
     "data": {
      "text/plain": [
       "违章代码\n",
       "D57    2\n",
       "dtype: int64"
      ]
     },
     "execution_count": 31,
     "metadata": {},
     "output_type": "execute_result"
    },
    {
     "data": {
      "text/plain": [
       "(2020, 9, '宜良供电局')"
      ]
     },
     "execution_count": 31,
     "metadata": {},
     "output_type": "execute_result"
    },
    {
     "data": {
      "text/plain": [
       "Series([], dtype: int64)"
      ]
     },
     "execution_count": 31,
     "metadata": {},
     "output_type": "execute_result"
    },
    {
     "data": {
      "text/plain": [
       "(2020, 9, '富民供电局')"
      ]
     },
     "execution_count": 31,
     "metadata": {},
     "output_type": "execute_result"
    },
    {
     "data": {
      "text/plain": [
       "违章代码\n",
       "C09    1\n",
       "dtype: int64"
      ]
     },
     "execution_count": 31,
     "metadata": {},
     "output_type": "execute_result"
    },
    {
     "data": {
      "text/plain": [
       "(2020, 9, '禄劝供电局')"
      ]
     },
     "execution_count": 31,
     "metadata": {},
     "output_type": "execute_result"
    },
    {
     "data": {
      "text/plain": [
       "Series([], dtype: int64)"
      ]
     },
     "execution_count": 31,
     "metadata": {},
     "output_type": "execute_result"
    },
    {
     "data": {
      "text/plain": [
       "(2020, 10, '东川供电局')"
      ]
     },
     "execution_count": 31,
     "metadata": {},
     "output_type": "execute_result"
    },
    {
     "data": {
      "text/plain": [
       "违章代码\n",
       "D06    2\n",
       "C04    1\n",
       "D19    1\n",
       "D33    1\n",
       "D38    1\n",
       "D56    1\n",
       "D57    1\n",
       "D67    1\n",
       "dtype: int64"
      ]
     },
     "execution_count": 31,
     "metadata": {},
     "output_type": "execute_result"
    },
    {
     "data": {
      "text/plain": [
       "(2020, 10, '五华供电局')"
      ]
     },
     "execution_count": 31,
     "metadata": {},
     "output_type": "execute_result"
    },
    {
     "data": {
      "text/plain": [
       "违章代码\n",
       "C22    1\n",
       "D29    1\n",
       "dtype: int64"
      ]
     },
     "execution_count": 31,
     "metadata": {},
     "output_type": "execute_result"
    },
    {
     "data": {
      "text/plain": [
       "(2020, 10, '供电服务中心')"
      ]
     },
     "execution_count": 31,
     "metadata": {},
     "output_type": "execute_result"
    },
    {
     "data": {
      "text/plain": [
       "违章代码\n",
       "D01    2\n",
       "D67    1\n",
       "dtype: int64"
      ]
     },
     "execution_count": 31,
     "metadata": {},
     "output_type": "execute_result"
    },
    {
     "data": {
      "text/plain": [
       "(2020, 10, '修试所')"
      ]
     },
     "execution_count": 31,
     "metadata": {},
     "output_type": "execute_result"
    },
    {
     "data": {
      "text/plain": [
       "违章代码\n",
       "D67    4\n",
       "D62    2\n",
       "C04    1\n",
       "D03    1\n",
       "D15    1\n",
       "D57    1\n",
       "dtype: int64"
      ]
     },
     "execution_count": 31,
     "metadata": {},
     "output_type": "execute_result"
    },
    {
     "data": {
      "text/plain": [
       "(2020, 10, '变电一所')"
      ]
     },
     "execution_count": 31,
     "metadata": {},
     "output_type": "execute_result"
    },
    {
     "data": {
      "text/plain": [
       "违章代码\n",
       "D39    2\n",
       "D67    2\n",
       "C09    1\n",
       "D02    1\n",
       "D15    1\n",
       "D33    1\n",
       "dtype: int64"
      ]
     },
     "execution_count": 31,
     "metadata": {},
     "output_type": "execute_result"
    },
    {
     "data": {
      "text/plain": [
       "(2020, 10, '变电二所')"
      ]
     },
     "execution_count": 31,
     "metadata": {},
     "output_type": "execute_result"
    },
    {
     "data": {
      "text/plain": [
       "违章代码\n",
       "D29    3\n",
       "D67    3\n",
       "C09    2\n",
       "D28    1\n",
       "dtype: int64"
      ]
     },
     "execution_count": 31,
     "metadata": {},
     "output_type": "execute_result"
    },
    {
     "data": {
      "text/plain": [
       "(2020, 10, '呈贡供电局')"
      ]
     },
     "execution_count": 31,
     "metadata": {},
     "output_type": "execute_result"
    },
    {
     "data": {
      "text/plain": [
       "违章代码\n",
       "D67    4\n",
       "C04    1\n",
       "C14    1\n",
       "D04    1\n",
       "dtype: int64"
      ]
     },
     "execution_count": 31,
     "metadata": {},
     "output_type": "execute_result"
    },
    {
     "data": {
      "text/plain": [
       "(2020, 10, '安宁供电局')"
      ]
     },
     "execution_count": 31,
     "metadata": {},
     "output_type": "execute_result"
    },
    {
     "data": {
      "text/plain": [
       "违章代码\n",
       "D56    3\n",
       "D18    1\n",
       "D57    1\n",
       "dtype: int64"
      ]
     },
     "execution_count": 31,
     "metadata": {},
     "output_type": "execute_result"
    },
    {
     "data": {
      "text/plain": [
       "(2020, 10, '官渡供电局')"
      ]
     },
     "execution_count": 31,
     "metadata": {},
     "output_type": "execute_result"
    },
    {
     "data": {
      "text/plain": [
       "违章代码\n",
       "D67    4\n",
       "C09    3\n",
       "D29    3\n",
       "C12    2\n",
       "C04    1\n",
       "C14    1\n",
       "D56    1\n",
       "D57    1\n",
       "dtype: int64"
      ]
     },
     "execution_count": 31,
     "metadata": {},
     "output_type": "execute_result"
    },
    {
     "data": {
      "text/plain": [
       "(2020, 10, '宜良供电局')"
      ]
     },
     "execution_count": 31,
     "metadata": {},
     "output_type": "execute_result"
    },
    {
     "data": {
      "text/plain": [
       "违章代码\n",
       "D31    2\n",
       "D37    2\n",
       "D67    2\n",
       "C04    1\n",
       "C14    1\n",
       "D14    1\n",
       "dtype: int64"
      ]
     },
     "execution_count": 31,
     "metadata": {},
     "output_type": "execute_result"
    },
    {
     "data": {
      "text/plain": [
       "(2020, 10, '富民供电局')"
      ]
     },
     "execution_count": 31,
     "metadata": {},
     "output_type": "execute_result"
    },
    {
     "data": {
      "text/plain": [
       "违章代码\n",
       "C12    1\n",
       "C14    1\n",
       "dtype: int64"
      ]
     },
     "execution_count": 31,
     "metadata": {},
     "output_type": "execute_result"
    },
    {
     "data": {
      "text/plain": [
       "(2020, 10, '寻甸供电局')"
      ]
     },
     "execution_count": 31,
     "metadata": {},
     "output_type": "execute_result"
    },
    {
     "data": {
      "text/plain": [
       "违章代码\n",
       "C14    2\n",
       "D04    2\n",
       "D29    2\n",
       "D67    2\n",
       "A09    1\n",
       "B04    1\n",
       "C09    1\n",
       "D06    1\n",
       "D07    1\n",
       "D14    1\n",
       "D57    1\n",
       "dtype: int64"
      ]
     },
     "execution_count": 31,
     "metadata": {},
     "output_type": "execute_result"
    },
    {
     "data": {
      "text/plain": [
       "(2020, 10, '嵩明供电局')"
      ]
     },
     "execution_count": 31,
     "metadata": {},
     "output_type": "execute_result"
    },
    {
     "data": {
      "text/plain": [
       "违章代码\n",
       "D15    4\n",
       "D67    3\n",
       "C12    2\n",
       "D56    2\n",
       "C14    1\n",
       "D34    1\n",
       "D37    1\n",
       "dtype: int64"
      ]
     },
     "execution_count": 31,
     "metadata": {},
     "output_type": "execute_result"
    },
    {
     "data": {
      "text/plain": [
       "(2020, 10, '带电作业中心')"
      ]
     },
     "execution_count": 31,
     "metadata": {},
     "output_type": "execute_result"
    },
    {
     "data": {
      "text/plain": [
       "违章代码\n",
       "D64    1\n",
       "dtype: int64"
      ]
     },
     "execution_count": 31,
     "metadata": {},
     "output_type": "execute_result"
    },
    {
     "data": {
      "text/plain": [
       "(2020, 10, '晋宁供电局')"
      ]
     },
     "execution_count": 31,
     "metadata": {},
     "output_type": "execute_result"
    },
    {
     "data": {
      "text/plain": [
       "违章代码\n",
       "C04    1\n",
       "C09    1\n",
       "D67    1\n",
       "dtype: int64"
      ]
     },
     "execution_count": 31,
     "metadata": {},
     "output_type": "execute_result"
    },
    {
     "data": {
      "text/plain": [
       "(2020, 10, '盘龙供电局')"
      ]
     },
     "execution_count": 31,
     "metadata": {},
     "output_type": "execute_result"
    },
    {
     "data": {
      "text/plain": [
       "违章代码\n",
       "D67    6\n",
       "B06    1\n",
       "C09    1\n",
       "C10    1\n",
       "C22    1\n",
       "D06    1\n",
       "dtype: int64"
      ]
     },
     "execution_count": 31,
     "metadata": {},
     "output_type": "execute_result"
    },
    {
     "data": {
      "text/plain": [
       "(2020, 10, '石林供电局')"
      ]
     },
     "execution_count": 31,
     "metadata": {},
     "output_type": "execute_result"
    },
    {
     "data": {
      "text/plain": [
       "违章代码\n",
       "D67    6\n",
       "C05    1\n",
       "C12    1\n",
       "C22    1\n",
       "C26    1\n",
       "D28    1\n",
       "D29    1\n",
       "D56    1\n",
       "dtype: int64"
      ]
     },
     "execution_count": 31,
     "metadata": {},
     "output_type": "execute_result"
    },
    {
     "data": {
      "text/plain": [
       "(2020, 10, '禄劝供电局')"
      ]
     },
     "execution_count": 31,
     "metadata": {},
     "output_type": "execute_result"
    },
    {
     "data": {
      "text/plain": [
       "违章代码\n",
       "C09    3\n",
       "D67    2\n",
       "C04    1\n",
       "C07    1\n",
       "D37    1\n",
       "dtype: int64"
      ]
     },
     "execution_count": 31,
     "metadata": {},
     "output_type": "execute_result"
    },
    {
     "data": {
      "text/plain": [
       "(2020, 10, '西山供电局')"
      ]
     },
     "execution_count": 31,
     "metadata": {},
     "output_type": "execute_result"
    },
    {
     "data": {
      "text/plain": [
       "违章代码\n",
       "D67    3\n",
       "D15    2\n",
       "D57    2\n",
       "D27    1\n",
       "D56    1\n",
       "dtype: int64"
      ]
     },
     "execution_count": 31,
     "metadata": {},
     "output_type": "execute_result"
    },
    {
     "data": {
      "text/plain": [
       "(2020, 10, '规建中心（质监站）')"
      ]
     },
     "execution_count": 31,
     "metadata": {},
     "output_type": "execute_result"
    },
    {
     "data": {
      "text/plain": [
       "违章代码\n",
       "D15    4\n",
       "D67    2\n",
       "D16    1\n",
       "D49    1\n",
       "D56    1\n",
       "D57    1\n",
       "D58    1\n",
       "D66    1\n",
       "dtype: int64"
      ]
     },
     "execution_count": 31,
     "metadata": {},
     "output_type": "execute_result"
    },
    {
     "data": {
      "text/plain": [
       "(2020, 10, '输电所')"
      ]
     },
     "execution_count": 31,
     "metadata": {},
     "output_type": "execute_result"
    },
    {
     "data": {
      "text/plain": [
       "违章代码\n",
       "D67    5\n",
       "C14    3\n",
       "D57    3\n",
       "D56    2\n",
       "B03    1\n",
       "B18    1\n",
       "C04    1\n",
       "C09    1\n",
       "D61    1\n",
       "dtype: int64"
      ]
     },
     "execution_count": 31,
     "metadata": {},
     "output_type": "execute_result"
    },
    {
     "data": {
      "text/plain": [
       "(2020, 10, '通信所')"
      ]
     },
     "execution_count": 31,
     "metadata": {},
     "output_type": "execute_result"
    },
    {
     "data": {
      "text/plain": [
       "违章代码\n",
       "D03    1\n",
       "D56    1\n",
       "dtype: int64"
      ]
     },
     "execution_count": 31,
     "metadata": {},
     "output_type": "execute_result"
    },
    {
     "data": {
      "text/plain": [
       "(2020, 11, '东川供电局')"
      ]
     },
     "execution_count": 31,
     "metadata": {},
     "output_type": "execute_result"
    },
    {
     "data": {
      "text/plain": [
       "违章代码\n",
       "D67    12\n",
       "D56     5\n",
       "C04     2\n",
       "B01     1\n",
       "B28     1\n",
       "C14     1\n",
       "D02     1\n",
       "D07     1\n",
       "D29     1\n",
       "D37     1\n",
       "D57     1\n",
       "D66     1\n",
       "dtype: int64"
      ]
     },
     "execution_count": 31,
     "metadata": {},
     "output_type": "execute_result"
    },
    {
     "data": {
      "text/plain": [
       "(2020, 11, '五华供电局')"
      ]
     },
     "execution_count": 31,
     "metadata": {},
     "output_type": "execute_result"
    },
    {
     "data": {
      "text/plain": [
       "违章代码\n",
       "D67    3\n",
       "D56    2\n",
       "D61    2\n",
       "D03    1\n",
       "D29    1\n",
       "D57    1\n",
       "dtype: int64"
      ]
     },
     "execution_count": 31,
     "metadata": {},
     "output_type": "execute_result"
    },
    {
     "data": {
      "text/plain": [
       "(2020, 11, '供电服务中心')"
      ]
     },
     "execution_count": 31,
     "metadata": {},
     "output_type": "execute_result"
    },
    {
     "data": {
      "text/plain": [
       "违章代码\n",
       "D67    4\n",
       "dtype: int64"
      ]
     },
     "execution_count": 31,
     "metadata": {},
     "output_type": "execute_result"
    },
    {
     "data": {
      "text/plain": [
       "(2020, 11, '修试所')"
      ]
     },
     "execution_count": 31,
     "metadata": {},
     "output_type": "execute_result"
    },
    {
     "data": {
      "text/plain": [
       "违章代码\n",
       "D67    3\n",
       "C04    2\n",
       "D56    2\n",
       "B30    1\n",
       "D22    1\n",
       "D39    1\n",
       "D44    1\n",
       "dtype: int64"
      ]
     },
     "execution_count": 31,
     "metadata": {},
     "output_type": "execute_result"
    },
    {
     "data": {
      "text/plain": [
       "(2020, 11, '变电一所')"
      ]
     },
     "execution_count": 31,
     "metadata": {},
     "output_type": "execute_result"
    },
    {
     "data": {
      "text/plain": [
       "违章代码\n",
       "C09    3\n",
       "D67    2\n",
       "D03    1\n",
       "D39    1\n",
       "dtype: int64"
      ]
     },
     "execution_count": 31,
     "metadata": {},
     "output_type": "execute_result"
    },
    {
     "data": {
      "text/plain": [
       "(2020, 11, '变电二所')"
      ]
     },
     "execution_count": 31,
     "metadata": {},
     "output_type": "execute_result"
    },
    {
     "data": {
      "text/plain": [
       "违章代码\n",
       "D56    3\n",
       "D67    2\n",
       "C03    1\n",
       "C09    1\n",
       "C17    1\n",
       "D03    1\n",
       "D04    1\n",
       "dtype: int64"
      ]
     },
     "execution_count": 31,
     "metadata": {},
     "output_type": "execute_result"
    },
    {
     "data": {
      "text/plain": [
       "(2020, 11, '呈贡供电局')"
      ]
     },
     "execution_count": 31,
     "metadata": {},
     "output_type": "execute_result"
    },
    {
     "data": {
      "text/plain": [
       "违章代码\n",
       "D67    4\n",
       "C14    3\n",
       "B02    1\n",
       "B05    1\n",
       "C04    1\n",
       "C12    1\n",
       "D04    1\n",
       "D06    1\n",
       "D26    1\n",
       "D29    1\n",
       "D56    1\n",
       "D57    1\n",
       "dtype: int64"
      ]
     },
     "execution_count": 31,
     "metadata": {},
     "output_type": "execute_result"
    },
    {
     "data": {
      "text/plain": [
       "(2020, 11, '安宁供电局')"
      ]
     },
     "execution_count": 31,
     "metadata": {},
     "output_type": "execute_result"
    },
    {
     "data": {
      "text/plain": [
       "违章代码\n",
       "D56    7\n",
       "D67    5\n",
       "D57    4\n",
       "B30    2\n",
       "D33    2\n",
       "A09    1\n",
       "D03    1\n",
       "D06    1\n",
       "D38    1\n",
       "D58    1\n",
       "dtype: int64"
      ]
     },
     "execution_count": 31,
     "metadata": {},
     "output_type": "execute_result"
    },
    {
     "data": {
      "text/plain": [
       "(2020, 11, '官渡供电局')"
      ]
     },
     "execution_count": 31,
     "metadata": {},
     "output_type": "execute_result"
    },
    {
     "data": {
      "text/plain": [
       "违章代码\n",
       "B17    2\n",
       "C22    2\n",
       "D29    2\n",
       "D55    2\n",
       "D67    2\n",
       "C02    1\n",
       "C09    1\n",
       "C26    1\n",
       "D57    1\n",
       "dtype: int64"
      ]
     },
     "execution_count": 31,
     "metadata": {},
     "output_type": "execute_result"
    },
    {
     "data": {
      "text/plain": [
       "(2020, 11, '宜良供电局')"
      ]
     },
     "execution_count": 31,
     "metadata": {},
     "output_type": "execute_result"
    },
    {
     "data": {
      "text/plain": [
       "违章代码\n",
       "D67    8\n",
       "D29    4\n",
       "D56    4\n",
       "D57    3\n",
       "C09    2\n",
       "D03    2\n",
       "D34    2\n",
       "C14    1\n",
       "D04    1\n",
       "D19    1\n",
       "D26    1\n",
       "D27    1\n",
       "D38    1\n",
       "D49    1\n",
       "dtype: int64"
      ]
     },
     "execution_count": 31,
     "metadata": {},
     "output_type": "execute_result"
    },
    {
     "data": {
      "text/plain": [
       "(2020, 11, '富民供电局')"
      ]
     },
     "execution_count": 31,
     "metadata": {},
     "output_type": "execute_result"
    },
    {
     "data": {
      "text/plain": [
       "违章代码\n",
       "D29    5\n",
       "B05    3\n",
       "D34    3\n",
       "D57    3\n",
       "D67    3\n",
       "B18    2\n",
       "C04    2\n",
       "C14    2\n",
       "B22    1\n",
       "C22    1\n",
       "D03    1\n",
       "D07    1\n",
       "D18    1\n",
       "D37    1\n",
       "D58    1\n",
       "dtype: int64"
      ]
     },
     "execution_count": 31,
     "metadata": {},
     "output_type": "execute_result"
    },
    {
     "data": {
      "text/plain": [
       "(2020, 11, '寻甸供电局')"
      ]
     },
     "execution_count": 31,
     "metadata": {},
     "output_type": "execute_result"
    },
    {
     "data": {
      "text/plain": [
       "违章代码\n",
       "D67    4\n",
       "C04    2\n",
       "C14    2\n",
       "D56    2\n",
       "C09    1\n",
       "D14    1\n",
       "D57    1\n",
       "dtype: int64"
      ]
     },
     "execution_count": 31,
     "metadata": {},
     "output_type": "execute_result"
    },
    {
     "data": {
      "text/plain": [
       "(2020, 11, '嵩明供电局')"
      ]
     },
     "execution_count": 31,
     "metadata": {},
     "output_type": "execute_result"
    },
    {
     "data": {
      "text/plain": [
       "违章代码\n",
       "D67    8\n",
       "C14    3\n",
       "B06    1\n",
       "C04    1\n",
       "C21    1\n",
       "D06    1\n",
       "D10    1\n",
       "D29    1\n",
       "D37    1\n",
       "D56    1\n",
       "D57    1\n",
       "D61    1\n",
       "dtype: int64"
      ]
     },
     "execution_count": 31,
     "metadata": {},
     "output_type": "execute_result"
    },
    {
     "data": {
      "text/plain": [
       "(2020, 11, '晋宁供电局')"
      ]
     },
     "execution_count": 31,
     "metadata": {},
     "output_type": "execute_result"
    },
    {
     "data": {
      "text/plain": [
       "违章代码\n",
       "D67    5\n",
       "C04    2\n",
       "A09    1\n",
       "C09    1\n",
       "C22    1\n",
       "D02    1\n",
       "D06    1\n",
       "D56    1\n",
       "dtype: int64"
      ]
     },
     "execution_count": 31,
     "metadata": {},
     "output_type": "execute_result"
    },
    {
     "data": {
      "text/plain": [
       "(2020, 11, '盘龙供电局')"
      ]
     },
     "execution_count": 31,
     "metadata": {},
     "output_type": "execute_result"
    },
    {
     "data": {
      "text/plain": [
       "违章代码\n",
       "D67    4\n",
       "C09    3\n",
       "C08    1\n",
       "C16    1\n",
       "C22    1\n",
       "D31    1\n",
       "D56    1\n",
       "dtype: int64"
      ]
     },
     "execution_count": 31,
     "metadata": {},
     "output_type": "execute_result"
    },
    {
     "data": {
      "text/plain": [
       "(2020, 11, '石林供电局')"
      ]
     },
     "execution_count": 31,
     "metadata": {},
     "output_type": "execute_result"
    },
    {
     "data": {
      "text/plain": [
       "违章代码\n",
       "D67    8\n",
       "C14    4\n",
       "C04    1\n",
       "C12    1\n",
       "C22    1\n",
       "D29    1\n",
       "D39    1\n",
       "D45    1\n",
       "dtype: int64"
      ]
     },
     "execution_count": 31,
     "metadata": {},
     "output_type": "execute_result"
    },
    {
     "data": {
      "text/plain": [
       "(2020, 11, '禄劝供电局')"
      ]
     },
     "execution_count": 31,
     "metadata": {},
     "output_type": "execute_result"
    },
    {
     "data": {
      "text/plain": [
       "违章代码\n",
       "C09    6\n",
       "D29    4\n",
       "D57    3\n",
       "C22    2\n",
       "D04    1\n",
       "D19    1\n",
       "dtype: int64"
      ]
     },
     "execution_count": 31,
     "metadata": {},
     "output_type": "execute_result"
    },
    {
     "data": {
      "text/plain": [
       "(2020, 11, '西山供电局')"
      ]
     },
     "execution_count": 31,
     "metadata": {},
     "output_type": "execute_result"
    },
    {
     "data": {
      "text/plain": [
       "违章代码\n",
       "D67    5\n",
       "D57    4\n",
       "D29    2\n",
       "D56    2\n",
       "C14    1\n",
       "C22    1\n",
       "D03    1\n",
       "D27    1\n",
       "D34    1\n",
       "dtype: int64"
      ]
     },
     "execution_count": 31,
     "metadata": {},
     "output_type": "execute_result"
    },
    {
     "data": {
      "text/plain": [
       "(2020, 11, '规建中心（质监站）')"
      ]
     },
     "execution_count": 31,
     "metadata": {},
     "output_type": "execute_result"
    },
    {
     "data": {
      "text/plain": [
       "违章代码\n",
       "D56    4\n",
       "D67    3\n",
       "D16    2\n",
       "D18    2\n",
       "D29    2\n",
       "C09    1\n",
       "D04    1\n",
       "D20    1\n",
       "D58    1\n",
       "D66    1\n",
       "dtype: int64"
      ]
     },
     "execution_count": 31,
     "metadata": {},
     "output_type": "execute_result"
    },
    {
     "data": {
      "text/plain": [
       "(2020, 11, '输电所')"
      ]
     },
     "execution_count": 31,
     "metadata": {},
     "output_type": "execute_result"
    },
    {
     "data": {
      "text/plain": [
       "违章代码\n",
       "B18    4\n",
       "D67    3\n",
       "A09    2\n",
       "B28    1\n",
       "C04    1\n",
       "C09    1\n",
       "D14    1\n",
       "D29    1\n",
       "dtype: int64"
      ]
     },
     "execution_count": 31,
     "metadata": {},
     "output_type": "execute_result"
    },
    {
     "data": {
      "text/plain": [
       "(2020, 11, '通信所')"
      ]
     },
     "execution_count": 31,
     "metadata": {},
     "output_type": "execute_result"
    },
    {
     "data": {
      "text/plain": [
       "违章代码\n",
       "C09    2\n",
       "D67    2\n",
       "dtype: int64"
      ]
     },
     "execution_count": 31,
     "metadata": {},
     "output_type": "execute_result"
    },
    {
     "data": {
      "text/plain": [
       "(2020, 12, '东川供电局')"
      ]
     },
     "execution_count": 31,
     "metadata": {},
     "output_type": "execute_result"
    },
    {
     "data": {
      "text/plain": [
       "违章代码\n",
       "D56    9\n",
       "D67    2\n",
       "C04    1\n",
       "D33    1\n",
       "D38    1\n",
       "dtype: int64"
      ]
     },
     "execution_count": 31,
     "metadata": {},
     "output_type": "execute_result"
    },
    {
     "data": {
      "text/plain": [
       "(2020, 12, '五华供电局')"
      ]
     },
     "execution_count": 31,
     "metadata": {},
     "output_type": "execute_result"
    },
    {
     "data": {
      "text/plain": [
       "违章代码\n",
       "D67    7\n",
       "A09    1\n",
       "C09    1\n",
       "D29    1\n",
       "D56    1\n",
       "D64    1\n",
       "dtype: int64"
      ]
     },
     "execution_count": 31,
     "metadata": {},
     "output_type": "execute_result"
    },
    {
     "data": {
      "text/plain": [
       "(2020, 12, '供电服务中心')"
      ]
     },
     "execution_count": 31,
     "metadata": {},
     "output_type": "execute_result"
    },
    {
     "data": {
      "text/plain": [
       "违章代码\n",
       "D67    2\n",
       "D29    1\n",
       "D56    1\n",
       "dtype: int64"
      ]
     },
     "execution_count": 31,
     "metadata": {},
     "output_type": "execute_result"
    },
    {
     "data": {
      "text/plain": [
       "(2020, 12, '修试所')"
      ]
     },
     "execution_count": 31,
     "metadata": {},
     "output_type": "execute_result"
    },
    {
     "data": {
      "text/plain": [
       "违章代码\n",
       "C11    6\n",
       "D39    2\n",
       "D67    2\n",
       "D42    1\n",
       "D57    1\n",
       "dtype: int64"
      ]
     },
     "execution_count": 31,
     "metadata": {},
     "output_type": "execute_result"
    },
    {
     "data": {
      "text/plain": [
       "(2020, 12, '变电一所')"
      ]
     },
     "execution_count": 31,
     "metadata": {},
     "output_type": "execute_result"
    },
    {
     "data": {
      "text/plain": [
       "违章代码\n",
       "D39    4\n",
       "D33    1\n",
       "D57    1\n",
       "dtype: int64"
      ]
     },
     "execution_count": 31,
     "metadata": {},
     "output_type": "execute_result"
    },
    {
     "data": {
      "text/plain": [
       "(2020, 12, '变电二所')"
      ]
     },
     "execution_count": 31,
     "metadata": {},
     "output_type": "execute_result"
    },
    {
     "data": {
      "text/plain": [
       "违章代码\n",
       "D67    4\n",
       "C04    1\n",
       "C09    1\n",
       "C12    1\n",
       "C22    1\n",
       "D10    1\n",
       "D42    1\n",
       "D66    1\n",
       "dtype: int64"
      ]
     },
     "execution_count": 31,
     "metadata": {},
     "output_type": "execute_result"
    },
    {
     "data": {
      "text/plain": [
       "(2020, 12, '呈贡供电局')"
      ]
     },
     "execution_count": 31,
     "metadata": {},
     "output_type": "execute_result"
    },
    {
     "data": {
      "text/plain": [
       "违章代码\n",
       "D67    15\n",
       "C14     4\n",
       "C12     1\n",
       "D38     1\n",
       "dtype: int64"
      ]
     },
     "execution_count": 31,
     "metadata": {},
     "output_type": "execute_result"
    },
    {
     "data": {
      "text/plain": [
       "(2020, 12, '安宁供电局')"
      ]
     },
     "execution_count": 31,
     "metadata": {},
     "output_type": "execute_result"
    },
    {
     "data": {
      "text/plain": [
       "违章代码\n",
       "D56    3\n",
       "D57    3\n",
       "D67    3\n",
       "B30    1\n",
       "D31    1\n",
       "D37    1\n",
       "D58    1\n",
       "D64    1\n",
       "dtype: int64"
      ]
     },
     "execution_count": 31,
     "metadata": {},
     "output_type": "execute_result"
    },
    {
     "data": {
      "text/plain": [
       "(2020, 12, '官渡供电局')"
      ]
     },
     "execution_count": 31,
     "metadata": {},
     "output_type": "execute_result"
    },
    {
     "data": {
      "text/plain": [
       "违章代码\n",
       "D67    3\n",
       "D05    2\n",
       "D29    2\n",
       "D56    2\n",
       "D57    2\n",
       "C14    1\n",
       "D02    1\n",
       "D33    1\n",
       "dtype: int64"
      ]
     },
     "execution_count": 31,
     "metadata": {},
     "output_type": "execute_result"
    },
    {
     "data": {
      "text/plain": [
       "(2020, 12, '宜良供电局')"
      ]
     },
     "execution_count": 31,
     "metadata": {},
     "output_type": "execute_result"
    },
    {
     "data": {
      "text/plain": [
       "违章代码\n",
       "D67    7\n",
       "D29    4\n",
       "C14    3\n",
       "D37    2\n",
       "D52    2\n",
       "D33    1\n",
       "dtype: int64"
      ]
     },
     "execution_count": 31,
     "metadata": {},
     "output_type": "execute_result"
    },
    {
     "data": {
      "text/plain": [
       "(2020, 12, '富民供电局')"
      ]
     },
     "execution_count": 31,
     "metadata": {},
     "output_type": "execute_result"
    },
    {
     "data": {
      "text/plain": [
       "违章代码\n",
       "D38    2\n",
       "D67    2\n",
       "C10    1\n",
       "C14    1\n",
       "C22    1\n",
       "dtype: int64"
      ]
     },
     "execution_count": 31,
     "metadata": {},
     "output_type": "execute_result"
    },
    {
     "data": {
      "text/plain": [
       "(2020, 12, '寻甸供电局')"
      ]
     },
     "execution_count": 31,
     "metadata": {},
     "output_type": "execute_result"
    },
    {
     "data": {
      "text/plain": [
       "违章代码\n",
       "C14    2\n",
       "C12    1\n",
       "D14    1\n",
       "D15    1\n",
       "D67    1\n",
       "dtype: int64"
      ]
     },
     "execution_count": 31,
     "metadata": {},
     "output_type": "execute_result"
    },
    {
     "data": {
      "text/plain": [
       "(2020, 12, '嵩明供电局')"
      ]
     },
     "execution_count": 31,
     "metadata": {},
     "output_type": "execute_result"
    },
    {
     "data": {
      "text/plain": [
       "违章代码\n",
       "D67    8\n",
       "D29    4\n",
       "C04    3\n",
       "D37    3\n",
       "C14    2\n",
       "D57    2\n",
       "D01    1\n",
       "D34    1\n",
       "D56    1\n",
       "dtype: int64"
      ]
     },
     "execution_count": 31,
     "metadata": {},
     "output_type": "execute_result"
    },
    {
     "data": {
      "text/plain": [
       "(2020, 12, '晋宁供电局')"
      ]
     },
     "execution_count": 31,
     "metadata": {},
     "output_type": "execute_result"
    },
    {
     "data": {
      "text/plain": [
       "违章代码\n",
       "C10    2\n",
       "D57    1\n",
       "D67    1\n",
       "dtype: int64"
      ]
     },
     "execution_count": 31,
     "metadata": {},
     "output_type": "execute_result"
    },
    {
     "data": {
      "text/plain": [
       "(2020, 12, '盘龙供电局')"
      ]
     },
     "execution_count": 31,
     "metadata": {},
     "output_type": "execute_result"
    },
    {
     "data": {
      "text/plain": [
       "违章代码\n",
       "D33    2\n",
       "D67    2\n",
       "D37    1\n",
       "D44    1\n",
       "dtype: int64"
      ]
     },
     "execution_count": 31,
     "metadata": {},
     "output_type": "execute_result"
    },
    {
     "data": {
      "text/plain": [
       "(2020, 12, '石林供电局')"
      ]
     },
     "execution_count": 31,
     "metadata": {},
     "output_type": "execute_result"
    },
    {
     "data": {
      "text/plain": [
       "违章代码\n",
       "C14    3\n",
       "B06    2\n",
       "D04    1\n",
       "D28    1\n",
       "D29    1\n",
       "D67    1\n",
       "dtype: int64"
      ]
     },
     "execution_count": 31,
     "metadata": {},
     "output_type": "execute_result"
    },
    {
     "data": {
      "text/plain": [
       "(2020, 12, '禄劝供电局')"
      ]
     },
     "execution_count": 31,
     "metadata": {},
     "output_type": "execute_result"
    },
    {
     "data": {
      "text/plain": [
       "违章代码\n",
       "D67    9\n",
       "C10    2\n",
       "D06    2\n",
       "B12    1\n",
       "C04    1\n",
       "C09    1\n",
       "C14    1\n",
       "D37    1\n",
       "D57    1\n",
       "dtype: int64"
      ]
     },
     "execution_count": 31,
     "metadata": {},
     "output_type": "execute_result"
    },
    {
     "data": {
      "text/plain": [
       "(2020, 12, '西山供电局')"
      ]
     },
     "execution_count": 31,
     "metadata": {},
     "output_type": "execute_result"
    },
    {
     "data": {
      "text/plain": [
       "违章代码\n",
       "D56    2\n",
       "D57    2\n",
       "D67    2\n",
       "C04    1\n",
       "C22    1\n",
       "D29    1\n",
       "dtype: int64"
      ]
     },
     "execution_count": 31,
     "metadata": {},
     "output_type": "execute_result"
    },
    {
     "data": {
      "text/plain": [
       "(2020, 12, '规建中心（质监站）')"
      ]
     },
     "execution_count": 31,
     "metadata": {},
     "output_type": "execute_result"
    },
    {
     "data": {
      "text/plain": [
       "违章代码\n",
       "D67    5\n",
       "A09    3\n",
       "D15    3\n",
       "D16    2\n",
       "C09    1\n",
       "C11    1\n",
       "D09    1\n",
       "D10    1\n",
       "D40    1\n",
       "D56    1\n",
       "D66    1\n",
       "dtype: int64"
      ]
     },
     "execution_count": 31,
     "metadata": {},
     "output_type": "execute_result"
    },
    {
     "data": {
      "text/plain": [
       "(2020, 12, '输电所')"
      ]
     },
     "execution_count": 31,
     "metadata": {},
     "output_type": "execute_result"
    },
    {
     "data": {
      "text/plain": [
       "违章代码\n",
       "C09    2\n",
       "C10    1\n",
       "D56    1\n",
       "dtype: int64"
      ]
     },
     "execution_count": 31,
     "metadata": {},
     "output_type": "execute_result"
    },
    {
     "data": {
      "text/plain": [
       "(2020, 12, '通信所')"
      ]
     },
     "execution_count": 31,
     "metadata": {},
     "output_type": "execute_result"
    },
    {
     "data": {
      "text/plain": [
       "违章代码\n",
       "D04    1\n",
       "D29    1\n",
       "D32    1\n",
       "dtype: int64"
      ]
     },
     "execution_count": 31,
     "metadata": {},
     "output_type": "execute_result"
    },
    {
     "data": {
      "text/plain": [
       "(2021, 1, '东川供电局')"
      ]
     },
     "execution_count": 31,
     "metadata": {},
     "output_type": "execute_result"
    },
    {
     "data": {
      "text/plain": [
       "违章代码\n",
       "D02    3\n",
       "C09    2\n",
       "D33    2\n",
       "D56    2\n",
       "B02    1\n",
       "B06    1\n",
       "B21    1\n",
       "B28    1\n",
       "C04    1\n",
       "C22    1\n",
       "D15    1\n",
       "D67    1\n",
       "dtype: int64"
      ]
     },
     "execution_count": 31,
     "metadata": {},
     "output_type": "execute_result"
    },
    {
     "data": {
      "text/plain": [
       "(2021, 1, '五华供电局')"
      ]
     },
     "execution_count": 31,
     "metadata": {},
     "output_type": "execute_result"
    },
    {
     "data": {
      "text/plain": [
       "违章代码\n",
       "C14    2\n",
       "D67    1\n",
       "dtype: int64"
      ]
     },
     "execution_count": 31,
     "metadata": {},
     "output_type": "execute_result"
    },
    {
     "data": {
      "text/plain": [
       "(2021, 1, '供电服务中心')"
      ]
     },
     "execution_count": 31,
     "metadata": {},
     "output_type": "execute_result"
    },
    {
     "data": {
      "text/plain": [
       "Series([], dtype: int64)"
      ]
     },
     "execution_count": 31,
     "metadata": {},
     "output_type": "execute_result"
    },
    {
     "data": {
      "text/plain": [
       "(2021, 1, '修试所')"
      ]
     },
     "execution_count": 31,
     "metadata": {},
     "output_type": "execute_result"
    },
    {
     "data": {
      "text/plain": [
       "违章代码\n",
       "D67    3\n",
       "C09    2\n",
       "C04    1\n",
       "D56    1\n",
       "dtype: int64"
      ]
     },
     "execution_count": 31,
     "metadata": {},
     "output_type": "execute_result"
    },
    {
     "data": {
      "text/plain": [
       "(2021, 1, '变电一所')"
      ]
     },
     "execution_count": 31,
     "metadata": {},
     "output_type": "execute_result"
    },
    {
     "data": {
      "text/plain": [
       "违章代码\n",
       "D02    4\n",
       "B27    1\n",
       "D66    1\n",
       "D67    1\n",
       "dtype: int64"
      ]
     },
     "execution_count": 31,
     "metadata": {},
     "output_type": "execute_result"
    },
    {
     "data": {
      "text/plain": [
       "(2021, 1, '变电二所')"
      ]
     },
     "execution_count": 31,
     "metadata": {},
     "output_type": "execute_result"
    },
    {
     "data": {
      "text/plain": [
       "违章代码\n",
       "D39    3\n",
       "C12    2\n",
       "D15    2\n",
       "D10    1\n",
       "D22    1\n",
       "D23    1\n",
       "D38    1\n",
       "D61    1\n",
       "D67    1\n",
       "dtype: int64"
      ]
     },
     "execution_count": 31,
     "metadata": {},
     "output_type": "execute_result"
    },
    {
     "data": {
      "text/plain": [
       "(2021, 1, '呈贡供电局')"
      ]
     },
     "execution_count": 31,
     "metadata": {},
     "output_type": "execute_result"
    },
    {
     "data": {
      "text/plain": [
       "违章代码\n",
       "C12    1\n",
       "D04    1\n",
       "D67    1\n",
       "dtype: int64"
      ]
     },
     "execution_count": 31,
     "metadata": {},
     "output_type": "execute_result"
    },
    {
     "data": {
      "text/plain": [
       "(2021, 1, '安宁供电局')"
      ]
     },
     "execution_count": 31,
     "metadata": {},
     "output_type": "execute_result"
    },
    {
     "data": {
      "text/plain": [
       "违章代码\n",
       "C04    1\n",
       "C10    1\n",
       "D04    1\n",
       "D06    1\n",
       "D18    1\n",
       "D62    1\n",
       "D67    1\n",
       "dtype: int64"
      ]
     },
     "execution_count": 31,
     "metadata": {},
     "output_type": "execute_result"
    },
    {
     "data": {
      "text/plain": [
       "(2021, 1, '官渡供电局')"
      ]
     },
     "execution_count": 31,
     "metadata": {},
     "output_type": "execute_result"
    },
    {
     "data": {
      "text/plain": [
       "违章代码\n",
       "D56    6\n",
       "D29    3\n",
       "D67    3\n",
       "D06    2\n",
       "C12    1\n",
       "D57    1\n",
       "dtype: int64"
      ]
     },
     "execution_count": 31,
     "metadata": {},
     "output_type": "execute_result"
    },
    {
     "data": {
      "text/plain": [
       "(2021, 1, '宜良供电局')"
      ]
     },
     "execution_count": 31,
     "metadata": {},
     "output_type": "execute_result"
    },
    {
     "data": {
      "text/plain": [
       "违章代码\n",
       "D67    7\n",
       "D57    2\n",
       "B17    1\n",
       "B21    1\n",
       "D06    1\n",
       "D19    1\n",
       "D38    1\n",
       "D56    1\n",
       "dtype: int64"
      ]
     },
     "execution_count": 31,
     "metadata": {},
     "output_type": "execute_result"
    },
    {
     "data": {
      "text/plain": [
       "(2021, 1, '富民供电局')"
      ]
     },
     "execution_count": 31,
     "metadata": {},
     "output_type": "execute_result"
    },
    {
     "data": {
      "text/plain": [
       "违章代码\n",
       "B07    3\n",
       "C04    2\n",
       "C09    2\n",
       "C14    2\n",
       "D06    2\n",
       "D67    2\n",
       "B18    1\n",
       "B28    1\n",
       "C22    1\n",
       "C28    1\n",
       "D07    1\n",
       "D29    1\n",
       "D31    1\n",
       "D56    1\n",
       "dtype: int64"
      ]
     },
     "execution_count": 31,
     "metadata": {},
     "output_type": "execute_result"
    },
    {
     "data": {
      "text/plain": [
       "(2021, 1, '寻甸供电局')"
      ]
     },
     "execution_count": 31,
     "metadata": {},
     "output_type": "execute_result"
    },
    {
     "data": {
      "text/plain": [
       "违章代码\n",
       "D67    3\n",
       "D15    2\n",
       "D57    2\n",
       "A06    1\n",
       "A09    1\n",
       "B30    1\n",
       "C04    1\n",
       "D14    1\n",
       "D20    1\n",
       "D37    1\n",
       "D51    1\n",
       "D56    1\n",
       "dtype: int64"
      ]
     },
     "execution_count": 31,
     "metadata": {},
     "output_type": "execute_result"
    },
    {
     "data": {
      "text/plain": [
       "(2021, 1, '嵩明供电局')"
      ]
     },
     "execution_count": 31,
     "metadata": {},
     "output_type": "execute_result"
    },
    {
     "data": {
      "text/plain": [
       "违章代码\n",
       "D67    4\n",
       "C04    2\n",
       "C12    2\n",
       "C14    2\n",
       "D33    2\n",
       "D57    2\n",
       "D28    1\n",
       "D39    1\n",
       "D56    1\n",
       "dtype: int64"
      ]
     },
     "execution_count": 31,
     "metadata": {},
     "output_type": "execute_result"
    },
    {
     "data": {
      "text/plain": [
       "(2021, 1, '市场部')"
      ]
     },
     "execution_count": 31,
     "metadata": {},
     "output_type": "execute_result"
    },
    {
     "data": {
      "text/plain": [
       "违章代码\n",
       "D67    1\n",
       "dtype: int64"
      ]
     },
     "execution_count": 31,
     "metadata": {},
     "output_type": "execute_result"
    },
    {
     "data": {
      "text/plain": [
       "(2021, 1, '晋宁供电局')"
      ]
     },
     "execution_count": 31,
     "metadata": {},
     "output_type": "execute_result"
    },
    {
     "data": {
      "text/plain": [
       "违章代码\n",
       "C14    1\n",
       "D33    1\n",
       "D37    1\n",
       "dtype: int64"
      ]
     },
     "execution_count": 31,
     "metadata": {},
     "output_type": "execute_result"
    },
    {
     "data": {
      "text/plain": [
       "(2021, 1, '盘龙供电局')"
      ]
     },
     "execution_count": 31,
     "metadata": {},
     "output_type": "execute_result"
    },
    {
     "data": {
      "text/plain": [
       "违章代码\n",
       "D33    1\n",
       "D61    1\n",
       "D67    1\n",
       "dtype: int64"
      ]
     },
     "execution_count": 31,
     "metadata": {},
     "output_type": "execute_result"
    },
    {
     "data": {
      "text/plain": [
       "(2021, 1, '石林供电局')"
      ]
     },
     "execution_count": 31,
     "metadata": {},
     "output_type": "execute_result"
    },
    {
     "data": {
      "text/plain": [
       "违章代码\n",
       "D56    6\n",
       "C14    3\n",
       "D37    2\n",
       "A09    1\n",
       "D38    1\n",
       "D49    1\n",
       "dtype: int64"
      ]
     },
     "execution_count": 31,
     "metadata": {},
     "output_type": "execute_result"
    },
    {
     "data": {
      "text/plain": [
       "(2021, 1, '禄劝供电局')"
      ]
     },
     "execution_count": 31,
     "metadata": {},
     "output_type": "execute_result"
    },
    {
     "data": {
      "text/plain": [
       "违章代码\n",
       "D67    18\n",
       "D07     3\n",
       "B30     2\n",
       "D32     2\n",
       "C14     1\n",
       "D06     1\n",
       "D33     1\n",
       "D37     1\n",
       "D38     1\n",
       "D56     1\n",
       "D57     1\n",
       "dtype: int64"
      ]
     },
     "execution_count": 31,
     "metadata": {},
     "output_type": "execute_result"
    },
    {
     "data": {
      "text/plain": [
       "(2021, 1, '西山供电局')"
      ]
     },
     "execution_count": 31,
     "metadata": {},
     "output_type": "execute_result"
    },
    {
     "data": {
      "text/plain": [
       "违章代码\n",
       "C22    2\n",
       "D29    2\n",
       "D56    2\n",
       "C08    1\n",
       "D28    1\n",
       "D57    1\n",
       "D63    1\n",
       "dtype: int64"
      ]
     },
     "execution_count": 31,
     "metadata": {},
     "output_type": "execute_result"
    },
    {
     "data": {
      "text/plain": [
       "(2021, 1, '规建中心（质监站）')"
      ]
     },
     "execution_count": 31,
     "metadata": {},
     "output_type": "execute_result"
    },
    {
     "data": {
      "text/plain": [
       "违章代码\n",
       "C11    2\n",
       "D16    2\n",
       "A09    1\n",
       "B18    1\n",
       "C09    1\n",
       "C14    1\n",
       "D10    1\n",
       "D15    1\n",
       "D22    1\n",
       "D23    1\n",
       "D47    1\n",
       "D66    1\n",
       "D67    1\n",
       "dtype: int64"
      ]
     },
     "execution_count": 31,
     "metadata": {},
     "output_type": "execute_result"
    },
    {
     "data": {
      "text/plain": [
       "(2021, 1, '输电所')"
      ]
     },
     "execution_count": 31,
     "metadata": {},
     "output_type": "execute_result"
    },
    {
     "data": {
      "text/plain": [
       "违章代码\n",
       "B30    1\n",
       "D56    1\n",
       "D67    1\n",
       "dtype: int64"
      ]
     },
     "execution_count": 31,
     "metadata": {},
     "output_type": "execute_result"
    },
    {
     "data": {
      "text/plain": [
       "(2021, 1, '通信所')"
      ]
     },
     "execution_count": 31,
     "metadata": {},
     "output_type": "execute_result"
    },
    {
     "data": {
      "text/plain": [
       "违章代码\n",
       "D56    3\n",
       "dtype: int64"
      ]
     },
     "execution_count": 31,
     "metadata": {},
     "output_type": "execute_result"
    },
    {
     "data": {
      "text/plain": [
       "(2021, 2, '东川供电局')"
      ]
     },
     "execution_count": 31,
     "metadata": {},
     "output_type": "execute_result"
    },
    {
     "data": {
      "text/plain": [
       "违章代码\n",
       "D38    2\n",
       "B30    1\n",
       "C12    1\n",
       "dtype: int64"
      ]
     },
     "execution_count": 31,
     "metadata": {},
     "output_type": "execute_result"
    },
    {
     "data": {
      "text/plain": [
       "(2021, 2, '五华供电局')"
      ]
     },
     "execution_count": 31,
     "metadata": {},
     "output_type": "execute_result"
    },
    {
     "data": {
      "text/plain": [
       "违章代码\n",
       "D67    2\n",
       "C10    1\n",
       "C12    1\n",
       "D29    1\n",
       "D61    1\n",
       "dtype: int64"
      ]
     },
     "execution_count": 31,
     "metadata": {},
     "output_type": "execute_result"
    },
    {
     "data": {
      "text/plain": [
       "(2021, 2, '修试所')"
      ]
     },
     "execution_count": 31,
     "metadata": {},
     "output_type": "execute_result"
    },
    {
     "data": {
      "text/plain": [
       "违章代码\n",
       "C12    3\n",
       "C22    1\n",
       "D03    1\n",
       "dtype: int64"
      ]
     },
     "execution_count": 31,
     "metadata": {},
     "output_type": "execute_result"
    },
    {
     "data": {
      "text/plain": [
       "(2021, 2, '变电一所')"
      ]
     },
     "execution_count": 31,
     "metadata": {},
     "output_type": "execute_result"
    },
    {
     "data": {
      "text/plain": [
       "违章代码\n",
       "C09    2\n",
       "D02    1\n",
       "D33    1\n",
       "D57    1\n",
       "dtype: int64"
      ]
     },
     "execution_count": 31,
     "metadata": {},
     "output_type": "execute_result"
    },
    {
     "data": {
      "text/plain": [
       "(2021, 2, '变电二所')"
      ]
     },
     "execution_count": 31,
     "metadata": {},
     "output_type": "execute_result"
    },
    {
     "data": {
      "text/plain": [
       "违章代码\n",
       "C15    4\n",
       "C10    2\n",
       "D06    2\n",
       "D33    2\n",
       "D67    2\n",
       "C18    1\n",
       "D03    1\n",
       "D09    1\n",
       "D26    1\n",
       "dtype: int64"
      ]
     },
     "execution_count": 31,
     "metadata": {},
     "output_type": "execute_result"
    },
    {
     "data": {
      "text/plain": [
       "(2021, 2, '呈贡供电局')"
      ]
     },
     "execution_count": 31,
     "metadata": {},
     "output_type": "execute_result"
    },
    {
     "data": {
      "text/plain": [
       "违章代码\n",
       "C04    1\n",
       "C12    1\n",
       "D67    1\n",
       "dtype: int64"
      ]
     },
     "execution_count": 31,
     "metadata": {},
     "output_type": "execute_result"
    },
    {
     "data": {
      "text/plain": [
       "(2021, 2, '安宁供电局')"
      ]
     },
     "execution_count": 31,
     "metadata": {},
     "output_type": "execute_result"
    },
    {
     "data": {
      "text/plain": [
       "违章代码\n",
       "D67    6\n",
       "D56    4\n",
       "D27    2\n",
       "D31    2\n",
       "D38    2\n",
       "B17    1\n",
       "C04    1\n",
       "C16    1\n",
       "D15    1\n",
       "D58    1\n",
       "dtype: int64"
      ]
     },
     "execution_count": 31,
     "metadata": {},
     "output_type": "execute_result"
    },
    {
     "data": {
      "text/plain": [
       "(2021, 2, '官渡供电局')"
      ]
     },
     "execution_count": 31,
     "metadata": {},
     "output_type": "execute_result"
    },
    {
     "data": {
      "text/plain": [
       "违章代码\n",
       "B30    3\n",
       "A01    2\n",
       "D33    2\n",
       "D66    1\n",
       "D67    1\n",
       "dtype: int64"
      ]
     },
     "execution_count": 31,
     "metadata": {},
     "output_type": "execute_result"
    },
    {
     "data": {
      "text/plain": [
       "(2021, 2, '宜良供电局')"
      ]
     },
     "execution_count": 31,
     "metadata": {},
     "output_type": "execute_result"
    },
    {
     "data": {
      "text/plain": [
       "违章代码\n",
       "D67    4\n",
       "C09    1\n",
       "dtype: int64"
      ]
     },
     "execution_count": 31,
     "metadata": {},
     "output_type": "execute_result"
    },
    {
     "data": {
      "text/plain": [
       "(2021, 2, '富民供电局')"
      ]
     },
     "execution_count": 31,
     "metadata": {},
     "output_type": "execute_result"
    },
    {
     "data": {
      "text/plain": [
       "违章代码\n",
       "C04    1\n",
       "D37    1\n",
       "D67    1\n",
       "dtype: int64"
      ]
     },
     "execution_count": 31,
     "metadata": {},
     "output_type": "execute_result"
    },
    {
     "data": {
      "text/plain": [
       "(2021, 2, '寻甸供电局')"
      ]
     },
     "execution_count": 31,
     "metadata": {},
     "output_type": "execute_result"
    },
    {
     "data": {
      "text/plain": [
       "违章代码\n",
       "D67    4\n",
       "C12    1\n",
       "C14    1\n",
       "D22    1\n",
       "D56    1\n",
       "dtype: int64"
      ]
     },
     "execution_count": 31,
     "metadata": {},
     "output_type": "execute_result"
    },
    {
     "data": {
      "text/plain": [
       "(2021, 2, '嵩明供电局')"
      ]
     },
     "execution_count": 31,
     "metadata": {},
     "output_type": "execute_result"
    },
    {
     "data": {
      "text/plain": [
       "违章代码\n",
       "B21    1\n",
       "D56    1\n",
       "D67    1\n",
       "dtype: int64"
      ]
     },
     "execution_count": 31,
     "metadata": {},
     "output_type": "execute_result"
    },
    {
     "data": {
      "text/plain": [
       "(2021, 2, '晋宁供电局')"
      ]
     },
     "execution_count": 31,
     "metadata": {},
     "output_type": "execute_result"
    },
    {
     "data": {
      "text/plain": [
       "违章代码\n",
       "D29    2\n",
       "A09    1\n",
       "B04    1\n",
       "D56    1\n",
       "D61    1\n",
       "dtype: int64"
      ]
     },
     "execution_count": 31,
     "metadata": {},
     "output_type": "execute_result"
    },
    {
     "data": {
      "text/plain": [
       "(2021, 2, '盘龙供电局')"
      ]
     },
     "execution_count": 31,
     "metadata": {},
     "output_type": "execute_result"
    },
    {
     "data": {
      "text/plain": [
       "违章代码\n",
       "D67    4\n",
       "A03    1\n",
       "A09    1\n",
       "C14    1\n",
       "dtype: int64"
      ]
     },
     "execution_count": 31,
     "metadata": {},
     "output_type": "execute_result"
    },
    {
     "data": {
      "text/plain": [
       "(2021, 2, '石林供电局')"
      ]
     },
     "execution_count": 31,
     "metadata": {},
     "output_type": "execute_result"
    },
    {
     "data": {
      "text/plain": [
       "违章代码\n",
       "D56    2\n",
       "D15    1\n",
       "D37    1\n",
       "D38    1\n",
       "D67    1\n",
       "dtype: int64"
      ]
     },
     "execution_count": 31,
     "metadata": {},
     "output_type": "execute_result"
    },
    {
     "data": {
      "text/plain": [
       "(2021, 2, '禄劝供电局')"
      ]
     },
     "execution_count": 31,
     "metadata": {},
     "output_type": "execute_result"
    },
    {
     "data": {
      "text/plain": [
       "违章代码\n",
       "D67    19\n",
       "B28     1\n",
       "C14     1\n",
       "C22     1\n",
       "D37     1\n",
       "D61     1\n",
       "dtype: int64"
      ]
     },
     "execution_count": 31,
     "metadata": {},
     "output_type": "execute_result"
    },
    {
     "data": {
      "text/plain": [
       "(2021, 2, '西山供电局')"
      ]
     },
     "execution_count": 31,
     "metadata": {},
     "output_type": "execute_result"
    },
    {
     "data": {
      "text/plain": [
       "违章代码\n",
       "D67    3\n",
       "C09    2\n",
       "D57    2\n",
       "C14    1\n",
       "D29    1\n",
       "D56    1\n",
       "D58    1\n",
       "dtype: int64"
      ]
     },
     "execution_count": 31,
     "metadata": {},
     "output_type": "execute_result"
    },
    {
     "data": {
      "text/plain": [
       "(2021, 2, '规建中心（质监站）')"
      ]
     },
     "execution_count": 31,
     "metadata": {},
     "output_type": "execute_result"
    },
    {
     "data": {
      "text/plain": [
       "违章代码\n",
       "D67    2\n",
       "D15    1\n",
       "dtype: int64"
      ]
     },
     "execution_count": 31,
     "metadata": {},
     "output_type": "execute_result"
    },
    {
     "data": {
      "text/plain": [
       "(2021, 2, '输电所')"
      ]
     },
     "execution_count": 31,
     "metadata": {},
     "output_type": "execute_result"
    },
    {
     "data": {
      "text/plain": [
       "违章代码\n",
       "D04    1\n",
       "D29    1\n",
       "D57    1\n",
       "D67    1\n",
       "dtype: int64"
      ]
     },
     "execution_count": 31,
     "metadata": {},
     "output_type": "execute_result"
    },
    {
     "data": {
      "text/plain": [
       "(2021, 2, '通信所')"
      ]
     },
     "execution_count": 31,
     "metadata": {},
     "output_type": "execute_result"
    },
    {
     "data": {
      "text/plain": [
       "违章代码\n",
       "D28    1\n",
       "dtype: int64"
      ]
     },
     "execution_count": 31,
     "metadata": {},
     "output_type": "execute_result"
    },
    {
     "data": {
      "text/plain": [
       "(2021, 3, '五华供电局')"
      ]
     },
     "execution_count": 31,
     "metadata": {},
     "output_type": "execute_result"
    },
    {
     "data": {
      "text/plain": [
       "违章代码\n",
       "D56    2\n",
       "D38    1\n",
       "dtype: int64"
      ]
     },
     "execution_count": 31,
     "metadata": {},
     "output_type": "execute_result"
    },
    {
     "data": {
      "text/plain": [
       "(2021, 3, '修试所')"
      ]
     },
     "execution_count": 31,
     "metadata": {},
     "output_type": "execute_result"
    },
    {
     "data": {
      "text/plain": [
       "违章代码\n",
       "C04    1\n",
       "dtype: int64"
      ]
     },
     "execution_count": 31,
     "metadata": {},
     "output_type": "execute_result"
    },
    {
     "data": {
      "text/plain": [
       "(2021, 3, '变电一所')"
      ]
     },
     "execution_count": 31,
     "metadata": {},
     "output_type": "execute_result"
    },
    {
     "data": {
      "text/plain": [
       "违章代码\n",
       "D67    1\n",
       "dtype: int64"
      ]
     },
     "execution_count": 31,
     "metadata": {},
     "output_type": "execute_result"
    },
    {
     "data": {
      "text/plain": [
       "(2021, 3, '呈贡供电局')"
      ]
     },
     "execution_count": 31,
     "metadata": {},
     "output_type": "execute_result"
    },
    {
     "data": {
      "text/plain": [
       "违章代码\n",
       "D67    3\n",
       "dtype: int64"
      ]
     },
     "execution_count": 31,
     "metadata": {},
     "output_type": "execute_result"
    },
    {
     "data": {
      "text/plain": [
       "(2021, 3, '安宁供电局')"
      ]
     },
     "execution_count": 31,
     "metadata": {},
     "output_type": "execute_result"
    },
    {
     "data": {
      "text/plain": [
       "违章代码\n",
       "C09    1\n",
       "D57    1\n",
       "dtype: int64"
      ]
     },
     "execution_count": 31,
     "metadata": {},
     "output_type": "execute_result"
    },
    {
     "data": {
      "text/plain": [
       "(2021, 3, '官渡供电局')"
      ]
     },
     "execution_count": 31,
     "metadata": {},
     "output_type": "execute_result"
    },
    {
     "data": {
      "text/plain": [
       "违章代码\n",
       "C04    1\n",
       "D33    1\n",
       "D62    1\n",
       "dtype: int64"
      ]
     },
     "execution_count": 31,
     "metadata": {},
     "output_type": "execute_result"
    },
    {
     "data": {
      "text/plain": [
       "(2021, 3, '富民供电局')"
      ]
     },
     "execution_count": 31,
     "metadata": {},
     "output_type": "execute_result"
    },
    {
     "data": {
      "text/plain": [
       "违章代码\n",
       "D67    1\n",
       "dtype: int64"
      ]
     },
     "execution_count": 31,
     "metadata": {},
     "output_type": "execute_result"
    },
    {
     "data": {
      "text/plain": [
       "(2021, 3, '寻甸供电局')"
      ]
     },
     "execution_count": 31,
     "metadata": {},
     "output_type": "execute_result"
    },
    {
     "data": {
      "text/plain": [
       "违章代码\n",
       "D67    2\n",
       "dtype: int64"
      ]
     },
     "execution_count": 31,
     "metadata": {},
     "output_type": "execute_result"
    },
    {
     "data": {
      "text/plain": [
       "(2021, 3, '嵩明供电局')"
      ]
     },
     "execution_count": 31,
     "metadata": {},
     "output_type": "execute_result"
    },
    {
     "data": {
      "text/plain": [
       "违章代码\n",
       "C04    3\n",
       "D67    1\n",
       "dtype: int64"
      ]
     },
     "execution_count": 31,
     "metadata": {},
     "output_type": "execute_result"
    },
    {
     "data": {
      "text/plain": [
       "(2021, 3, '晋宁供电局')"
      ]
     },
     "execution_count": 31,
     "metadata": {},
     "output_type": "execute_result"
    },
    {
     "data": {
      "text/plain": [
       "违章代码\n",
       "C12    1\n",
       "D67    1\n",
       "dtype: int64"
      ]
     },
     "execution_count": 31,
     "metadata": {},
     "output_type": "execute_result"
    },
    {
     "data": {
      "text/plain": [
       "(2021, 3, '盘龙供电局')"
      ]
     },
     "execution_count": 31,
     "metadata": {},
     "output_type": "execute_result"
    },
    {
     "data": {
      "text/plain": [
       "违章代码\n",
       "D67    3\n",
       "B04    2\n",
       "D29    2\n",
       "B23    1\n",
       "dtype: int64"
      ]
     },
     "execution_count": 31,
     "metadata": {},
     "output_type": "execute_result"
    },
    {
     "data": {
      "text/plain": [
       "(2021, 3, '石林供电局')"
      ]
     },
     "execution_count": 31,
     "metadata": {},
     "output_type": "execute_result"
    },
    {
     "data": {
      "text/plain": [
       "违章代码\n",
       "D57    1\n",
       "D67    1\n",
       "dtype: int64"
      ]
     },
     "execution_count": 31,
     "metadata": {},
     "output_type": "execute_result"
    },
    {
     "data": {
      "text/plain": [
       "(2021, 3, '禄劝供电局')"
      ]
     },
     "execution_count": 31,
     "metadata": {},
     "output_type": "execute_result"
    },
    {
     "data": {
      "text/plain": [
       "违章代码\n",
       "D67    3\n",
       "D26    1\n",
       "dtype: int64"
      ]
     },
     "execution_count": 31,
     "metadata": {},
     "output_type": "execute_result"
    },
    {
     "data": {
      "text/plain": [
       "(2021, 3, '西山供电局')"
      ]
     },
     "execution_count": 31,
     "metadata": {},
     "output_type": "execute_result"
    },
    {
     "data": {
      "text/plain": [
       "违章代码\n",
       "B28    2\n",
       "C09    1\n",
       "C21    1\n",
       "D29    1\n",
       "dtype: int64"
      ]
     },
     "execution_count": 31,
     "metadata": {},
     "output_type": "execute_result"
    }
   ],
   "source": [
    "df_code_cout =df_case.groupby(['违章时间年','违章时间月','项目管理单位分'])\n",
    "for item in df_code_cout:\n",
    "    item[0]\n",
    "    item[1].value_counts('违章代码')"
   ]
  },
  {
   "cell_type": "code",
   "execution_count": 37,
   "id": "hundred-surrey",
   "metadata": {},
   "outputs": [
    {
     "data": {
      "text/html": [
       "<div>\n",
       "<style scoped>\n",
       "    .dataframe tbody tr th:only-of-type {\n",
       "        vertical-align: middle;\n",
       "    }\n",
       "\n",
       "    .dataframe tbody tr th {\n",
       "        vertical-align: top;\n",
       "    }\n",
       "\n",
       "    .dataframe thead th {\n",
       "        text-align: right;\n",
       "    }\n",
       "</style>\n",
       "<table border=\"1\" class=\"dataframe\">\n",
       "  <thead>\n",
       "    <tr style=\"text-align: right;\">\n",
       "      <th></th>\n",
       "      <th>分类</th>\n",
       "      <th>年</th>\n",
       "      <th>月</th>\n",
       "      <th>次数</th>\n",
       "    </tr>\n",
       "  </thead>\n",
       "  <tbody>\n",
       "    <tr>\n",
       "      <th>0</th>\n",
       "      <td>A</td>\n",
       "      <td>2021</td>\n",
       "      <td>1</td>\n",
       "      <td>1</td>\n",
       "    </tr>\n",
       "    <tr>\n",
       "      <th>1</th>\n",
       "      <td>A</td>\n",
       "      <td>2021</td>\n",
       "      <td>2</td>\n",
       "      <td>0</td>\n",
       "    </tr>\n",
       "    <tr>\n",
       "      <th>2</th>\n",
       "      <td>A</td>\n",
       "      <td>2021</td>\n",
       "      <td>3</td>\n",
       "      <td>0</td>\n",
       "    </tr>\n",
       "    <tr>\n",
       "      <th>3</th>\n",
       "      <td>A</td>\n",
       "      <td>2021</td>\n",
       "      <td>4</td>\n",
       "      <td>0</td>\n",
       "    </tr>\n",
       "    <tr>\n",
       "      <th>4</th>\n",
       "      <td>A</td>\n",
       "      <td>2021</td>\n",
       "      <td>5</td>\n",
       "      <td>0</td>\n",
       "    </tr>\n",
       "    <tr>\n",
       "      <th>5</th>\n",
       "      <td>A</td>\n",
       "      <td>2021</td>\n",
       "      <td>6</td>\n",
       "      <td>0</td>\n",
       "    </tr>\n",
       "    <tr>\n",
       "      <th>6</th>\n",
       "      <td>A</td>\n",
       "      <td>2021</td>\n",
       "      <td>7</td>\n",
       "      <td>0</td>\n",
       "    </tr>\n",
       "    <tr>\n",
       "      <th>7</th>\n",
       "      <td>A</td>\n",
       "      <td>2021</td>\n",
       "      <td>8</td>\n",
       "      <td>0</td>\n",
       "    </tr>\n",
       "    <tr>\n",
       "      <th>8</th>\n",
       "      <td>A</td>\n",
       "      <td>2021</td>\n",
       "      <td>9</td>\n",
       "      <td>0</td>\n",
       "    </tr>\n",
       "    <tr>\n",
       "      <th>9</th>\n",
       "      <td>A</td>\n",
       "      <td>2021</td>\n",
       "      <td>10</td>\n",
       "      <td>0</td>\n",
       "    </tr>\n",
       "    <tr>\n",
       "      <th>10</th>\n",
       "      <td>A</td>\n",
       "      <td>2021</td>\n",
       "      <td>11</td>\n",
       "      <td>0</td>\n",
       "    </tr>\n",
       "    <tr>\n",
       "      <th>11</th>\n",
       "      <td>A</td>\n",
       "      <td>2021</td>\n",
       "      <td>12</td>\n",
       "      <td>0</td>\n",
       "    </tr>\n",
       "  </tbody>\n",
       "</table>\n",
       "</div>"
      ],
      "text/plain": [
       "   分类     年   月  次数\n",
       "0   A  2021   1   1\n",
       "1   A  2021   2   0\n",
       "2   A  2021   3   0\n",
       "3   A  2021   4   0\n",
       "4   A  2021   5   0\n",
       "5   A  2021   6   0\n",
       "6   A  2021   7   0\n",
       "7   A  2021   8   0\n",
       "8   A  2021   9   0\n",
       "9   A  2021  10   0\n",
       "10  A  2021  11   0\n",
       "11  A  2021  12   0"
      ]
     },
     "execution_count": 37,
     "metadata": {},
     "output_type": "execute_result"
    }
   ],
   "source": [
    "import itertools\n",
    "import pandas as pd\n",
    "\n",
    "def fill_month_zero(df,columns,columns_m_c):\n",
    "    set_list = []\n",
    "    for column in columns:\n",
    "        set_list.append(list(set(df[column])))\n",
    "   \n",
    "    for i in itertools.product(*set_list):\n",
    "        \n",
    "        for j in range(1,13,1):\n",
    "            new = pd.DataFrame(\n",
    "                    [\n",
    "                        list(i)+[j,0]\n",
    "\n",
    "                    ],columns=columns+columns_m_c)\n",
    "            #print(new)\n",
    "            df=df.append(new,ignore_index=True)\n",
    "            #print(df)\n",
    "            #print(df)\n",
    "    df = df.groupby(columns+[columns_m_c[0]])['次数'].sum().reset_index(name='次数')\n",
    "    return df\n",
    "new = pd.DataFrame(\n",
    "                [\n",
    "                    ['A',2021,1,1]\n",
    "\n",
    "                ],columns=['分类','年','月','次数'])\n",
    "x = fill_month_zero(new,['分类','年'],['月','次数'])\n",
    "x"
   ]
  },
  {
   "cell_type": "code",
   "execution_count": null,
   "id": "incredible-selling",
   "metadata": {},
   "outputs": [],
   "source": []
  }
 ],
 "metadata": {
  "kernelspec": {
   "display_name": "Python 3",
   "language": "python",
   "name": "python3"
  },
  "language_info": {
   "codemirror_mode": {
    "name": "ipython",
    "version": 3
   },
   "file_extension": ".py",
   "mimetype": "text/x-python",
   "name": "python",
   "nbconvert_exporter": "python",
   "pygments_lexer": "ipython3",
   "version": "3.8.5"
  },
  "toc": {
   "base_numbering": 1,
   "nav_menu": {},
   "number_sections": true,
   "sideBar": true,
   "skip_h1_title": false,
   "title_cell": "Table of Contents",
   "title_sidebar": "Contents",
   "toc_cell": false,
   "toc_position": {},
   "toc_section_display": true,
   "toc_window_display": false
  },
  "varInspector": {
   "cols": {
    "lenName": 16,
    "lenType": 16,
    "lenVar": 40
   },
   "kernels_config": {
    "python": {
     "delete_cmd_postfix": "",
     "delete_cmd_prefix": "del ",
     "library": "var_list.py",
     "varRefreshCmd": "print(var_dic_list())"
    },
    "r": {
     "delete_cmd_postfix": ") ",
     "delete_cmd_prefix": "rm(",
     "library": "var_list.r",
     "varRefreshCmd": "cat(var_dic_list()) "
    }
   },
   "types_to_exclude": [
    "module",
    "function",
    "builtin_function_or_method",
    "instance",
    "_Feature"
   ],
   "window_display": false
  }
 },
 "nbformat": 4,
 "nbformat_minor": 5
}
