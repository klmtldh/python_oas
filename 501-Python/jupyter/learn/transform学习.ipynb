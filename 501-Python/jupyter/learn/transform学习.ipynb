{
 "cells": [
  {
   "cell_type": "markdown",
   "id": "danish-store",
   "metadata": {},
   "source": [
    "```pd.transform(func, axis=0)\n",
    "```\n",
    "以上就是transform转换数值的基本用法，参数含义如下：\n",
    "\n",
    "- func是指定用于处理数据的函数，它可以是普通函数、字符串函数名称、函数列表或轴标签映射函数的字典。\n",
    "- axis是指要应用到哪个轴，0代表列，1代表行。"
   ]
  },
  {
   "cell_type": "code",
   "execution_count": 14,
   "id": "imperial-premiere",
   "metadata": {},
   "outputs": [
    {
     "data": {
      "text/html": [
       "<div>\n",
       "<style scoped>\n",
       "    .dataframe tbody tr th:only-of-type {\n",
       "        vertical-align: middle;\n",
       "    }\n",
       "\n",
       "    .dataframe tbody tr th {\n",
       "        vertical-align: top;\n",
       "    }\n",
       "\n",
       "    .dataframe thead th {\n",
       "        text-align: right;\n",
       "    }\n",
       "</style>\n",
       "<table border=\"1\" class=\"dataframe\">\n",
       "  <thead>\n",
       "    <tr style=\"text-align: right;\">\n",
       "      <th></th>\n",
       "      <th>A</th>\n",
       "      <th>B</th>\n",
       "    </tr>\n",
       "  </thead>\n",
       "  <tbody>\n",
       "    <tr>\n",
       "      <th>0</th>\n",
       "      <td>1</td>\n",
       "      <td>10</td>\n",
       "    </tr>\n",
       "    <tr>\n",
       "      <th>1</th>\n",
       "      <td>2</td>\n",
       "      <td>20</td>\n",
       "    </tr>\n",
       "    <tr>\n",
       "      <th>2</th>\n",
       "      <td>3</td>\n",
       "      <td>30</td>\n",
       "    </tr>\n",
       "  </tbody>\n",
       "</table>\n",
       "</div>"
      ],
      "text/plain": [
       "   A   B\n",
       "0  1  10\n",
       "1  2  20\n",
       "2  3  30"
      ]
     },
     "execution_count": 14,
     "metadata": {},
     "output_type": "execute_result"
    },
    {
     "data": {
      "text/html": [
       "<div>\n",
       "<style scoped>\n",
       "    .dataframe tbody tr th:only-of-type {\n",
       "        vertical-align: middle;\n",
       "    }\n",
       "\n",
       "    .dataframe tbody tr th {\n",
       "        vertical-align: top;\n",
       "    }\n",
       "\n",
       "    .dataframe thead th {\n",
       "        text-align: right;\n",
       "    }\n",
       "</style>\n",
       "<table border=\"1\" class=\"dataframe\">\n",
       "  <thead>\n",
       "    <tr style=\"text-align: right;\">\n",
       "      <th></th>\n",
       "      <th>A</th>\n",
       "      <th>B</th>\n",
       "    </tr>\n",
       "  </thead>\n",
       "  <tbody>\n",
       "    <tr>\n",
       "      <th>0</th>\n",
       "      <td>11</td>\n",
       "      <td>20</td>\n",
       "    </tr>\n",
       "    <tr>\n",
       "      <th>1</th>\n",
       "      <td>12</td>\n",
       "      <td>30</td>\n",
       "    </tr>\n",
       "    <tr>\n",
       "      <th>2</th>\n",
       "      <td>13</td>\n",
       "      <td>40</td>\n",
       "    </tr>\n",
       "  </tbody>\n",
       "</table>\n",
       "</div>"
      ],
      "text/plain": [
       "    A   B\n",
       "0  11  20\n",
       "1  12  30\n",
       "2  13  40"
      ]
     },
     "execution_count": 14,
     "metadata": {},
     "output_type": "execute_result"
    }
   ],
   "source": [
    "from IPython.core.interactiveshell import InteractiveShell\n",
    "InteractiveShell.ast_node_interactivity = \"all\" \n",
    "import pandas as pd\n",
    "df = pd.DataFrame({'A': [1,2,3], 'B': [10,20,30] })\n",
    "df\n",
    "def plus_10(x):\n",
    "    return x+10\n",
    "df.transform(plus_10)"
   ]
  },
  {
   "cell_type": "code",
   "execution_count": 15,
   "id": "american-premises",
   "metadata": {},
   "outputs": [
    {
     "data": {
      "text/html": [
       "<div>\n",
       "<style scoped>\n",
       "    .dataframe tbody tr th:only-of-type {\n",
       "        vertical-align: middle;\n",
       "    }\n",
       "\n",
       "    .dataframe tbody tr th {\n",
       "        vertical-align: top;\n",
       "    }\n",
       "\n",
       "    .dataframe thead th {\n",
       "        text-align: right;\n",
       "    }\n",
       "</style>\n",
       "<table border=\"1\" class=\"dataframe\">\n",
       "  <thead>\n",
       "    <tr style=\"text-align: right;\">\n",
       "      <th></th>\n",
       "      <th>A</th>\n",
       "      <th>B</th>\n",
       "    </tr>\n",
       "  </thead>\n",
       "  <tbody>\n",
       "    <tr>\n",
       "      <th>0</th>\n",
       "      <td>1</td>\n",
       "      <td>10</td>\n",
       "    </tr>\n",
       "    <tr>\n",
       "      <th>1</th>\n",
       "      <td>2</td>\n",
       "      <td>20</td>\n",
       "    </tr>\n",
       "    <tr>\n",
       "      <th>2</th>\n",
       "      <td>3</td>\n",
       "      <td>30</td>\n",
       "    </tr>\n",
       "  </tbody>\n",
       "</table>\n",
       "</div>"
      ],
      "text/plain": [
       "   A   B\n",
       "0  1  10\n",
       "1  2  20\n",
       "2  3  30"
      ]
     },
     "execution_count": 15,
     "metadata": {},
     "output_type": "execute_result"
    },
    {
     "data": {
      "text/html": [
       "<div>\n",
       "<style scoped>\n",
       "    .dataframe tbody tr th:only-of-type {\n",
       "        vertical-align: middle;\n",
       "    }\n",
       "\n",
       "    .dataframe tbody tr th {\n",
       "        vertical-align: top;\n",
       "    }\n",
       "\n",
       "    .dataframe thead th {\n",
       "        text-align: right;\n",
       "    }\n",
       "</style>\n",
       "<table border=\"1\" class=\"dataframe\">\n",
       "  <thead>\n",
       "    <tr style=\"text-align: right;\">\n",
       "      <th></th>\n",
       "      <th>A</th>\n",
       "      <th>B</th>\n",
       "    </tr>\n",
       "  </thead>\n",
       "  <tbody>\n",
       "    <tr>\n",
       "      <th>0</th>\n",
       "      <td>11</td>\n",
       "      <td>20</td>\n",
       "    </tr>\n",
       "    <tr>\n",
       "      <th>1</th>\n",
       "      <td>12</td>\n",
       "      <td>30</td>\n",
       "    </tr>\n",
       "    <tr>\n",
       "      <th>2</th>\n",
       "      <td>13</td>\n",
       "      <td>40</td>\n",
       "    </tr>\n",
       "  </tbody>\n",
       "</table>\n",
       "</div>"
      ],
      "text/plain": [
       "    A   B\n",
       "0  11  20\n",
       "1  12  30\n",
       "2  13  40"
      ]
     },
     "execution_count": 15,
     "metadata": {},
     "output_type": "execute_result"
    }
   ],
   "source": [
    "import pandas as pd\n",
    "from IPython.core.interactiveshell import InteractiveShell\n",
    "InteractiveShell.ast_node_interactivity = \"all\" \n",
    "df = pd.DataFrame({'A': [1,2,3], 'B': [10,20,30] })\n",
    "df\n",
    "df.transform(lambda x: x+10)"
   ]
  },
  {
   "cell_type": "code",
   "execution_count": 1,
   "id": "radical-weather",
   "metadata": {},
   "outputs": [
    {
     "data": {
      "text/html": [
       "<style  type=\"text/css\" >\n",
       "#T_8f2c3_row0_col3{\n",
       "            width:  10em;\n",
       "             height:  80%;\n",
       "            background:  linear-gradient(90deg,#d65f5f 2.0%, transparent 2.0%);\n",
       "        }#T_8f2c3_row1_col3{\n",
       "            width:  10em;\n",
       "             height:  80%;\n",
       "            background:  linear-gradient(90deg,#d65f5f 100.0%, transparent 100.0%);\n",
       "        }#T_8f2c3_row2_col3{\n",
       "            width:  10em;\n",
       "             height:  80%;\n",
       "            background:  linear-gradient(90deg,#d65f5f 9.6%, transparent 9.6%);\n",
       "        }#T_8f2c3_row3_col3{\n",
       "            width:  10em;\n",
       "             height:  80%;\n",
       "            background:  linear-gradient(90deg,#d65f5f 2.4%, transparent 2.4%);\n",
       "        }#T_8f2c3_row4_col3{\n",
       "            width:  10em;\n",
       "             height:  80%;\n",
       "            background:  linear-gradient(90deg,#d65f5f 4.2%, transparent 4.2%);\n",
       "        }#T_8f2c3_row5_col3{\n",
       "            width:  10em;\n",
       "             height:  80%;\n",
       "            background:  linear-gradient(90deg,#d65f5f 4.4%, transparent 4.4%);\n",
       "        }#T_8f2c3_row6_col3{\n",
       "            width:  10em;\n",
       "             height:  80%;\n",
       "            background:  linear-gradient(90deg,#d65f5f 2.8%, transparent 2.8%);\n",
       "        }</style><table id=\"T_8f2c3_\" ><thead>    <tr>        <th class=\"blank level0\" ></th>        <th class=\"col_heading level0 col0\" >restaurant_id</th>        <th class=\"col_heading level0 col1\" >address</th>        <th class=\"col_heading level0 col2\" >city</th>        <th class=\"col_heading level0 col3\" >sales</th>        <th class=\"col_heading level0 col4\" >city_total_sales</th>    </tr></thead><tbody>\n",
       "                <tr>\n",
       "                        <th id=\"T_8f2c3_level0_row0\" class=\"row_heading level0 row0\" >0</th>\n",
       "                        <td id=\"T_8f2c3_row0_col0\" class=\"data row0 col0\" >101</td>\n",
       "                        <td id=\"T_8f2c3_row0_col1\" class=\"data row0 col1\" >A</td>\n",
       "                        <td id=\"T_8f2c3_row0_col2\" class=\"data row0 col2\" >London</td>\n",
       "                        <td id=\"T_8f2c3_row0_col3\" class=\"data row0 col3\" >10</td>\n",
       "                        <td id=\"T_8f2c3_row0_col4\" class=\"data row0 col4\" >558</td>\n",
       "            </tr>\n",
       "            <tr>\n",
       "                        <th id=\"T_8f2c3_level0_row1\" class=\"row_heading level0 row1\" >1</th>\n",
       "                        <td id=\"T_8f2c3_row1_col0\" class=\"data row1 col0\" >102</td>\n",
       "                        <td id=\"T_8f2c3_row1_col1\" class=\"data row1 col1\" >B</td>\n",
       "                        <td id=\"T_8f2c3_row1_col2\" class=\"data row1 col2\" >London</td>\n",
       "                        <td id=\"T_8f2c3_row1_col3\" class=\"data row1 col3\" >500</td>\n",
       "                        <td id=\"T_8f2c3_row1_col4\" class=\"data row1 col4\" >558</td>\n",
       "            </tr>\n",
       "            <tr>\n",
       "                        <th id=\"T_8f2c3_level0_row2\" class=\"row_heading level0 row2\" >2</th>\n",
       "                        <td id=\"T_8f2c3_row2_col0\" class=\"data row2 col0\" >103</td>\n",
       "                        <td id=\"T_8f2c3_row2_col1\" class=\"data row2 col1\" >C</td>\n",
       "                        <td id=\"T_8f2c3_row2_col2\" class=\"data row2 col2\" >London</td>\n",
       "                        <td id=\"T_8f2c3_row2_col3\" class=\"data row2 col3\" >48</td>\n",
       "                        <td id=\"T_8f2c3_row2_col4\" class=\"data row2 col4\" >558</td>\n",
       "            </tr>\n",
       "            <tr>\n",
       "                        <th id=\"T_8f2c3_level0_row3\" class=\"row_heading level0 row3\" >3</th>\n",
       "                        <td id=\"T_8f2c3_row3_col0\" class=\"data row3 col0\" >104</td>\n",
       "                        <td id=\"T_8f2c3_row3_col1\" class=\"data row3 col1\" >D</td>\n",
       "                        <td id=\"T_8f2c3_row3_col2\" class=\"data row3 col2\" >Oxford</td>\n",
       "                        <td id=\"T_8f2c3_row3_col3\" class=\"data row3 col3\" >12</td>\n",
       "                        <td id=\"T_8f2c3_row3_col4\" class=\"data row3 col4\" >33</td>\n",
       "            </tr>\n",
       "            <tr>\n",
       "                        <th id=\"T_8f2c3_level0_row4\" class=\"row_heading level0 row4\" >4</th>\n",
       "                        <td id=\"T_8f2c3_row4_col0\" class=\"data row4 col0\" >105</td>\n",
       "                        <td id=\"T_8f2c3_row4_col1\" class=\"data row4 col1\" >E</td>\n",
       "                        <td id=\"T_8f2c3_row4_col2\" class=\"data row4 col2\" >Oxford</td>\n",
       "                        <td id=\"T_8f2c3_row4_col3\" class=\"data row4 col3\" >21</td>\n",
       "                        <td id=\"T_8f2c3_row4_col4\" class=\"data row4 col4\" >33</td>\n",
       "            </tr>\n",
       "            <tr>\n",
       "                        <th id=\"T_8f2c3_level0_row5\" class=\"row_heading level0 row5\" >5</th>\n",
       "                        <td id=\"T_8f2c3_row5_col0\" class=\"data row5 col0\" >106</td>\n",
       "                        <td id=\"T_8f2c3_row5_col1\" class=\"data row5 col1\" >F</td>\n",
       "                        <td id=\"T_8f2c3_row5_col2\" class=\"data row5 col2\" >Durham</td>\n",
       "                        <td id=\"T_8f2c3_row5_col3\" class=\"data row5 col3\" >22</td>\n",
       "                        <td id=\"T_8f2c3_row5_col4\" class=\"data row5 col4\" >36</td>\n",
       "            </tr>\n",
       "            <tr>\n",
       "                        <th id=\"T_8f2c3_level0_row6\" class=\"row_heading level0 row6\" >6</th>\n",
       "                        <td id=\"T_8f2c3_row6_col0\" class=\"data row6 col0\" >107</td>\n",
       "                        <td id=\"T_8f2c3_row6_col1\" class=\"data row6 col1\" >G</td>\n",
       "                        <td id=\"T_8f2c3_row6_col2\" class=\"data row6 col2\" >Durham</td>\n",
       "                        <td id=\"T_8f2c3_row6_col3\" class=\"data row6 col3\" >14</td>\n",
       "                        <td id=\"T_8f2c3_row6_col4\" class=\"data row6 col4\" >36</td>\n",
       "            </tr>\n",
       "    </tbody></table>"
      ],
      "text/plain": [
       "<pandas.io.formats.style.Styler at 0x1511b7339d0>"
      ]
     },
     "execution_count": 1,
     "metadata": {},
     "output_type": "execute_result"
    }
   ],
   "source": [
    "import pandas as pd\n",
    "from IPython.core.interactiveshell import InteractiveShell\n",
    "InteractiveShell.ast_node_interactivity = \"all\" \n",
    "df = pd.DataFrame({\n",
    "  'restaurant_id': [101,102,103,104,105,106,107],\n",
    "  'address': ['A','B','C','D', 'E', 'F', 'G'],\n",
    "  'city': ['London','London','London','Oxford','Oxford', 'Durham', 'Durham'],\n",
    "  'sales': [10,500,48,12,21,22,14]\n",
    "})\n",
    "df\n",
    "df['city_total_sales'] = df.groupby('city')['sales'].transform('sum')\n",
    "df.style.bar(\"sales\",vmin=0)"
   ]
  },
  {
   "cell_type": "code",
   "execution_count": 30,
   "id": "meaningful-anniversary",
   "metadata": {},
   "outputs": [
    {
     "name": "stdout",
     "output_type": "stream",
     "text": [
      "s1_1: [1, 4, 6]\n",
      "s2: (2, 3, 5)\n",
      "s3: [1, 4, 6]\n",
      "s1_2: [1, 4, 6]\n"
     ]
    }
   ],
   "source": [
    "def list_del_list(o_list,d_list):\n",
    "    r_list=[]\n",
    "    for i in o_list:\n",
    "        if i not in d_list:\n",
    "            r_list.append(i)\n",
    "    return r_list\n",
    "\n",
    "s1 = (1, 2, 3, 4, 5, 6)\n",
    "s2 = (2, 3, 5)\n",
    "\n",
    "s1=del_list(s1,s2)\n",
    "print('s1_1:', s1)\n",
    "s3 = s1\n",
    "print('s2:', s2)\n",
    "print('s3:', s3)\n",
    "print('s1_2:', s1)"
   ]
  },
  {
   "cell_type": "code",
   "execution_count": null,
   "id": "honey-principle",
   "metadata": {},
   "outputs": [],
   "source": []
  }
 ],
 "metadata": {
  "kernelspec": {
   "display_name": "Python 3",
   "language": "python",
   "name": "python3"
  },
  "language_info": {
   "codemirror_mode": {
    "name": "ipython",
    "version": 3
   },
   "file_extension": ".py",
   "mimetype": "text/x-python",
   "name": "python",
   "nbconvert_exporter": "python",
   "pygments_lexer": "ipython3",
   "version": "3.8.5"
  },
  "toc": {
   "base_numbering": 1,
   "nav_menu": {},
   "number_sections": true,
   "sideBar": true,
   "skip_h1_title": false,
   "title_cell": "Table of Contents",
   "title_sidebar": "Contents",
   "toc_cell": false,
   "toc_position": {},
   "toc_section_display": true,
   "toc_window_display": false
  },
  "varInspector": {
   "cols": {
    "lenName": 16,
    "lenType": 16,
    "lenVar": 40
   },
   "kernels_config": {
    "python": {
     "delete_cmd_postfix": "",
     "delete_cmd_prefix": "del ",
     "library": "var_list.py",
     "varRefreshCmd": "print(var_dic_list())"
    },
    "r": {
     "delete_cmd_postfix": ") ",
     "delete_cmd_prefix": "rm(",
     "library": "var_list.r",
     "varRefreshCmd": "cat(var_dic_list()) "
    }
   },
   "types_to_exclude": [
    "module",
    "function",
    "builtin_function_or_method",
    "instance",
    "_Feature"
   ],
   "window_display": false
  }
 },
 "nbformat": 4,
 "nbformat_minor": 5
}
