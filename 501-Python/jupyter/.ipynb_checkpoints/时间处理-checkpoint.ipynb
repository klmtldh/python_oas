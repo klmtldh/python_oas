{
 "cells": [
  {
   "cell_type": "code",
   "execution_count": 23,
   "id": "canadian-regard",
   "metadata": {},
   "outputs": [
    {
     "data": {
      "text/plain": [
       "('2019年', '2019年01月', '01月', '2019年01月30日')"
      ]
     },
     "execution_count": 23,
     "metadata": {},
     "output_type": "execute_result"
    }
   ],
   "source": [
    "import time,datetime\n",
    "import locale\n",
    "str_p = '2019-01-30'\n",
    "date_p = datetime.datetime.strptime(str_p,'%Y-%m-%d').date()\n",
    "locale.setlocale(locale.LC_CTYPE, 'chinese')\n",
    "now_year = time.strftime(\"%Y年\", time.localtime(time.mktime(time.strptime(str_p, \"%Y-%m-%d\"))))\n",
    "now_m=time.strftime(\"%Y年%m月\", time.localtime(time.mktime(time.strptime(str_p, \"%Y-%m-%d\")))) \n",
    "now_moth=time.strftime(\"%m月\", time.localtime(time.mktime(time.strptime(str_p, \"%Y-%m-%d\")))) \n",
    "now_day=time.strftime(\"%Y年%m月%d日\", time.localtime(time.mktime(time.strptime(str_p, \"%Y-%m-%d\")))) \n",
    "now_year,now_m,now_moth,now_day"
   ]
  },
  {
   "cell_type": "code",
   "execution_count": 1,
   "id": "precise-chinese",
   "metadata": {},
   "outputs": [
    {
     "name": "stdout",
     "output_type": "stream",
     "text": [
      "('1970年', '05月', '11日', '1970年05月11日', '1970年05月', '05月11日', '星期一', '1970年第19周', '一九七〇年')\n"
     ]
    }
   ],
   "source": [
    "import locale\n",
    "import time  # 用于时间操作\n",
    "from dateutil.relativedelta import relativedelta  # 用于获取时间间隔\n",
    "import datetime  # 用于日期操作\n",
    "import calendar  # 用于日历操作\n",
    "from dateutil import rrule  # 用于时间间隔\n",
    "import re\n",
    "class NDay():\n",
    "    '''\n",
    "    此类用于获取给定日期所在月第一天和最后一天，或任意日的间隔一个月的开始和结束日期；\n",
    "    实例变量只需要给定任意日期。\n",
    "    the_n_day方法参数n为需要返回的开始日,m为需要返回的间隔月。\n",
    "    例如：返回给定日期datetime所在月的第一天和最后一天\n",
    "    d=nDay（datetime）\n",
    "    d.the_n\n",
    "    '''\n",
    "\n",
    "    def __init__(self, date_time: datetime.datetime):\n",
    "        self.date_time = date_time\n",
    "    \n",
    "    def get_chinese_date(self):        \n",
    "        dt = datetime.datetime.strptime(self.date_time,'%Y-%m-%d').date()\n",
    "        now_year = dt.strftime( '%Y年' )       \n",
    "        now_month=dt.strftime( '%m月' )\n",
    "        now_day=dt.strftime( '%d日' ) \n",
    "        now_year_month_day=dt.strftime( '%Y年%m月%d日' ) \n",
    "        now_year_month=dt.strftime( '%Y年%m月' )\n",
    "        now_month_day=dt.strftime( '%m月%d日' )\n",
    "        now_week = '星期{}'.format(self.digital_to_week(dt.strftime( '%w' )))\n",
    "        now_n_week='{}第{}周'.format(now_year,dt.strftime( '%U' )) \n",
    "        now_year_c =  '{}年'.format(self.digital_to_chinese(dt.strftime( '%Y' )))    \n",
    "        now_month_c='{}月'.format(self.digital_to_chinese(dt.strftime( '%m' )))\n",
    "        now_day=dt.strftime( '%d日' ) \n",
    "        now_year_month_day=dt.strftime( '%Y年%m月%d日' ) \n",
    "        now_year_month=dt.strftime( '%Y年%m月' )\n",
    "        now_month_day=dt.strftime( '%m月%d日' )\n",
    "        return now_year,now_month,now_day,now_year_month_day,now_year_month,now_month_day,now_week,now_n_week,now_year_c\n",
    "    \n",
    "    def digital_to_week(self,num):\n",
    "        num_dict = {'1': '一', '2': '二', '3': '三', '4': '四', '5': '五', '6': '六', '7': '七', '8': '八', '9': '九', '0': '日', }\n",
    "        index_dict = {1: '', 2: '十', 3: '百', 4: '千', 5: '万', 6: '十', 7: '百', 8: '千', 9: '亿'}\n",
    "        nums = list(str(num))\n",
    "        nums_index = [x for x in range(1, len(nums) + 1)][-1::-1]\n",
    "        str_ = ''\n",
    "        for index, item in enumerate(nums):\n",
    "            str_ = \"\".join((str_, num_dict[item], index_dict[nums_index[index]]))\n",
    "        str_ = re.sub(\"〇[十百千〇]*\", \"〇\", str_)\n",
    "        str_ = re.sub(\"〇万\", \"万\", str_)\n",
    "        str_ = re.sub(\"亿万\", \"亿〇\", str_)\n",
    "        str_ = re.sub(\"〇〇\", \"〇\", str_)\n",
    "        str_ = re.sub(\"〇\\\\b\", \"\", str_)\n",
    "        return str_\n",
    "    \n",
    "    def digital_to_chinese(self,num):\n",
    "        num_dict = {'1': '一', '2': '二', '3': '三', '4': '四', '5': '五', '6': '六', '7': '七', '8': '八', '9': '九', '0': '〇', }\n",
    "        index_dict = {1: '', 2: '', 3: '', 4: '', 5: '', 6: '', 7: '', 8: '', 9: ''}\n",
    "        nums = list(str(num))\n",
    "        nums_index = [x for x in range(1, len(nums) + 1)][-1::-1]\n",
    "        str_ = ''\n",
    "        for index, item in enumerate(nums):\n",
    "            str_ = \"\".join((str_, num_dict[item], index_dict[nums_index[index]]))\n",
    "        str_ = re.sub(\"〇[十百千〇]*\", \"〇\", str_)\n",
    "        str_ = re.sub(\"〇万\", \"万\", str_)\n",
    "        str_ = re.sub(\"亿万\", \"亿〇\", str_)\n",
    "        str_ = re.sub(\"〇〇\", \"〇\", str_)\n",
    "        str_ = re.sub(\"\\\\b\", \"\", str_)\n",
    "        return str_\n",
    "    \n",
    "    # 获取输入日期所在月份的第一天，最后一天和第n天，依据m可以是输入日期的前后n个月\n",
    "    def get_n_day(self, n=1, m=0):\n",
    "        # this_month_start = datetime.datetime(self.date_time.year, self.date_time.month, 1)\n",
    "        this_month_nday = datetime.datetime(self.date_time.year, self.date_time.month, n)  # +datetime.timedelta(days=n)\n",
    "        this_month_end = datetime.datetime(self.date_time.year, self.date_time.month,\n",
    "                                           calendar.monthrange(self.date_time.year, self.date_time.month)[1])\n",
    "        # n_month_start=this_month_start +relativedelta(months=m)\n",
    "        n_month_end = this_month_end + relativedelta(months=m)\n",
    "        n_month_nday = this_month_nday + relativedelta(months=m)\n",
    "\n",
    "        return n_month_nday, n_month_end\n",
    "\n",
    "    # 获取输入日期所在周的第一天，最后一天和第n天，依据m可以是输入日期的前后n个周\n",
    "    def get_current_week(self, date_time, n):\n",
    "        monday, sunday = date_time, date_time\n",
    "        one_day = datetime.timedelta(days=1)\n",
    "        while monday.weekday() != 0:\n",
    "            monday -= one_day\n",
    "        while sunday.weekday() != 6:\n",
    "            sunday += one_day\n",
    "        # 返回当前的星期一和星期天的日期\n",
    "        week_n = monday + datetime.timedelta(days=n)\n",
    "\n",
    "        return monday, sunday, week_n\n",
    "if __name__ == '__main__':\n",
    "    nd=nDay('1970-5-11')\n",
    "    print(nd.get_chinese_date())"
   ]
  },
  {
   "cell_type": "code",
   "execution_count": 51,
   "id": "mechanical-jenny",
   "metadata": {},
   "outputs": [
    {
     "name": "stdout",
     "output_type": "stream",
     "text": [
      "时间：(%Y-%m-%d %H:%M:%S %f):  1900年01月30日 00:00:00 000000\n",
      "时间：(%Y-%m-%d %H:%M:%S %p):  00年01月30日 12:00:00 AM\n",
      "时间：(%Y-%m-%d %H:%M:%S %p):  00年\n",
      "星期缩写%a: Tue \n",
      "星期全拼%A: Tuesday \n",
      "月份缩写%b: Jan \n",
      "今天是这周的第2天 \n"
     ]
    }
   ],
   "source": [
    "import time,datetime\n",
    "import locale\n",
    "#dt = datetime.now()  \n",
    "str_p = '1900-01-30'\n",
    "dt = datetime.datetime.strptime(str_p,'%Y-%m-%d').date()\n",
    "#locale.setlocale(locale.LC_CTYPE, 'chinese')\n",
    "\n",
    "print('时间：(%Y-%m-%d %H:%M:%S %f): ' , dt.strftime( '%Y年%m月%d日 %H:%M:%S %f' ))    \n",
    "print('时间：(%Y-%m-%d %H:%M:%S %p): ' , dt.strftime( '%y年%m月%d日 %I:%M:%S %p' ))   \n",
    "print('时间：(%Y-%m-%d %H:%M:%S %p): ' , dt.strftime( '%y年' ))   \n",
    "print('星期缩写%%a: %s '  % dt.strftime( '%a' ))     \n",
    "print('星期全拼%%A: %s '  % dt.strftime( '%A' ))     \n",
    "print('月份缩写%%b: %s '  % dt.strftime( '%b' )) \n",
    "# print   '月份全批%%B: %s '  % dt.strftime( '%B' )  \n",
    "# print   '日期时间%%c: %s '  % dt.strftime( '%c' )  \n",
    "print( '今天是这周的第%s天 '  % dt.strftime( '%w' ) )   \n",
    "# print   '今天是今年的第%s天 '  % dt.strftime( '%j' )  \n",
    "# print   '今周是今年的第%s周 '  % dt.strftime( '%U' ) \n",
    "# print   '今天是当月的第%s天 '  % dt.strftime( '%d' )"
   ]
  },
  {
   "cell_type": "code",
   "execution_count": null,
   "id": "hidden-working",
   "metadata": {},
   "outputs": [],
   "source": []
  }
 ],
 "metadata": {
  "kernelspec": {
   "display_name": "Python 3",
   "language": "python",
   "name": "python3"
  },
  "language_info": {
   "codemirror_mode": {
    "name": "ipython",
    "version": 3
   },
   "file_extension": ".py",
   "mimetype": "text/x-python",
   "name": "python",
   "nbconvert_exporter": "python",
   "pygments_lexer": "ipython3",
   "version": "3.8.5"
  },
  "toc": {
   "base_numbering": 1,
   "nav_menu": {},
   "number_sections": true,
   "sideBar": true,
   "skip_h1_title": false,
   "title_cell": "Table of Contents",
   "title_sidebar": "Contents",
   "toc_cell": false,
   "toc_position": {},
   "toc_section_display": true,
   "toc_window_display": false
  },
  "varInspector": {
   "cols": {
    "lenName": 16,
    "lenType": 16,
    "lenVar": 40
   },
   "kernels_config": {
    "python": {
     "delete_cmd_postfix": "",
     "delete_cmd_prefix": "del ",
     "library": "var_list.py",
     "varRefreshCmd": "print(var_dic_list())"
    },
    "r": {
     "delete_cmd_postfix": ") ",
     "delete_cmd_prefix": "rm(",
     "library": "var_list.r",
     "varRefreshCmd": "cat(var_dic_list()) "
    }
   },
   "types_to_exclude": [
    "module",
    "function",
    "builtin_function_or_method",
    "instance",
    "_Feature"
   ],
   "window_display": false
  }
 },
 "nbformat": 4,
 "nbformat_minor": 5
}
