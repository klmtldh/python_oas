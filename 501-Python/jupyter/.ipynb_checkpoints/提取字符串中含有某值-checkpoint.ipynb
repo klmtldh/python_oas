{
 "cells": [
  {
   "cell_type": "code",
   "execution_count": 4,
   "metadata": {},
   "outputs": [],
   "source": [
    "import pandas as pd\n",
    "import re\n",
    "name=r'D:\\JGY\\300-Work工作\\320-PM项目管理\\应急\\冰雪凝冻\\应急监察口数据.xlsx'\n",
    "df=pd.read_excel(name,sheet_name='监督计划',engine='openpyxl')\n",
    "\n",
    "list_=[\"呈贡供电局\",\"安全督查大队\",\"变电修试所\",\"变电运行二所\",\"变电运行一所\",\"安宁供电局\",\"带电作业中心\",\"东川供电局\",\"富民供电局\",\"供电服务中心\",\"官渡供电局\",\"规划建设管理中心\",\"晋宁供电局\",\"禄劝供电局\",\"盘龙供电局\",\"石林供电局\",\"输电管理所\",\"嵩明供电局\",\"通信管理所\",\"五华供电局\",\"物流服务中心\",\"西山供电局\",\"寻甸供电局\",\"宜良供电局\",\"综合服务中心\"]\n",
    "text='|'.join(list_)\n",
    "\n",
    "pattern=re.compile(r\"text\",re.S)\n",
    "df['检查部门'] = df[r'检查部门/单位'].str.extract(\n",
    "        '({0})'.format(text),\n",
    "        expand = True)\n",
    "save=r'D:\\JGY\\300-Work工作\\320-PM项目管理\\应急\\冰雪凝冻\\应急监察口数据1.xlsx'\n",
    "df.to_excel(save,index=False,engine='openpyxl')"
   ]
  },
  {
   "cell_type": "code",
   "execution_count": null,
   "metadata": {},
   "outputs": [],
   "source": [
    "import pandas as pd\n",
    "import re\n",
    "name=r'D:\\JGY\\300-Work工作\\320-PM项目管理\\应急\\冰雪凝冻\\应急监察口数据.xlsx'\n",
    "df=pd.read_excel(name,sheet_name='监督计划',engine='openpyxl')\n",
    "\n",
    "list_=[\"呈贡供电局\",\"安全督查大队\",\"变电修试所\",\"变电运行二所\",\"变电运行一所\",\"安宁供电局\",\"带电作业中心\",\"东川供电局\",\"富民供电局\",\"供电服务中心\",\"官渡供电局\",\"规划建设管理中心\",\"晋宁供电局\",\"禄劝供电局\",\"盘龙供电局\",\"石林供电局\",\"输电管理所\",\"嵩明供电局\",\"通信管理所\",\"五华供电局\",\"物流服务中心\",\"西山供电局\",\"寻甸供电局\",\"宜良供电局\",\"综合服务中心\"]\n",
    "text='|'.join(list_)\n",
    "print(df)"
   ]
  },
  {
   "cell_type": "code",
   "execution_count": null,
   "metadata": {},
   "outputs": [],
   "source": [
    "\n",
    "df4=df3['部门'].str.split('/', expand=True)"
   ]
  }
 ],
 "metadata": {
  "kernelspec": {
   "display_name": "Python 3",
   "language": "python",
   "name": "python3"
  },
  "language_info": {
   "codemirror_mode": {
    "name": "ipython",
    "version": 3
   },
   "file_extension": ".py",
   "mimetype": "text/x-python",
   "name": "python",
   "nbconvert_exporter": "python",
   "pygments_lexer": "ipython3",
   "version": "3.8.5"
  },
  "toc": {
   "base_numbering": 1,
   "nav_menu": {},
   "number_sections": true,
   "sideBar": true,
   "skip_h1_title": false,
   "title_cell": "Table of Contents",
   "title_sidebar": "Contents",
   "toc_cell": false,
   "toc_position": {},
   "toc_section_display": true,
   "toc_window_display": false
  },
  "varInspector": {
   "cols": {
    "lenName": 16,
    "lenType": 16,
    "lenVar": 40
   },
   "kernels_config": {
    "python": {
     "delete_cmd_postfix": "",
     "delete_cmd_prefix": "del ",
     "library": "var_list.py",
     "varRefreshCmd": "print(var_dic_list())"
    },
    "r": {
     "delete_cmd_postfix": ") ",
     "delete_cmd_prefix": "rm(",
     "library": "var_list.r",
     "varRefreshCmd": "cat(var_dic_list()) "
    }
   },
   "types_to_exclude": [
    "module",
    "function",
    "builtin_function_or_method",
    "instance",
    "_Feature"
   ],
   "window_display": false
  }
 },
 "nbformat": 4,
 "nbformat_minor": 4
}
