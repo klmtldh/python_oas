{
 "cells": [
  {
   "cell_type": "code",
   "execution_count": 57,
   "metadata": {},
   "outputs": [
    {
     "name": "stdout",
     "output_type": "stream",
     "text": [
      "          时间   单位   姓名 分类  人数   地址                        摘要 休工（天）  原因分类\n",
      "0 1950-09-10  城西班  传福兴  轻   1  大观街               吊变压器被扒杆打伤背部   NaN  物体打击\n",
      "1 1950-11-14  保卫科  陈蓝泉  轻   1  郭家凹              追捕破坏分子过速跌伤腿部   NaN  其他伤害\n",
      "2 1950-12-22  汤池班  陈海金  轻   1   汤池  运杆上汽车人未上完就行车陈爬上随车门倒下跌伤胸部   NaN  其他伤害\n"
     ]
    },
    {
     "ename": "TypeError",
     "evalue": "'str' object is not callable",
     "output_type": "error",
     "traceback": [
      "\u001b[1;31m---------------------------------------------------------------------------\u001b[0m",
      "\u001b[1;31mTypeError\u001b[0m                                 Traceback (most recent call last)",
      "\u001b[1;32m<ipython-input-57-b573b01c30ac>\u001b[0m in \u001b[0;36m<module>\u001b[1;34m\u001b[0m\n\u001b[0;32m      8\u001b[0m     \u001b[0mx\u001b[0m\u001b[1;33m=\u001b[0m\u001b[1;33m[\u001b[0m\u001b[1;33m]\u001b[0m\u001b[1;33m\u001b[0m\u001b[1;33m\u001b[0m\u001b[0m\n\u001b[0;32m      9\u001b[0m     \u001b[1;32mfor\u001b[0m \u001b[0mi\u001b[0m \u001b[1;32min\u001b[0m \u001b[0mrange\u001b[0m\u001b[1;33m(\u001b[0m\u001b[0mlen\u001b[0m\u001b[1;33m(\u001b[0m\u001b[0mrow\u001b[0m\u001b[1;33m[\u001b[0m\u001b[1;36m1\u001b[0m\u001b[1;33m]\u001b[0m\u001b[1;33m)\u001b[0m\u001b[1;33m)\u001b[0m\u001b[1;33m:\u001b[0m\u001b[1;33m\u001b[0m\u001b[1;33m\u001b[0m\u001b[0m\n\u001b[1;32m---> 10\u001b[1;33m         \u001b[0mx\u001b[0m\u001b[1;33m.\u001b[0m\u001b[0mappend\u001b[0m\u001b[1;33m(\u001b[0m\u001b[0mrow\u001b[0m\u001b[1;33m[\u001b[0m\u001b[1;36m1\u001b[0m\u001b[1;33m]\u001b[0m\u001b[1;33m.\u001b[0m\u001b[0mindex\u001b[0m\u001b[1;33m[\u001b[0m\u001b[0mi\u001b[0m\u001b[1;33m]\u001b[0m\u001b[1;33m+\u001b[0m\u001b[1;34m'：'\u001b[0m\u001b[1;33m+\u001b[0m\u001b[0mstr\u001b[0m\u001b[1;33m(\u001b[0m\u001b[0mrow\u001b[0m\u001b[1;33m[\u001b[0m\u001b[1;36m1\u001b[0m\u001b[1;33m]\u001b[0m\u001b[1;33m[\u001b[0m\u001b[0mrow\u001b[0m\u001b[1;33m[\u001b[0m\u001b[1;36m1\u001b[0m\u001b[1;33m]\u001b[0m\u001b[1;33m.\u001b[0m\u001b[0mindex\u001b[0m\u001b[1;33m[\u001b[0m\u001b[0mi\u001b[0m\u001b[1;33m]\u001b[0m\u001b[1;33m]\u001b[0m\u001b[1;33m)\u001b[0m\u001b[1;33m+\u001b[0m\u001b[1;34m'\\n'\u001b[0m\u001b[1;33m)\u001b[0m\u001b[1;33m\u001b[0m\u001b[1;33m\u001b[0m\u001b[0m\n\u001b[0m\u001b[0;32m     11\u001b[0m     \u001b[0my\u001b[0m\u001b[1;33m.\u001b[0m\u001b[0mappend\u001b[0m\u001b[1;33m(\u001b[0m\u001b[1;34m''\u001b[0m\u001b[1;33m.\u001b[0m\u001b[0mjoin\u001b[0m\u001b[1;33m(\u001b[0m\u001b[0mx\u001b[0m\u001b[1;33m)\u001b[0m\u001b[1;33m)\u001b[0m\u001b[1;33m\u001b[0m\u001b[1;33m\u001b[0m\u001b[0m\n\u001b[0;32m     12\u001b[0m \u001b[1;33m\u001b[0m\u001b[0m\n",
      "\u001b[1;31mTypeError\u001b[0m: 'str' object is not callable"
     ]
    }
   ],
   "source": [
    "import pandas as pd\n",
    "df=pd.read_excel(r'D:\\我的坚果云\\我的坚果云\\1-Work-工作\\110-Work-Operation management-运营管理\\110-Work-Template-模板\\工伤统计.xlsx',engine='openpyxl')\n",
    "df=df.head(3)\n",
    "\n",
    "print(df)\n",
    "y=[]\n",
    "for row in df.iterrows():\n",
    "    x=[]\n",
    "    for i in range(len(row[1])):\n",
    "        x.append(row[1].index[i]+'：'+str(row[1][row[1].index[i]])+'\\n')\n",
    "    y.append(''.join(x))\n",
    "    \n",
    "    #print(''.join(str(row[1].to_list())))\n",
    "print(y)\n",
    "\n",
    "    "
   ]
  },
  {
   "cell_type": "code",
   "execution_count": 3,
   "metadata": {},
   "outputs": [
    {
     "name": "stdout",
     "output_type": "stream",
     "text": [
      "1031111111.34\n",
      "1拾0亿3仟1佰1拾1万1仟1佰1拾13角4分\n",
      "壹拾零亿叁仟壹佰壹拾壹万壹仟壹佰壹拾壹叁角肆分\n"
     ]
    }
   ],
   "source": [
    "# -*- coding:utf-8 -*-\n",
    "# date: 2018-02-28 11:48\n",
    "\n",
    "\n",
    "def digital_to_chinese(digital):\n",
    "    str_digital = str(digital)\n",
    "    chinese = {'1': '壹', '2': '贰', '3': '叁', '4': '肆', '5': '伍', '6': '陆', '7': '柒', '8': '捌', '9': '玖', '0': '零'}\n",
    "    chinese2 = ['拾', '佰', '仟', '万', '厘', '分', '角']\n",
    "    jiao = ''\n",
    "    bs = str_digital.split('.')\n",
    "    yuan = bs[0]\n",
    "    if len(bs) > 1:\n",
    "        jiao = bs[1]\n",
    "    r_yuan = [i for i in reversed(yuan)]\n",
    "    count = 0\n",
    "    for i in range(len(yuan)):\n",
    "        if i == 0:\n",
    "            r_yuan[i] += ''\n",
    "            continue\n",
    "        r_yuan[i] += chinese2[count]\n",
    "        count += 1\n",
    "        if count == 4:\n",
    "            count = 0\n",
    "            chinese2[3] = '亿'\n",
    "\n",
    "    s_jiao = [i for i in jiao][:3]  # 去掉小于厘之后的\n",
    "\n",
    "    j_count = -1\n",
    "    for i in range(len(s_jiao)):\n",
    "        s_jiao[i] += chinese2[j_count]\n",
    "        j_count -= 1\n",
    "    last = [i for i in reversed(r_yuan)] + s_jiao\n",
    "\n",
    "    last_str = ''.join(last)\n",
    "    print(str_digital)\n",
    "    print(last_str)\n",
    "    last_str = last_str.replace('0百', '0').replace('0十', '0').replace('000', '0').replace('00', '0').replace('0圆', '圆')\n",
    "    for i in range(len(last_str)):\n",
    "        digital = last_str[i]\n",
    "        if digital in chinese:\n",
    "            last_str = last_str.replace(digital, chinese[digital])\n",
    "    print(last_str)\n",
    "    return last_str\n",
    "\n",
    "\n",
    "if __name__ == '__main__':\n",
    "    digital_to_chinese(1031111111.34)"
   ]
  },
  {
   "cell_type": "code",
   "execution_count": null,
   "metadata": {},
   "outputs": [],
   "source": []
  },
  {
   "cell_type": "code",
   "execution_count": null,
   "metadata": {},
   "outputs": [],
   "source": []
  },
  {
   "cell_type": "code",
   "execution_count": null,
   "metadata": {},
   "outputs": [],
   "source": []
  }
 ],
 "metadata": {
  "kernelspec": {
   "display_name": "Python 3",
   "language": "python",
   "name": "python3"
  },
  "language_info": {
   "codemirror_mode": {
    "name": "ipython",
    "version": 3
   },
   "file_extension": ".py",
   "mimetype": "text/x-python",
   "name": "python",
   "nbconvert_exporter": "python",
   "pygments_lexer": "ipython3",
   "version": "3.8.5"
  },
  "toc": {
   "base_numbering": 1,
   "nav_menu": {},
   "number_sections": true,
   "sideBar": true,
   "skip_h1_title": false,
   "title_cell": "Table of Contents",
   "title_sidebar": "Contents",
   "toc_cell": false,
   "toc_position": {},
   "toc_section_display": true,
   "toc_window_display": false
  },
  "varInspector": {
   "cols": {
    "lenName": 16,
    "lenType": 16,
    "lenVar": 40
   },
   "kernels_config": {
    "python": {
     "delete_cmd_postfix": "",
     "delete_cmd_prefix": "del ",
     "library": "var_list.py",
     "varRefreshCmd": "print(var_dic_list())"
    },
    "r": {
     "delete_cmd_postfix": ") ",
     "delete_cmd_prefix": "rm(",
     "library": "var_list.r",
     "varRefreshCmd": "cat(var_dic_list()) "
    }
   },
   "types_to_exclude": [
    "module",
    "function",
    "builtin_function_or_method",
    "instance",
    "_Feature"
   ],
   "window_display": false
  }
 },
 "nbformat": 4,
 "nbformat_minor": 4
}
