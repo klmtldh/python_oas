{
 "cells": [
  {
   "cell_type": "markdown",
   "id": "monthly-thought",
   "metadata": {},
   "source": [
    "# 数字转星期"
   ]
  },
  {
   "cell_type": "code",
   "execution_count": 108,
   "id": "plastic-destiny",
   "metadata": {},
   "outputs": [
    {
     "name": "stdout",
     "output_type": "stream",
     "text": [
      "number_to_chinese_week_number time elapsed: 0.00000\n",
      "number_to_chinese_week_number time elapsed: 0.00000\n",
      "number_to_chinese_week_number time elapsed: 0.00000\n",
      "number_to_chinese_week_number time elapsed: 0.00000\n",
      "number_to_chinese_week_number time elapsed: 0.00000\n",
      "number_to_chinese_week_number time elapsed: 0.00000\n",
      "number_to_chinese_week_number time elapsed: 0.00000\n",
      "number_to_chinese_week_number time elapsed: 0.00000\n",
      "number_to_chinese_week_number time elapsed: 0.00000\n",
      "number_to_chinese_week_number time elapsed: 0.00000\n",
      "None\n"
     ]
    },
    {
     "data": {
      "text/plain": [
       "['日', '一', '二', '三', '四', '五', '六', '日', None, None]"
      ]
     },
     "execution_count": 108,
     "metadata": {},
     "output_type": "execute_result"
    }
   ],
   "source": [
    "from time import time\n",
    "\n",
    "\n",
    "def logging_time(func):\n",
    "    def logged(*args, **kwargs):\n",
    "        start_time = time()\n",
    "        ret=func(*args, **kwargs)\n",
    "        elapsed_time = time() - start_time\n",
    "        print(f\"{func.__name__} time elapsed: {elapsed_time:.5f}\")\n",
    "        return ret\n",
    "    return logged\n",
    "\n",
    "\n",
    "\n",
    "@ logging_time\n",
    "def number_to_chinese_week_number(num):\n",
    "    \"\"\"\n",
    "    功能：输入数字0-7,0、7转换为日，其余转换为中文数字。\n",
    "    num：可以是数字，也可以是字符，范围必须是0-7，超过7的数字返回None\n",
    "    return:str类型\n",
    "    例子：w = [number_to_chinese_week_number(i) for i in range(10)]\n",
    "    输出：['日', '一', '二', '三', '四', '五', '六', '日', None, None]\n",
    "    \"\"\"\n",
    "    num_dict = { '0': '日','1': '一', '2': '二', '3': '三', '4': '四', '5': '五', '6': '六', '7': '日' }\n",
    "    if int(num) <=7:\n",
    "        num_str = str(num)\n",
    "        week = num_dict[num_str]\n",
    "    else:\n",
    "        week = None\n",
    "    return week\n",
    "if __name__ == '__main__':\n",
    "    w = [number_to_chinese_week_number(i) for i in range(10)]\n",
    "    print(number_to_chinese_week_number.__doc__)\n",
    "w\n",
    "\n",
    "    \n"
   ]
  },
  {
   "cell_type": "code",
   "execution_count": null,
   "id": "wireless-simpson",
   "metadata": {},
   "outputs": [],
   "source": []
  },
  {
   "cell_type": "code",
   "execution_count": 78,
   "id": "affected-leisure",
   "metadata": {},
   "outputs": [
    {
     "name": "stdout",
     "output_type": "stream",
     "text": [
      "None\n",
      "\n",
      "    功能：计算函数消耗时间；\n",
      "    参数：func 类型：函数\n",
      "    返回：打印被装饰函数运行时间的函数。\n",
      "    \n",
      "number_to_chinese_number time elapsed: 0.00000\n"
     ]
    },
    {
     "data": {
      "text/plain": [
       "'一万〇一十'"
      ]
     },
     "execution_count": 78,
     "metadata": {},
     "output_type": "execute_result"
    }
   ],
   "source": [
    "import re\n",
    "from time import time\n",
    "\n",
    "\n",
    "def elapsed_time(func):\n",
    "    \"\"\"\n",
    "    功能：计算函数消耗时间；\n",
    "    参数：func 类型：函数\n",
    "    返回：打印被装饰函数运行时间的函数。\n",
    "    \"\"\"\n",
    "    def elapsed(*args, **kwargs):\n",
    "        start_time = time()\n",
    "        ret = func(*args, **kwargs)\n",
    "        elapsed_time = time() - start_time\n",
    "        print(f\"{func.__name__} time elapsed: {elapsed_time:.5f}\")\n",
    "        return ret\n",
    "    return elapsed\n",
    "\n",
    "\n",
    "@ elapsed_time\n",
    "def number_to_chinese_number(num,flag='complex',financial='no'):\n",
    "    \"\"\"\n",
    "    功能：阿拉伯数字转中文数字;\n",
    "    参数：num Type int or str为输入阿拉伯数字;\n",
    "          flag 为输出方式：'complex'为输出带单位中文数字，不能超过10亿；\n",
    "                           'simple'为不带单位中文数字，可以任意大；\n",
    "                           'week' 为星期中文数字，范围0-7；0和7认为是周日。\n",
    "          financial str 是否开启财务计算\n",
    "    返回：chinese_number，Type str。\n",
    "    \"\"\"\n",
    "    num_dict = {'1': '一', '2': '二', '3': '三', '4': '四', '5': '五', '6': '六', '7': '七', '8': '八', '9': '九',\n",
    "                    '0': '〇', }\n",
    "    nums = list(str(num))\n",
    "    chinese_number = ''\n",
    "    if flag == 'complex':\n",
    "        index_dict = {1: '', 2: '十', 3: '百', 4: '千', 5: '万', 6: '十', 7: '百', 8: '千', 9: '亿',10:'十',\n",
    "                     11:'百',12:'千',13:'万',14:'亿',15:'十',16:'百',17:'千',18:'万',19:'亿'}\n",
    "        try:\n",
    "            nums_index = [x for x in range(1, len(nums) + 1)][-1::-1]\n",
    "            \n",
    "            for index, item in enumerate(nums):\n",
    "                chinese_number = \"\".join((chinese_number, num_dict[item], index_dict[nums_index[index]]))\n",
    "            chinese_number = re.sub(\"〇[十百千〇]*\", \"〇\", chinese_number)\n",
    "            chinese_number = re.sub(\"〇亿\", \"亿\", chinese_number)\n",
    "            chinese_number = re.sub(\"〇万\", \"万\", chinese_number)\n",
    "            chinese_number = re.sub(\"亿万\", \"亿〇\", chinese_number)\n",
    "            chinese_number = re.sub(\"〇〇\", \"〇\", chinese_number)\n",
    "            if chinese_number != '〇':\n",
    "                chinese_number = re.sub(\"〇\\\\b\", \"\", chinese_number)\n",
    "        except Exception:\n",
    "            return '输入不能大于亿亿亿，期待下次改进。'\n",
    "        \n",
    "    elif flag == 'simple':\n",
    "        chinese_number_list = list(map(lambda x: num_dict[x],nums))\n",
    "        chinese_number = '' .join(chinese_number_list)\n",
    "    elif flag == 'week':\n",
    "        num_dict = { '0': '日','1': '一', '2': '二', '3': '三', '4': '四', '5': '五', '6': '六', '7': '日' }\n",
    "        if int(num) <=7:\n",
    "            num_str = str(num)\n",
    "            chinese_number = num_dict[num_str]\n",
    "        else:\n",
    "            chinese_number = None\n",
    "    return chinese_number\n",
    "if __name__ == '__main__':\n",
    "#     w = [number_to_chinese_number(i) for i in range(32334,32389,1)]\n",
    "    print(number_to_chinese_number.__doc__)\n",
    "    print(elapsed_time.__doc__)\n",
    "    w =number_to_chinese_number(10010)\n",
    "w"
   ]
  },
  {
   "cell_type": "code",
   "execution_count": 168,
   "id": "smooth-growing",
   "metadata": {},
   "outputs": [
    {
     "data": {
      "text/plain": [
       "'壹亿零捌仟叁佰贰拾壹元零整'"
      ]
     },
     "execution_count": 168,
     "metadata": {},
     "output_type": "execute_result"
    }
   ],
   "source": [
    "def number_to_chinese_number(num,flag='complex',financial='no'):\n",
    "    \"\"\"\n",
    "    功能：阿拉伯数字转中文数字;\n",
    "    参数：num Type int or str为输入阿拉伯数字;\n",
    "          flag 为输出方式：'complex'为输出带单位中文数字，不能超过10亿；\n",
    "                           'simple'为不带单位中文数字，可以任意大；\n",
    "                           'week' 为星期中文数字，范围0-7；0和7认为是周日。\n",
    "          financial str 是否开启财务计算，num可以为小数。\n",
    "    返回：chinese_number，Type str。\n",
    "    \"\"\"\n",
    "    chinese_number = ''\n",
    "    if financial =='no':\n",
    "        num_dict = {'1': '一', '2': '二', '3': '三', '4': '四', '5': '五', '6': '六', '7': '七', '8': '八', '9': '九',\n",
    "                        '0': '〇', }\n",
    "        nums = list(str(num))\n",
    "        \n",
    "        if flag == 'complex':\n",
    "            index_dict = {1: '', 2: '十', 3: '百', 4: '千', 5: '万', 6: '十', 7: '百', 8: '千', 9: '亿',10:'十',\n",
    "                         11:'百',12:'千',13:'万',14:'亿',15:'十',16:'百',17:'千',18:'万',19:'亿'}\n",
    "            try:\n",
    "                nums_index = [x for x in range(1, len(nums) + 1)][-1::-1]\n",
    "\n",
    "                for index, item in enumerate(nums):\n",
    "                    chinese_number = \"\".join((chinese_number, num_dict[item], index_dict[nums_index[index]]))\n",
    "                chinese_number = re.sub(\"〇[十百千〇]*\", \"〇\", chinese_number)\n",
    "                chinese_number = re.sub(\"〇亿\", \"亿\", chinese_number)\n",
    "                chinese_number = re.sub(\"〇万\", \"万\", chinese_number)\n",
    "                chinese_number = re.sub(\"亿万\", \"亿〇\", chinese_number)\n",
    "                chinese_number = re.sub(\"〇〇\", \"〇\", chinese_number)\n",
    "                if chinese_number != '〇':\n",
    "                    chinese_number = re.sub(\"〇\\\\b\", \"\", chinese_number)\n",
    "            except Exception:\n",
    "                return '输入不能大于亿亿亿，期待下次改进。'\n",
    "\n",
    "        elif flag == 'simple':\n",
    "            chinese_number_list = list(map(lambda x: num_dict[x],nums))\n",
    "            chinese_number = '' .join(chinese_number_list)\n",
    "        elif flag == 'week':\n",
    "            num_dict = { '0': '日','1': '一', '2': '二', '3': '三', '4': '四', '5': '五', '6': '六', '7': '日' }\n",
    "            if int(num) <=7:\n",
    "                num_str = str(num)\n",
    "                chinese_number = num_dict[num_str]\n",
    "            else:\n",
    "                chinese_number = None\n",
    "    elif financial == 'yes':\n",
    "        number_arab='0123456789'\n",
    "        number_str='零壹贰叁肆伍陆柒捌玖'\n",
    "        #数值字典numDic,和阿拉伯数字是简单的一一对应关系\n",
    "        number_dict=dict(zip(number_arab,number_str))\n",
    "        \n",
    "        unit_arab=(-2,-1,1,2,3,4,5,6,7,8,9,10,11,12,13,14,15,16)\n",
    "        unit_str='角分元拾佰仟万亿拾佰仟万亿拾佰仟万亿'\n",
    "        unit_dict=dict(zip(unit_arab,unit_str))\n",
    "        \n",
    "        number_str = str(num)\n",
    "\n",
    "        \n",
    "        integer_part_number = ''\n",
    "        decimal_part_number = ''\n",
    "        try:\n",
    "            if '.'in number_str:\n",
    "                integer_part,decimal_part =number_str.split('.')             \n",
    "            else:\n",
    "                integer_part = number_str\n",
    "                decimal_part = '0'\n",
    "            decimal_part=decimal_part[0:2]            \n",
    "            integer_part = list(integer_part)\n",
    "         \n",
    "            decimal_part=list(decimal_part)\n",
    "            \n",
    "            nums_index = [x for x in range(1, len(integer_part) + 1)][-1::-1]            \n",
    "            for index, item in enumerate(integer_part):\n",
    "                integer_part_number = \"\".join((integer_part_number, number_dict[item], unit_dict[nums_index[index]]))\n",
    "            integer_part_number = re.sub(\"零[拾佰仟零]*\", \"零\", integer_part_number)\n",
    "            integer_part_number = re.sub(\"零亿\", \"亿\", integer_part_number)\n",
    "            integer_part_number = re.sub(\"零万\", \"万\", integer_part_number)\n",
    "            integer_part_number = re.sub(\"亿万\", \"亿零\", integer_part_number)\n",
    "            integer_part_number = re.sub(\"零零\", \"零\", integer_part_number)\n",
    "            integer_part_number = re.sub(\"零元\", \"元\", integer_part_number)\n",
    "            if integer_part_number != '零':\n",
    "                integer_part_number = re.sub(\"零\\\\b\", \"\", integer_part_number)\n",
    "            \n",
    "            if len(decimal_part) == 1:\n",
    "                decimal_part_number = number_dict[decimal_part[0]]+'角'\n",
    "                decimal_part_number = re.sub(\"零角\", \"整\", decimal_part_number)\n",
    "            elif len(decimal_part) == 2:\n",
    "                            \n",
    "                nums_index = [x for x in range(1, len(decimal_part) + 1)][-1::-1] \n",
    "                for index, item in enumerate(decimal_part):\n",
    "                    decimal_part_number = \"\".join((decimal_part_number, number_dict[item], unit_dict[-nums_index[index]]))\n",
    "                decimal_part_number = re.sub(\"零角\", \"零\", decimal_part_number)\n",
    "                decimal_part_number = re.sub(\"零分\", \"整\", decimal_part_number)\n",
    "            chinese_number=integer_part_number+ decimal_part_number\n",
    "        except Exception as e:\n",
    "            print(str(e))\n",
    "            return '输入不能大于亿亿亿，期待下次改进。'\n",
    "    return chinese_number\n",
    "if __name__ == '__main__':\n",
    "    w =number_to_chinese_number('108321.00',financial='yes')\n",
    "w"
   ]
  },
  {
   "cell_type": "code",
   "execution_count": 152,
   "id": "sexual-underwear",
   "metadata": {},
   "outputs": [
    {
     "name": "stdout",
     "output_type": "stream",
     "text": [
      "1\n"
     ]
    }
   ],
   "source": [
    "if '.'in '3.2':\n",
    "    print('1')"
   ]
  },
  {
   "cell_type": "code",
   "execution_count": null,
   "id": "coordinated-barcelona",
   "metadata": {},
   "outputs": [],
   "source": []
  }
 ],
 "metadata": {
  "kernelspec": {
   "display_name": "Python 3",
   "language": "python",
   "name": "python3"
  },
  "language_info": {
   "codemirror_mode": {
    "name": "ipython",
    "version": 3
   },
   "file_extension": ".py",
   "mimetype": "text/x-python",
   "name": "python",
   "nbconvert_exporter": "python",
   "pygments_lexer": "ipython3",
   "version": "3.8.5"
  },
  "toc": {
   "base_numbering": 1,
   "nav_menu": {},
   "number_sections": true,
   "sideBar": true,
   "skip_h1_title": false,
   "title_cell": "Table of Contents",
   "title_sidebar": "Contents",
   "toc_cell": false,
   "toc_position": {},
   "toc_section_display": true,
   "toc_window_display": false
  },
  "varInspector": {
   "cols": {
    "lenName": 16,
    "lenType": 16,
    "lenVar": 40
   },
   "kernels_config": {
    "python": {
     "delete_cmd_postfix": "",
     "delete_cmd_prefix": "del ",
     "library": "var_list.py",
     "varRefreshCmd": "print(var_dic_list())"
    },
    "r": {
     "delete_cmd_postfix": ") ",
     "delete_cmd_prefix": "rm(",
     "library": "var_list.r",
     "varRefreshCmd": "cat(var_dic_list()) "
    }
   },
   "types_to_exclude": [
    "module",
    "function",
    "builtin_function_or_method",
    "instance",
    "_Feature"
   ],
   "window_display": false
  }
 },
 "nbformat": 4,
 "nbformat_minor": 5
}
