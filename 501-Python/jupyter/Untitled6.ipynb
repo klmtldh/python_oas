{
 "cells": [
  {
   "cell_type": "markdown",
   "metadata": {},
   "source": [
    "#pandas按照指定list排序"
   ]
  },
  {
   "cell_type": "code",
   "execution_count": 9,
   "metadata": {},
   "outputs": [
    {
     "name": "stdout",
     "output_type": "stream",
     "text": [
      "a    1\n",
      "b    2\n",
      "c    3\n",
      "dtype: int64\n",
      "Index(['a', 'b', 'c'], dtype='object')\n",
      "['b', 'a', 'c']\n",
      "  words  number\n",
      "1     b       2\n",
      "0     a       1\n",
      "2     c       3\n"
     ]
    }
   ],
   "source": [
    "import pandas as pd\n",
    "s = pd.Series({'a':1,'b':2,'c':3})\n",
    "list_custom = ['b', 'a', 'c']\n",
    "df = pd.DataFrame(s)\n",
    "df = df.reset_index()\n",
    "df.columns = ['words', 'number']\n",
    "df['words'] = df['words'].astype('category')\n",
    "# inplace = True，使 recorder_categories生效\n",
    "df['words'].cat.reorder_categories(list_custom, inplace=True)\n",
    "\n",
    "# inplace = True，使 df生效\n",
    "df.sort_values('words', inplace=True)\n",
    "\n",
    "\n",
    "print(s)\n",
    "print(s.index)\n",
    "print(list_custom)\n",
    "print(df)"
   ]
  },
  {
   "cell_type": "code",
   "execution_count": null,
   "metadata": {},
   "outputs": [],
   "source": [
    "import pandas as pd\n",
    "s = pd.Series({'a':1,'b':2,'c':3})\n",
    "list_custom = ['b', 'a', 'c']\n",
    "df = pd.DataFrame(s)\n",
    "df = df.reset_index()\n",
    "df.columns = ['words', 'number']\n",
    "df['words'] = df['words'].astype('category')\n",
    "# inplace = True，使 recorder_categories生效\n",
    "df['words'].cat.reorder_categories(list_custom, inplace=True)\n",
    "\n",
    "# inplace = True，使 df生效\n",
    "df.sort_values('words', inplace=True)\n",
    "\n",
    "\n",
    "print(s)\n",
    "print(s.index)\n",
    "print(list_custom)\n",
    "print(df)"
   ]
  },
  {
   "cell_type": "code",
   "execution_count": 10,
   "metadata": {},
   "outputs": [
    {
     "name": "stdout",
     "output_type": "stream",
     "text": [
      "['d', 'c', 'b', 'a', 'e']\n",
      "  words  value\n",
      "1     b      2\n",
      "2     c      3\n",
      "0     e      1\n"
     ]
    }
   ],
   "source": [
    "list_custom_new = ['d', 'c', 'b','a','e']\n",
    "dict_new = {'e':1, 'b':2, 'c':3}\n",
    "df_new = pd.DataFrame(list(dict_new.items()), columns=['words', 'value'])\n",
    "print(list_custom_new)\n",
    "df_new.sort_values('words', inplace=True)\n",
    "df_new\n",
    "df_new['words'] = df_new['words'].astype('category')\n",
    "\n",
    "# inplace = True，使 set_categories生效\n",
    "df_new['words'].cat.set_categories(list_custom_new, inplace=True)\n",
    "\n",
    "df_new.sort_values('words', ascending=True,inplace=True)\n",
    "print(df_new)\n"
   ]
  },
  {
   "cell_type": "code",
   "execution_count": 62,
   "metadata": {},
   "outputs": [
    {
     "name": "stdout",
     "output_type": "stream",
     "text": [
      "index\n",
      "c    3\n",
      "b    2\n",
      "a    1\n",
      "dtype: int64\n",
      "<class 'pandas.core.series.Series'>\n"
     ]
    }
   ],
   "source": [
    "import pandas as pd\n",
    "def sort_list(series,list_sort):\n",
    "    df=pd.DataFrame(series)\n",
    "    df = df.reset_index()\n",
    "    df.columns = ['index', 'values']\n",
    "    df['index']=df['index'].astype('category')\n",
    "    df['index'].cat.set_categories(list_sort, inplace=True)\n",
    "    df.sort_values('index', ascending=True, inplace=True)\n",
    "    #df=df.set_index('index',drop=True)\n",
    "    s = pd.Series(df['values'].values,index = df['index'])\n",
    "    return s\n",
    "list_custom_new = ['d', 'c', 'b','a','e']\n",
    "s = pd.Series({'a':1,'b':2,'c':3})\n",
    "sl=sort_list(s,list_custom_new)\n",
    "print(sl)\n",
    "print(type(sl))"
   ]
  },
  {
   "cell_type": "code",
   "execution_count": null,
   "metadata": {},
   "outputs": [],
   "source": []
  },
  {
   "cell_type": "code",
   "execution_count": null,
   "metadata": {},
   "outputs": [],
   "source": []
  }
 ],
 "metadata": {
  "kernelspec": {
   "display_name": "Python 3",
   "language": "python",
   "name": "python3"
  },
  "language_info": {
   "codemirror_mode": {
    "name": "ipython",
    "version": 3
   },
   "file_extension": ".py",
   "mimetype": "text/x-python",
   "name": "python",
   "nbconvert_exporter": "python",
   "pygments_lexer": "ipython3",
   "version": "3.8.5"
  }
 },
 "nbformat": 4,
 "nbformat_minor": 4
}
